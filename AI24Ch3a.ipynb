{
  "nbformat": 4,
  "nbformat_minor": 0,
  "metadata": {
    "colab": {
      "provenance": [],
      "include_colab_link": true
    },
    "kernelspec": {
      "name": "python3",
      "display_name": "Python 3"
    }
  },
  "cells": [
    {
      "cell_type": "markdown",
      "metadata": {
        "id": "view-in-github",
        "colab_type": "text"
      },
      "source": [
        "<a href=\"https://colab.research.google.com/github/anushkapatwa/CSCI-164/blob/main/AI24Ch3a.ipynb\" target=\"_parent\"><img src=\"https://colab.research.google.com/assets/colab-badge.svg\" alt=\"Open In Colab\"/></a>"
      ]
    },
    {
      "cell_type": "code",
      "metadata": {
        "id": "Gbe5KqWcISTq"
      },
      "source": [
        "import random\n",
        "import heapq"
      ],
      "execution_count": 76,
      "outputs": []
    },
    {
      "cell_type": "markdown",
      "metadata": {
        "id": "PHnbnN2uV8zr"
      },
      "source": [
        "# Tile Sliding Domain: Initial State Space"
      ]
    },
    {
      "cell_type": "code",
      "metadata": {
        "id": "jPCNOa4W-5yq"
      },
      "source": [
        "StateDimension=4\n",
        "InitialState = [1,2,3,4,11,12,6,5,0,14,15,7,8,9,10,13]\n",
        "GoalState=[1,2,3,4,5,6,7,8,0,9,10,11,12,13,14,15]\n",
        "Actions = lambda s: ['u', 'd', 'l', 'r']\n",
        "Opposite=dict([('u','d'),('d','u'),('l','r'),('r','l'), (None, None)])"
      ],
      "execution_count": 77,
      "outputs": []
    },
    {
      "cell_type": "code",
      "metadata": {
        "id": "XjnzkkC8_HE8"
      },
      "source": [
        "def Result(state, action):\n",
        "  i = state.index(0)\n",
        "  newState = list(state)\n",
        "  row,col=i//StateDimension, i % StateDimension\n",
        "  if ( (action=='u' and row==0) or\n",
        "       (action=='d' and row==StateDimension-1) or\n",
        "       (action=='l' and col==0) or\n",
        "       (action=='r' and col==StateDimension-1)):\n",
        "      return newState\n",
        "  if action=='u':\n",
        "    l,r = row*StateDimension+col, (row-1)*StateDimension+col\n",
        "  elif action=='d':\n",
        "    l,r = row*StateDimension+col, (row+1)*StateDimension+col\n",
        "  elif action=='l':\n",
        "    l,r = row*StateDimension+col, row*StateDimension+col-1\n",
        "  elif action=='r' :\n",
        "    l,r = row*StateDimension+col, row*StateDimension+col+1\n",
        "  newState[l], newState[r] = newState[r], newState[l]\n",
        "  return newState\n",
        "\n",
        "def PrintState(s):\n",
        "  for i in range(0,len(s),StateDimension):\n",
        "    print(s[i:i+StateDimension])\n",
        "\n",
        "def LegalMove(state, action):\n",
        "  i = state.index(0)\n",
        "  row,col=i//StateDimension, i % StateDimension\n",
        "  newState = state.copy()\n",
        "  if ( (action=='u' and row==0) or\n",
        "       (action=='d' and row==StateDimension-1) or\n",
        "       (action=='l' and col==0) or\n",
        "       (action=='r' and col==StateDimension-1)):\n",
        "      return False\n",
        "  return True\n"
      ],
      "execution_count": 78,
      "outputs": []
    },
    {
      "cell_type": "code",
      "metadata": {
        "id": "4z6hE5HsNwHf"
      },
      "source": [
        "def SingleTileManhattanDistance(tile, left, right):\n",
        "  leftIndex = left.index(tile)\n",
        "  rightIndex = right.index(tile)\n",
        "  return (abs(leftIndex//StateDimension-rightIndex//StateDimension) +\n",
        "          abs(leftIndex%StateDimension-rightIndex%StateDimension))\n",
        "\n",
        "def ManhattanDistance(left, right):\n",
        "  distances = [SingleTileManhattanDistance(tile, left, right)\n",
        "     for tile in range(1, StateDimension**2)]\n",
        "  ### print (\"Distances= \", distances)\n",
        "  return sum(distances)\n"
      ],
      "execution_count": 79,
      "outputs": []
    },
    {
      "cell_type": "code",
      "metadata": {
        "id": "7PE_gAdLSY_z"
      },
      "source": [
        "def OutOfPlace(left, right):\n",
        "  distances = [left[i]!=right[i] and right[i] != 0\n",
        "     for i in range(StateDimension**2)]\n",
        "  return sum(distances)"
      ],
      "execution_count": 80,
      "outputs": []
    },
    {
      "cell_type": "code",
      "metadata": {
        "colab": {
          "base_uri": "https://localhost:8080/"
        },
        "id": "bE7MrTAI_t6i",
        "outputId": "3f5d2073-fd63-48e0-a994-7213ebb70fe6"
      },
      "source": [
        "PrintState(InitialState)"
      ],
      "execution_count": 81,
      "outputs": [
        {
          "output_type": "stream",
          "name": "stdout",
          "text": [
            "[1, 2, 3, 4]\n",
            "[11, 12, 6, 5]\n",
            "[0, 14, 15, 7]\n",
            "[8, 9, 10, 13]\n"
          ]
        }
      ]
    },
    {
      "cell_type": "code",
      "metadata": {
        "colab": {
          "base_uri": "https://localhost:8080/"
        },
        "id": "wRULKFeXVcp3",
        "outputId": "c706128d-638c-4bb1-9b63-69356d7053a3"
      },
      "source": [
        "PrintState(GoalState)"
      ],
      "execution_count": 82,
      "outputs": [
        {
          "output_type": "stream",
          "name": "stdout",
          "text": [
            "[1, 2, 3, 4]\n",
            "[5, 6, 7, 8]\n",
            "[0, 9, 10, 11]\n",
            "[12, 13, 14, 15]\n"
          ]
        }
      ]
    },
    {
      "cell_type": "code",
      "metadata": {
        "colab": {
          "base_uri": "https://localhost:8080/"
        },
        "id": "Ke12RA7cPaS9",
        "outputId": "50c70b01-8da0-4c40-c12c-0bbc660c033b"
      },
      "source": [
        "print(\"ManhattanDistance=  \", ManhattanDistance(InitialState, GoalState))\n",
        "print(\"OutOfPlace= \", OutOfPlace(InitialState, GoalState))\n"
      ],
      "execution_count": 83,
      "outputs": [
        {
          "output_type": "stream",
          "name": "stdout",
          "text": [
            "ManhattanDistance=   26\n",
            "OutOfPlace=  11\n"
          ]
        }
      ]
    },
    {
      "cell_type": "code",
      "metadata": {
        "colab": {
          "base_uri": "https://localhost:8080/"
        },
        "id": "j-EYW_gqGZtl",
        "outputId": "90578658-361e-490f-b0f4-ed2f4f91a1b8"
      },
      "source": [
        "PrintState(InitialState)\n",
        "print()\n",
        "state1 = Result(InitialState, 'u')\n",
        "PrintState(state1)\n",
        "print()\n",
        "state1 = Result(state1, 'r')\n",
        "PrintState(state1)"
      ],
      "execution_count": 84,
      "outputs": [
        {
          "output_type": "stream",
          "name": "stdout",
          "text": [
            "[1, 2, 3, 4]\n",
            "[11, 12, 6, 5]\n",
            "[0, 14, 15, 7]\n",
            "[8, 9, 10, 13]\n",
            "\n",
            "[1, 2, 3, 4]\n",
            "[0, 12, 6, 5]\n",
            "[11, 14, 15, 7]\n",
            "[8, 9, 10, 13]\n",
            "\n",
            "[1, 2, 3, 4]\n",
            "[12, 0, 6, 5]\n",
            "[11, 14, 15, 7]\n",
            "[8, 9, 10, 13]\n"
          ]
        }
      ]
    },
    {
      "cell_type": "markdown",
      "metadata": {
        "id": "Mp0tnomdTFoC"
      },
      "source": [
        "# Random Walk\n",
        "\n",
        "Take some random moves from a state and return the new state and the sequence of moves.\n",
        "\n",
        "Do not include moves undoing last move, or having no effect."
      ]
    },
    {
      "cell_type": "code",
      "metadata": {
        "id": "1RVh0-S9IFiy"
      },
      "source": [
        "def RandomWalk(state, steps):\n",
        "  actionSequence = []\n",
        "  actionLast = None\n",
        "  for i in range(steps):\n",
        "    action = None\n",
        "    while action==None:\n",
        "      action = random.choice(Actions(state))\n",
        "      action = action if (LegalMove(state, action)\n",
        "          and action!= Opposite[actionLast]) else None\n",
        "    actionLast = action\n",
        "    state = Result(state, action)\n",
        "    actionSequence.append(action)\n",
        "  return state, actionSequence\n",
        "\n"
      ],
      "execution_count": 85,
      "outputs": []
    },
    {
      "cell_type": "code",
      "metadata": {
        "colab": {
          "base_uri": "https://localhost:8080/"
        },
        "id": "wcn5POkxKlER",
        "outputId": "c8b7ac39-aef7-4f7a-fc7a-2ca330993a62"
      },
      "source": [
        "state1, sol = RandomWalk(InitialState, 150)\n",
        "PrintState(state1)\n",
        "print (ManhattanDistance(state1, GoalState), sol)\n",
        "\n",
        "state1, sol = RandomWalk(InitialState, 5)\n",
        "PrintState(InitialState)\n",
        "print (sol)\n",
        "PrintState(state1)"
      ],
      "execution_count": 86,
      "outputs": [
        {
          "output_type": "stream",
          "name": "stdout",
          "text": [
            "[15, 3, 0, 7]\n",
            "[8, 6, 12, 2]\n",
            "[9, 14, 4, 5]\n",
            "[10, 1, 13, 11]\n",
            "38 ['r', 'r', 'd', 'r', 'u', 'u', 'l', 'l', 'l', 'u', 'r', 'd', 'r', 'u', 'l', 'd', 'r', 'r', 'u', 'l', 'd', 'r', 'u', 'l', 'l', 'l', 'd', 'r', 'r', 'r', 'd', 'd', 'l', 'u', 'u', 'l', 'l', 'd', 'd', 'r', 'r', 'u', 'r', 'd', 'l', 'l', 'u', 'u', 'l', 'd', 'd', 'r', 'u', 'u', 'u', 'l', 'd', 'r', 'u', 'l', 'd', 'd', 'd', 'r', 'r', 'u', 'u', 'l', 'u', 'r', 'r', 'd', 'd', 'l', 'd', 'r', 'u', 'l', 'l', 'l', 'd', 'r', 'u', 'r', 'u', 'u', 'r', 'd', 'd', 'd', 'l', 'u', 'l', 'd', 'r', 'u', 'u', 'u', 'r', 'd', 'l', 'u', 'l', 'l', 'd', 'd', 'd', 'r', 'r', 'r', 'u', 'u', 'u', 'l', 'l', 'l', 'd', 'r', 'd', 'r', 'u', 'u', 'r', 'd', 'd', 'd', 'l', 'u', 'r', 'u', 'l', 'l', 'u', 'l', 'd', 'r', 'd', 'd', 'l', 'u', 'u', 'r', 'r', 'u', 'l', 'd', 'l', 'u', 'r', 'r']\n",
            "[1, 2, 3, 4]\n",
            "[11, 12, 6, 5]\n",
            "[0, 14, 15, 7]\n",
            "[8, 9, 10, 13]\n",
            "['u', 'u', 'r', 'r', 'r']\n",
            "[2, 3, 4, 0]\n",
            "[1, 12, 6, 5]\n",
            "[11, 14, 15, 7]\n",
            "[8, 9, 10, 13]\n"
          ]
        }
      ]
    },
    {
      "cell_type": "code",
      "metadata": {
        "id": "Rc_8ohYvNIq-"
      },
      "source": [
        "def ApplyMoves(actions, state):\n",
        "  for action in actions:\n",
        "    state = Result(state, action)\n",
        "  return state"
      ],
      "execution_count": 87,
      "outputs": []
    },
    {
      "cell_type": "code",
      "metadata": {
        "colab": {
          "base_uri": "https://localhost:8080/"
        },
        "id": "Wv7MGqh8NXqy",
        "outputId": "95196e8a-46cd-4535-dde8-81c794c63c40"
      },
      "source": [
        "PrintState(InitialState)\n",
        "print(['r','r'])\n",
        "PrintState(ApplyMoves(['r','r'],InitialState))"
      ],
      "execution_count": 88,
      "outputs": [
        {
          "output_type": "stream",
          "name": "stdout",
          "text": [
            "[1, 2, 3, 4]\n",
            "[11, 12, 6, 5]\n",
            "[0, 14, 15, 7]\n",
            "[8, 9, 10, 13]\n",
            "['r', 'r']\n",
            "[1, 2, 3, 4]\n",
            "[11, 12, 6, 5]\n",
            "[14, 15, 0, 7]\n",
            "[8, 9, 10, 13]\n"
          ]
        }
      ]
    },
    {
      "cell_type": "code",
      "metadata": {
        "id": "_VS2KzQbOHlO"
      },
      "source": [
        "def ReverseMoves(actions):\n",
        "  ret = [Opposite[a] for a in actions]\n",
        "  ret.reverse()\n",
        "  return ret"
      ],
      "execution_count": 89,
      "outputs": []
    },
    {
      "cell_type": "code",
      "metadata": {
        "colab": {
          "base_uri": "https://localhost:8080/"
        },
        "id": "tp_pqYBXOsqS",
        "outputId": "8f0c28f7-2a0f-49cc-80bc-9f458a23e83e"
      },
      "source": [
        "state1, sol = RandomWalk(GoalState, 5)\n",
        "PrintState(state1)\n",
        "print (sol)\n",
        "print(ReverseMoves(sol))\n",
        "PrintState (ApplyMoves(ReverseMoves(sol), state1))\n"
      ],
      "execution_count": 90,
      "outputs": [
        {
          "output_type": "stream",
          "name": "stdout",
          "text": [
            "[1, 2, 3, 4]\n",
            "[5, 6, 7, 8]\n",
            "[12, 0, 9, 11]\n",
            "[13, 14, 10, 15]\n",
            "['d', 'r', 'r', 'u', 'l']\n",
            "['r', 'd', 'l', 'l', 'u']\n",
            "[1, 2, 3, 4]\n",
            "[5, 6, 7, 8]\n",
            "[0, 9, 10, 11]\n",
            "[12, 13, 14, 15]\n"
          ]
        }
      ]
    },
    {
      "cell_type": "markdown",
      "metadata": {
        "id": "8ABBDMJLROdo"
      },
      "source": [
        "## Problem Class\n",
        "\n",
        "INITIAL = InitialState  \n",
        "IsGoal = Goal Test  \n",
        "Actions = Actions List  \n",
        "Result = Action Behavior  \n",
        "ActionCost = Action Cost  "
      ]
    },
    {
      "cell_type": "code",
      "metadata": {
        "id": "fo6sq7myRQpE"
      },
      "source": [
        "class Problem(object): pass"
      ],
      "execution_count": 91,
      "outputs": []
    },
    {
      "cell_type": "markdown",
      "metadata": {
        "id": "aAHXlWteQ2LN"
      },
      "source": [
        "## Node"
      ]
    },
    {
      "cell_type": "code",
      "metadata": {
        "id": "URRYlfS9Q3vx"
      },
      "source": [
        "class Node(object):\n",
        "  def __init__(self, state, parent=None, action=None, path_cost=0 ):\n",
        "    self.State=state\n",
        "    self.Parent=parent\n",
        "    self.Action=action\n",
        "    self.PathCost = path_cost\n",
        "\n",
        "  def __str__(self):\n",
        "    action = \"<none>\" if not self.Action else self.Action\n",
        "    return str(self.State) + \", \" + action\n",
        "  def __repr__(self):\n",
        "    action = \"<none>\" if not self.Action else self.Action\n",
        "    return str(self.State) + \", \" + action\n",
        "  def __lt__(self, other):\n",
        "    return self.PathCost < other.PathCost;"
      ],
      "execution_count": 92,
      "outputs": []
    },
    {
      "cell_type": "markdown",
      "metadata": {
        "id": "LpzKnx4rkxL9"
      },
      "source": [
        "## Expand"
      ]
    },
    {
      "cell_type": "code",
      "metadata": {
        "id": "CRj9UnyHdDo_"
      },
      "source": [
        "def Expand(problem, node):\n",
        "  ret = []\n",
        "  s = node.State\n",
        "  for action in problem.Actions(s):\n",
        "    sPrime = problem.Result(s, action)\n",
        "    cost =node.PathCost + problem.ActionCost(s,action,sPrime)\n",
        "    ret.append(Node(sPrime, node, action, cost))\n",
        "  return ret\n"
      ],
      "execution_count": 93,
      "outputs": []
    },
    {
      "cell_type": "markdown",
      "metadata": {
        "id": "Ee2ZYxjVlBSl"
      },
      "source": [
        "## Breadth-First Search"
      ]
    },
    {
      "cell_type": "code",
      "metadata": {
        "id": "DZoCxoGzkt4E"
      },
      "source": [
        "def BreadthFirstSearch(problem):\n",
        "  node = Node(tuple(problem.INITIAL))\n",
        "  if problem.IsGoal(node.State):\n",
        "    return node, 0\n",
        "  Frontier = []\n",
        "  Frontier.append(node)\n",
        "  reached = set()\n",
        "  reached.add(tuple(problem.INITIAL))\n",
        "  nodesExpanded = 0\n",
        "  while (Frontier):\n",
        "    ### print([str(n) for n in Frontier])\n",
        "    node = Frontier.pop(0)\n",
        "    ### print(node)\n",
        "    for child in Expand(problem, node):\n",
        "      s = tuple(child.State)\n",
        "      ### print (s, \"IsGoal=\", problem.IsGoal(s))\n",
        "      if problem.IsGoal(s):\n",
        "        return child, nodesExpanded\n",
        "      if s not in reached:\n",
        "        reached.add(s)\n",
        "        Frontier.append(child)\n",
        "    nodesExpanded += 1\n",
        "    if nodesExpanded > 500000:\n",
        "      break;\n",
        "  return None, nodesExpanded"
      ],
      "execution_count": 94,
      "outputs": []
    },
    {
      "cell_type": "markdown",
      "metadata": {
        "id": "AoX48XG6lFOf"
      },
      "source": [
        "## Best-First Search"
      ]
    },
    {
      "cell_type": "code",
      "metadata": {
        "id": "lUIAdr_qa1KT"
      },
      "source": [
        "def BestFirstSearch(problem, f):\n",
        "  node = Node(tuple(problem.INITIAL))\n",
        "  Frontier = []\n",
        "  heapq.heappush(Frontier,(f(node), node))\n",
        "  reached = {}\n",
        "  reached[tuple(problem.INITIAL)]=node\n",
        "  nodesExpanded = 0\n",
        "  while (Frontier):\n",
        "    ##print([(x, str(n)) for (x,n) in Frontier])\n",
        "    fValue, node = heapq.heappop(Frontier)\n",
        "    ##print (node.State, \"IsGoal=\", problem.IsGoal(tuple(node.State)))\n",
        "    if problem.IsGoal(tuple(node.State)):\n",
        "      return node, nodesExpanded    ### print(node)\n",
        "    for child in Expand(problem, node):\n",
        "      s = tuple(child.State)\n",
        "      if s not in reached or child.PathCost < reached[s].PathCost:\n",
        "        reached[s] = child\n",
        "        heapq.heappush(Frontier, (f(child), child))\n",
        "    nodesExpanded += 1\n",
        "    if nodesExpanded > 500000:\n",
        "      break;\n",
        "  return None, nodesExpanded"
      ],
      "execution_count": 95,
      "outputs": []
    },
    {
      "cell_type": "markdown",
      "metadata": {
        "id": "kRjolRYslOa4"
      },
      "source": [
        "## Problem 1"
      ]
    },
    {
      "cell_type": "code",
      "metadata": {
        "colab": {
          "base_uri": "https://localhost:8080/"
        },
        "id": "dLWDIbmsRGY3",
        "outputId": "c74d21c3-583d-4b92-fe5d-a3d2f1feb3eb"
      },
      "source": [
        "TileSliding = Problem()\n",
        "TileSliding.INITIAL = InitialState\n",
        "TileSliding.IsGoal = lambda s: s==(1,2,3,4,5,6,7,8,9,0,10,11,12,13,14,15)\n",
        "TileSliding.Actions = Actions\n",
        "TileSliding.Result=Result\n",
        "TileSliding.ActionCost = lambda s, a, sPrime: 1\n",
        "print( TileSliding.IsGoal((1,2,3,4,5,6,7,8,0,9,10,11,12,13,14,15)) )\n",
        "print( Node(InitialState) )\n",
        "print(1+TileSliding.ActionCost(1,2,3))"
      ],
      "execution_count": 96,
      "outputs": [
        {
          "output_type": "stream",
          "name": "stdout",
          "text": [
            "False\n",
            "[1, 2, 3, 4, 11, 12, 6, 5, 0, 14, 15, 7, 8, 9, 10, 13], <none>\n",
            "2\n"
          ]
        }
      ]
    },
    {
      "cell_type": "code",
      "metadata": {
        "colab": {
          "base_uri": "https://localhost:8080/"
        },
        "id": "6VoIEO4c1gHz",
        "outputId": "c32689d4-4bc4-40ea-ccca-62665a327c3b"
      },
      "source": [
        "TileSliding.INITIAL = [1,2,3,4,5,6,0,7,8,9,10,11,12,13,14,15]\n",
        "ret, cost = BreadthFirstSearch(TileSliding)\n",
        "print (ret, cost)"
      ],
      "execution_count": 97,
      "outputs": [
        {
          "output_type": "stream",
          "name": "stdout",
          "text": [
            "None 500001\n"
          ]
        }
      ]
    },
    {
      "cell_type": "code",
      "metadata": {
        "id": "3hsBKY7Fle3w"
      },
      "source": [
        "def Solution(node):\n",
        "  if node==None or node.Parent==None:\n",
        "    return []\n",
        "  return Solution(node.Parent) + [node.Action]\n"
      ],
      "execution_count": 98,
      "outputs": []
    },
    {
      "cell_type": "code",
      "metadata": {
        "colab": {
          "base_uri": "https://localhost:8080/"
        },
        "id": "rtr7Vr84NAfY",
        "outputId": "c97f8454-a8d4-487b-a814-a4de86a6491b"
      },
      "source": [
        "sol = Solution(ret)\n",
        "print (sol)\n",
        "print (TileSliding.INITIAL)\n",
        "print (ApplyMoves(sol, TileSliding.INITIAL))"
      ],
      "execution_count": 99,
      "outputs": [
        {
          "output_type": "stream",
          "name": "stdout",
          "text": [
            "[]\n",
            "[1, 2, 3, 4, 5, 6, 0, 7, 8, 9, 10, 11, 12, 13, 14, 15]\n",
            "[1, 2, 3, 4, 5, 6, 0, 7, 8, 9, 10, 11, 12, 13, 14, 15]\n"
          ]
        }
      ]
    },
    {
      "cell_type": "code",
      "metadata": {
        "colab": {
          "base_uri": "https://localhost:8080/"
        },
        "id": "RDE3dNP8NOU7",
        "outputId": "ecff8834-e29c-4c01-823a-2eaee9e0ce97"
      },
      "source": [
        "TileSliding.INITIAL = [1,2,14,3,4,0,6,7,5,8,9,13,10,11,12,15]\n",
        "ret, cost = BreadthFirstSearch(TileSliding)\n",
        "print (ret, cost)"
      ],
      "execution_count": 100,
      "outputs": [
        {
          "output_type": "stream",
          "name": "stdout",
          "text": [
            "None 500001\n"
          ]
        }
      ]
    },
    {
      "cell_type": "code",
      "metadata": {
        "colab": {
          "base_uri": "https://localhost:8080/"
        },
        "id": "YBkLupiYNyZ_",
        "outputId": "c42617e4-ef4e-43ea-9443-d35a4e9dde3a"
      },
      "source": [
        "sol = Solution(ret)\n",
        "print (sol)\n",
        "print (TileSliding.INITIAL)\n",
        "print (ApplyMoves(sol, TileSliding.INITIAL))"
      ],
      "execution_count": 101,
      "outputs": [
        {
          "output_type": "stream",
          "name": "stdout",
          "text": [
            "[]\n",
            "[1, 2, 14, 3, 4, 0, 6, 7, 5, 8, 9, 13, 10, 11, 12, 15]\n",
            "[1, 2, 14, 3, 4, 0, 6, 7, 5, 8, 9, 13, 10, 11, 12, 15]\n"
          ]
        }
      ]
    },
    {
      "cell_type": "code",
      "metadata": {
        "colab": {
          "base_uri": "https://localhost:8080/"
        },
        "id": "GXdlMLxwhxMF",
        "outputId": "0a44ce86-135e-4ca7-8c78-c23fab80df06"
      },
      "source": [
        "UniformCostF = lambda n: n.PathCost\n",
        "AStarF = lambda n: n.PathCost+ManhattanDistance(n.State, GoalState)\n",
        "TileSliding.INITIAL = [1,2,3,4,0,6,7,5,8,9,10,11,12,13,14,15]\n",
        "ret, cost = BestFirstSearch(TileSliding, UniformCostF)\n",
        "print (ret)\n",
        "sol = Solution(ret)\n",
        "print (sol)\n",
        "print (TileSliding.INITIAL)\n",
        "print (ApplyMoves(sol, TileSliding.INITIAL))\n",
        "print (\"Nodes Expanded=\", cost)"
      ],
      "execution_count": 102,
      "outputs": [
        {
          "output_type": "stream",
          "name": "stdout",
          "text": [
            "None\n",
            "[]\n",
            "[1, 2, 3, 4, 0, 6, 7, 5, 8, 9, 10, 11, 12, 13, 14, 15]\n",
            "[1, 2, 3, 4, 0, 6, 7, 5, 8, 9, 10, 11, 12, 13, 14, 15]\n",
            "Nodes Expanded= 500001\n"
          ]
        }
      ]
    },
    {
      "cell_type": "markdown",
      "metadata": {
        "id": "bu6svMo0n9Pc"
      },
      "source": [
        "# Problem 2"
      ]
    },
    {
      "cell_type": "code",
      "metadata": {
        "colab": {
          "base_uri": "https://localhost:8080/"
        },
        "id": "rXzEVLYEn8m1",
        "outputId": "8de391df-b0cd-463e-8491-1de2f167da88"
      },
      "source": [
        "state1, sol = RandomWalk(GoalState, 300)\n",
        "PrintState(state1)\n",
        "print (sol)\n",
        "print(ReverseMoves(sol))\n",
        "PrintState (ApplyMoves(ReverseMoves(sol), state1))"
      ],
      "execution_count": 103,
      "outputs": [
        {
          "output_type": "stream",
          "name": "stdout",
          "text": [
            "[10, 14, 11, 1]\n",
            "[2, 0, 15, 7]\n",
            "[9, 3, 12, 5]\n",
            "[4, 6, 8, 13]\n",
            "['r', 'u', 'u', 'r', 'r', 'd', 'd', 'd', 'l', 'l', 'u', 'l', 'd', 'r', 'u', 'r', 'r', 'd', 'l', 'u', 'l', 'd', 'l', 'u', 'u', 'r', 'u', 'r', 'd', 'l', 'u', 'r', 'd', 'd', 'd', 'l', 'u', 'r', 'd', 'l', 'l', 'u', 'u', 'r', 'u', 'l', 'd', 'd', 'r', 'd', 'r', 'u', 'r', 'u', 'l', 'l', 'u', 'r', 'd', 'd', 'r', 'd', 'l', 'l', 'u', 'r', 'd', 'l', 'l', 'u', 'r', 'd', 'l', 'u', 'r', 'r', 'd', 'l', 'u', 'l', 'd', 'r', 'r', 'u', 'l', 'l', 'u', 'r', 'r', 'r', 'd', 'l', 'l', 'd', 'l', 'u', 'r', 'd', 'r', 'r', 'u', 'l', 'u', 'u', 'l', 'l', 'd', 'r', 'u', 'r', 'r', 'd', 'l', 'u', 'l', 'd', 'l', 'd', 'r', 'u', 'u', 'l', 'd', 'd', 'd', 'r', 'u', 'u', 'r', 'd', 'r', 'd', 'l', 'l', 'l', 'u', 'r', 'u', 'u', 'l', 'd', 'd', 'd', 'r', 'u', 'u', 'u', 'l', 'd', 'd', 'd', 'r', 'r', 'r', 'u', 'l', 'l', 'd', 'r', 'r', 'u', 'l', 'l', 'd', 'l', 'u', 'r', 'u', 'u', 'r', 'd', 'l', 'l', 'u', 'r', 'r', 'd', 'r', 'd', 'l', 'u', 'l', 'u', 'r', 'd', 'r', 'd', 'l', 'l', 'l', 'u', 'u', 'r', 'r', 'd', 'r', 'u', 'l', 'd', 'r', 'd', 'd', 'l', 'l', 'l', 'u', 'r', 'd', 'r', 'u', 'l', 'd', 'l', 'u', 'r', 'd', 'r', 'r', 'u', 'l', 'l', 'l', 'd', 'r', 'r', 'u', 'r', 'u', 'l', 'u', 'r', 'd', 'd', 'l', 'd', 'l', 'u', 'r', 'r', 'd', 'l', 'l', 'l', 'u', 'r', 'u', 'r', 'r', 'd', 'd', 'l', 'u', 'u', 'r', 'u', 'l', 'd', 'd', 'r', 'u', 'u', 'l', 'l', 'd', 'd', 'd', 'r', 'r', 'u', 'l', 'd', 'r', 'u', 'l', 'l', 'd', 'l', 'u', 'u', 'u', 'r', 'r', 'r', 'd', 'l', 'd', 'r', 'd', 'l', 'u', 'l', 'l', 'u', 'u', 'r', 'd', 'l', 'u', 'r', 'd']\n",
            "['u', 'l', 'd', 'r', 'u', 'l', 'd', 'd', 'r', 'r', 'd', 'r', 'u', 'l', 'u', 'r', 'u', 'l', 'l', 'l', 'd', 'd', 'd', 'r', 'u', 'r', 'r', 'd', 'l', 'u', 'r', 'd', 'l', 'l', 'u', 'u', 'u', 'r', 'r', 'd', 'd', 'l', 'u', 'u', 'r', 'd', 'l', 'd', 'd', 'r', 'u', 'u', 'l', 'l', 'd', 'l', 'd', 'r', 'r', 'r', 'u', 'l', 'l', 'd', 'r', 'u', 'r', 'u', 'u', 'l', 'd', 'r', 'd', 'l', 'd', 'l', 'l', 'u', 'r', 'r', 'r', 'd', 'l', 'l', 'u', 'l', 'd', 'r', 'u', 'r', 'd', 'l', 'u', 'l', 'd', 'r', 'r', 'r', 'u', 'u', 'l', 'u', 'r', 'd', 'l', 'u', 'l', 'l', 'd', 'd', 'r', 'r', 'r', 'u', 'l', 'u', 'l', 'd', 'r', 'd', 'r', 'u', 'l', 'u', 'l', 'l', 'd', 'r', 'r', 'u', 'l', 'd', 'd', 'l', 'd', 'r', 'u', 'r', 'r', 'd', 'l', 'l', 'u', 'r', 'r', 'd', 'l', 'l', 'l', 'u', 'u', 'u', 'r', 'd', 'd', 'd', 'l', 'u', 'u', 'u', 'r', 'd', 'd', 'l', 'd', 'r', 'r', 'r', 'u', 'l', 'u', 'l', 'd', 'd', 'l', 'u', 'u', 'u', 'r', 'd', 'd', 'l', 'u', 'r', 'u', 'r', 'd', 'r', 'u', 'l', 'l', 'd', 'l', 'u', 'r', 'r', 'd', 'd', 'r', 'd', 'l', 'l', 'u', 'l', 'd', 'r', 'u', 'r', 'r', 'u', 'l', 'l', 'l', 'd', 'r', 'r', 'd', 'l', 'l', 'u', 'r', 'd', 'r', 'u', 'l', 'l', 'd', 'r', 'u', 'l', 'd', 'r', 'r', 'u', 'l', 'd', 'r', 'r', 'u', 'l', 'u', 'u', 'l', 'd', 'r', 'r', 'd', 'l', 'd', 'l', 'u', 'l', 'u', 'u', 'r', 'd', 'l', 'd', 'd', 'r', 'r', 'u', 'l', 'd', 'r', 'u', 'u', 'u', 'l', 'd', 'r', 'u', 'l', 'd', 'l', 'd', 'd', 'r', 'u', 'r', 'd', 'r', 'u', 'l', 'l', 'd', 'l', 'u', 'r', 'd', 'r', 'r', 'u', 'u', 'u', 'l', 'l', 'd', 'd', 'l']\n",
            "[1, 2, 3, 4]\n",
            "[5, 6, 7, 8]\n",
            "[0, 9, 10, 11]\n",
            "[12, 13, 14, 15]\n"
          ]
        }
      ]
    },
    {
      "cell_type": "code",
      "metadata": {
        "colab": {
          "base_uri": "https://localhost:8080/"
        },
        "id": "tKnMcesqoCss",
        "outputId": "7167f1b0-9b70-40e8-ec69-81a925dcfa7e"
      },
      "source": [
        "TileSliding.INITIAL = state1\n",
        "ret, cost = BreadthFirstSearch(TileSliding)\n",
        "print (ret)\n",
        "sol = Solution(ret)\n",
        "print (sol)\n",
        "print (TileSliding.INITIAL)\n",
        "print (ApplyMoves(sol, TileSliding.INITIAL))\n",
        "print (\"Length of solution: \", len(sol))\n",
        "print (\"Nodes Expanded=\", cost)"
      ],
      "execution_count": 104,
      "outputs": [
        {
          "output_type": "stream",
          "name": "stdout",
          "text": [
            "None\n",
            "[]\n",
            "[10, 14, 11, 1, 2, 0, 15, 7, 9, 3, 12, 5, 4, 6, 8, 13]\n",
            "[10, 14, 11, 1, 2, 0, 15, 7, 9, 3, 12, 5, 4, 6, 8, 13]\n",
            "Length of solution:  0\n",
            "Nodes Expanded= 500001\n"
          ]
        }
      ]
    },
    {
      "cell_type": "code",
      "metadata": {
        "colab": {
          "base_uri": "https://localhost:8080/"
        },
        "id": "k24bl418eL5m",
        "outputId": "c897be39-62a9-4a85-8798-3ed4002fdeec"
      },
      "source": [
        "UniformCostF = lambda n: n.PathCost\n",
        "TileSliding.INITIAL = state1\n",
        "ret, cost = BestFirstSearch(TileSliding, UniformCostF)\n",
        "print (ret)\n",
        "sol = Solution(ret)\n",
        "print (sol)\n",
        "print (TileSliding.INITIAL)\n",
        "print (ApplyMoves(sol, TileSliding.INITIAL))\n",
        "print (\"Length of solution: \", len(sol))\n",
        "print (\"Nodes Expanded=\", cost)"
      ],
      "execution_count": 105,
      "outputs": [
        {
          "output_type": "stream",
          "name": "stdout",
          "text": [
            "None\n",
            "[]\n",
            "[10, 14, 11, 1, 2, 0, 15, 7, 9, 3, 12, 5, 4, 6, 8, 13]\n",
            "[10, 14, 11, 1, 2, 0, 15, 7, 9, 3, 12, 5, 4, 6, 8, 13]\n",
            "Length of solution:  0\n",
            "Nodes Expanded= 500001\n"
          ]
        }
      ]
    },
    {
      "cell_type": "markdown",
      "metadata": {
        "id": "tdtWdXGlXFGG"
      },
      "source": [
        "# Problem List"
      ]
    },
    {
      "cell_type": "code",
      "metadata": {
        "colab": {
          "base_uri": "https://localhost:8080/"
        },
        "id": "iDhmyFXQXI3N",
        "outputId": "b81325d8-3aaf-4270-fd4f-e184191d62a7"
      },
      "source": [
        "findNum = 10\n",
        "randomWalkDistance = 300\n",
        "problemList = []\n",
        "for i in range(10):\n",
        "  state1, sol = RandomWalk(GoalState, 300)\n",
        "  problemList.append(state1)\n",
        "print (problemList)"
      ],
      "execution_count": 106,
      "outputs": [
        {
          "output_type": "stream",
          "name": "stdout",
          "text": [
            "[[9, 13, 0, 14, 3, 4, 12, 10, 5, 6, 1, 11, 15, 2, 7, 8], [1, 5, 2, 3, 12, 15, 4, 8, 14, 11, 0, 13, 7, 10, 6, 9], [0, 7, 3, 4, 14, 8, 12, 1, 6, 5, 9, 2, 11, 13, 15, 10], [0, 9, 10, 13, 6, 14, 15, 4, 8, 2, 3, 7, 12, 11, 1, 5], [9, 11, 0, 15, 1, 14, 7, 12, 13, 6, 3, 10, 8, 5, 2, 4], [6, 3, 0, 9, 1, 5, 4, 7, 11, 15, 8, 13, 2, 10, 12, 14], [7, 3, 12, 15, 10, 8, 1, 4, 0, 2, 6, 11, 14, 13, 9, 5], [0, 6, 13, 11, 9, 5, 3, 10, 1, 8, 2, 14, 12, 4, 15, 7], [10, 9, 1, 13, 12, 8, 15, 4, 5, 6, 2, 3, 14, 0, 11, 7], [15, 10, 0, 5, 1, 13, 11, 6, 12, 9, 14, 2, 4, 3, 8, 7]]\n"
          ]
        }
      ]
    },
    {
      "cell_type": "markdown",
      "metadata": {
        "id": "TpdrxwA8UvFn"
      },
      "source": [
        "### Breadth First Search w/ Test Problems"
      ]
    },
    {
      "cell_type": "code",
      "metadata": {
        "colab": {
          "base_uri": "https://localhost:8080/"
        },
        "id": "xrni2RRIXkfU",
        "outputId": "c37cd467-b24e-45c4-c68b-9ef5282a74b5"
      },
      "source": [
        "testProblems = [[13, 9, 15, 4, 6, 2, 1, 11, 10, 5, 14, 12, 7, 0, 8, 3], [6, 9, 15, 13, 2, 0, 4, 12, 7, 14, 10, 8, 3, 1, 5, 11], [15, 6, 4, 8, 3, 0, 7, 14, 9, 12, 5, 10, 11, 2, 1, 13], [0, 10, 8, 14, 9, 7, 4, 3, 12, 2, 6, 5, 13, 11, 15, 1], [8, 14, 12, 2, 7, 6, 1, 11, 3, 4, 0, 13, 15, 9, 10, 5], [9, 4, 14, 2, 8, 12, 10, 11, 1, 13, 15, 6, 7, 0, 3, 5], [6, 15, 3, 7, 10, 0, 4, 8, 11, 12, 14, 2, 13, 5, 1, 9], [0, 8, 11, 9, 13, 2, 1, 3, 12, 7, 6, 14, 15, 10, 5, 4], [0, 15, 9, 1, 7, 13, 3, 10, 4, 8, 14, 2, 12, 5, 6, 11], [11, 4, 2, 3, 6, 7, 10, 13, 5, 8, 14, 9, 15, 12, 1, 0]]\n",
        "\n",
        "Solutions = []\n",
        "for s in testProblems:\n",
        "  TileSliding.INITIAL = s\n",
        "  ret, cost = BreadthFirstSearch(TileSliding)\n",
        "  sol = Solution(ret)\n",
        "  print (sol)\n",
        "  print (\"-----------------------\")\n",
        "  print (TileSliding.INITIAL,'\\n')\n",
        "  print (ApplyMoves(sol, TileSliding.INITIAL))\n",
        "  print (\"Length of solution: \", len(sol))\n",
        "  print (\"Nodes Expanded=\", cost)\n",
        "  print (\"-----------------------\")\n",
        "  Solutions.append((''.join(map(str, s)), ''.join(sol), cost))\n",
        "print (\"-------\")\n",
        "print (Solutions)\n"
      ],
      "execution_count": 107,
      "outputs": [
        {
          "output_type": "stream",
          "name": "stdout",
          "text": [
            "[]\n",
            "-----------------------\n",
            "[13, 9, 15, 4, 6, 2, 1, 11, 10, 5, 14, 12, 7, 0, 8, 3] \n",
            "\n",
            "[13, 9, 15, 4, 6, 2, 1, 11, 10, 5, 14, 12, 7, 0, 8, 3]\n",
            "Length of solution:  0\n",
            "Nodes Expanded= 500001\n",
            "-----------------------\n",
            "[]\n",
            "-----------------------\n",
            "[6, 9, 15, 13, 2, 0, 4, 12, 7, 14, 10, 8, 3, 1, 5, 11] \n",
            "\n",
            "[6, 9, 15, 13, 2, 0, 4, 12, 7, 14, 10, 8, 3, 1, 5, 11]\n",
            "Length of solution:  0\n",
            "Nodes Expanded= 500001\n",
            "-----------------------\n",
            "[]\n",
            "-----------------------\n",
            "[15, 6, 4, 8, 3, 0, 7, 14, 9, 12, 5, 10, 11, 2, 1, 13] \n",
            "\n",
            "[15, 6, 4, 8, 3, 0, 7, 14, 9, 12, 5, 10, 11, 2, 1, 13]\n",
            "Length of solution:  0\n",
            "Nodes Expanded= 500001\n",
            "-----------------------\n",
            "[]\n",
            "-----------------------\n",
            "[0, 10, 8, 14, 9, 7, 4, 3, 12, 2, 6, 5, 13, 11, 15, 1] \n",
            "\n",
            "[0, 10, 8, 14, 9, 7, 4, 3, 12, 2, 6, 5, 13, 11, 15, 1]\n",
            "Length of solution:  0\n",
            "Nodes Expanded= 500001\n",
            "-----------------------\n",
            "[]\n",
            "-----------------------\n",
            "[8, 14, 12, 2, 7, 6, 1, 11, 3, 4, 0, 13, 15, 9, 10, 5] \n",
            "\n",
            "[8, 14, 12, 2, 7, 6, 1, 11, 3, 4, 0, 13, 15, 9, 10, 5]\n",
            "Length of solution:  0\n",
            "Nodes Expanded= 500001\n",
            "-----------------------\n",
            "[]\n",
            "-----------------------\n",
            "[9, 4, 14, 2, 8, 12, 10, 11, 1, 13, 15, 6, 7, 0, 3, 5] \n",
            "\n",
            "[9, 4, 14, 2, 8, 12, 10, 11, 1, 13, 15, 6, 7, 0, 3, 5]\n",
            "Length of solution:  0\n",
            "Nodes Expanded= 500001\n",
            "-----------------------\n",
            "[]\n",
            "-----------------------\n",
            "[6, 15, 3, 7, 10, 0, 4, 8, 11, 12, 14, 2, 13, 5, 1, 9] \n",
            "\n",
            "[6, 15, 3, 7, 10, 0, 4, 8, 11, 12, 14, 2, 13, 5, 1, 9]\n",
            "Length of solution:  0\n",
            "Nodes Expanded= 500001\n",
            "-----------------------\n",
            "[]\n",
            "-----------------------\n",
            "[0, 8, 11, 9, 13, 2, 1, 3, 12, 7, 6, 14, 15, 10, 5, 4] \n",
            "\n",
            "[0, 8, 11, 9, 13, 2, 1, 3, 12, 7, 6, 14, 15, 10, 5, 4]\n",
            "Length of solution:  0\n",
            "Nodes Expanded= 500001\n",
            "-----------------------\n",
            "[]\n",
            "-----------------------\n",
            "[0, 15, 9, 1, 7, 13, 3, 10, 4, 8, 14, 2, 12, 5, 6, 11] \n",
            "\n",
            "[0, 15, 9, 1, 7, 13, 3, 10, 4, 8, 14, 2, 12, 5, 6, 11]\n",
            "Length of solution:  0\n",
            "Nodes Expanded= 500001\n",
            "-----------------------\n",
            "[]\n",
            "-----------------------\n",
            "[11, 4, 2, 3, 6, 7, 10, 13, 5, 8, 14, 9, 15, 12, 1, 0] \n",
            "\n",
            "[11, 4, 2, 3, 6, 7, 10, 13, 5, 8, 14, 9, 15, 12, 1, 0]\n",
            "Length of solution:  0\n",
            "Nodes Expanded= 500001\n",
            "-----------------------\n",
            "-------\n",
            "[('1391546211110514127083', '', 500001), ('6915132041271410831511', '', 500001), ('1564830714912510112113', '', 500001), ('0108149743122651311151', '', 500001), ('8141227611134013159105', '', 500001), ('9414281210111131567035', '', 500001), ('6153710048111214213519', '', 500001), ('0811913213127614151054', '', 500001), ('0159171331048142125611', '', 500001), ('1142367101358149151210', '', 500001)]\n"
          ]
        }
      ]
    },
    {
      "cell_type": "markdown",
      "metadata": {
        "id": "YLVN3sTkU0jw"
      },
      "source": [
        "### Uniform Cost Search w/ Test Problems"
      ]
    },
    {
      "cell_type": "code",
      "metadata": {
        "colab": {
          "base_uri": "https://localhost:8080/"
        },
        "id": "LsWVfbeLRYfO",
        "outputId": "23e8394b-bbe6-4e0b-e06a-ede2f52e759d"
      },
      "source": [
        "UniformCostF = lambda n: n.PathCost\n",
        "testProblems = [[13, 9, 15, 4, 6, 2, 1, 11, 10, 5, 14, 12, 7, 0, 8, 3], [6, 9, 15, 13, 2, 0, 4, 12, 7, 14, 10, 8, 3, 1, 5, 11], [15, 6, 4, 8, 3, 0, 7, 14, 9, 12, 5, 10, 11, 2, 1, 13], [0, 10, 8, 14, 9, 7, 4, 3, 12, 2, 6, 5, 13, 11, 15, 1], [8, 14, 12, 2, 7, 6, 1, 11, 3, 4, 0, 13, 15, 9, 10, 5], [9, 4, 14, 2, 8, 12, 10, 11, 1, 13, 15, 6, 7, 0, 3, 5], [6, 15, 3, 7, 10, 0, 4, 8, 11, 12, 14, 2, 13, 5, 1, 9], [0, 8, 11, 9, 13, 2, 1, 3, 12, 7, 6, 14, 15, 10, 5, 4], [0, 15, 9, 1, 7, 13, 3, 10, 4, 8, 14, 2, 12, 5, 6, 11], [11, 4, 2, 3, 6, 7, 10, 13, 5, 8, 14, 9, 15, 12, 1, 0]]\n",
        "\n",
        "Solutions = []\n",
        "for s in testProblems:\n",
        "  TileSliding.INITIAL = s\n",
        "  ret, cost = BestFirstSearch(TileSliding, UniformCostF)\n",
        "  sol = Solution(ret)\n",
        "  print (sol)\n",
        "  print (\"-----------------------\")\n",
        "  print (TileSliding.INITIAL,'\\n')\n",
        "  print (ApplyMoves(sol, TileSliding.INITIAL))\n",
        "  print (\"Length of solution: \", len(sol))\n",
        "  print (\"Nodes Expanded=\", cost)\n",
        "  print (\"-----------------------\")\n",
        "  Solutions.append((''.join(map(str, s)), ''.join(sol), cost))\n",
        "print (\"-------\")\n",
        "print (Solutions)"
      ],
      "execution_count": 108,
      "outputs": [
        {
          "output_type": "stream",
          "name": "stdout",
          "text": [
            "[]\n",
            "-----------------------\n",
            "[13, 9, 15, 4, 6, 2, 1, 11, 10, 5, 14, 12, 7, 0, 8, 3] \n",
            "\n",
            "[13, 9, 15, 4, 6, 2, 1, 11, 10, 5, 14, 12, 7, 0, 8, 3]\n",
            "Length of solution:  0\n",
            "Nodes Expanded= 500001\n",
            "-----------------------\n",
            "[]\n",
            "-----------------------\n",
            "[6, 9, 15, 13, 2, 0, 4, 12, 7, 14, 10, 8, 3, 1, 5, 11] \n",
            "\n",
            "[6, 9, 15, 13, 2, 0, 4, 12, 7, 14, 10, 8, 3, 1, 5, 11]\n",
            "Length of solution:  0\n",
            "Nodes Expanded= 500001\n",
            "-----------------------\n",
            "[]\n",
            "-----------------------\n",
            "[15, 6, 4, 8, 3, 0, 7, 14, 9, 12, 5, 10, 11, 2, 1, 13] \n",
            "\n",
            "[15, 6, 4, 8, 3, 0, 7, 14, 9, 12, 5, 10, 11, 2, 1, 13]\n",
            "Length of solution:  0\n",
            "Nodes Expanded= 500001\n",
            "-----------------------\n",
            "[]\n",
            "-----------------------\n",
            "[0, 10, 8, 14, 9, 7, 4, 3, 12, 2, 6, 5, 13, 11, 15, 1] \n",
            "\n",
            "[0, 10, 8, 14, 9, 7, 4, 3, 12, 2, 6, 5, 13, 11, 15, 1]\n",
            "Length of solution:  0\n",
            "Nodes Expanded= 500001\n",
            "-----------------------\n",
            "[]\n",
            "-----------------------\n",
            "[8, 14, 12, 2, 7, 6, 1, 11, 3, 4, 0, 13, 15, 9, 10, 5] \n",
            "\n",
            "[8, 14, 12, 2, 7, 6, 1, 11, 3, 4, 0, 13, 15, 9, 10, 5]\n",
            "Length of solution:  0\n",
            "Nodes Expanded= 500001\n",
            "-----------------------\n",
            "[]\n",
            "-----------------------\n",
            "[9, 4, 14, 2, 8, 12, 10, 11, 1, 13, 15, 6, 7, 0, 3, 5] \n",
            "\n",
            "[9, 4, 14, 2, 8, 12, 10, 11, 1, 13, 15, 6, 7, 0, 3, 5]\n",
            "Length of solution:  0\n",
            "Nodes Expanded= 500001\n",
            "-----------------------\n",
            "[]\n",
            "-----------------------\n",
            "[6, 15, 3, 7, 10, 0, 4, 8, 11, 12, 14, 2, 13, 5, 1, 9] \n",
            "\n",
            "[6, 15, 3, 7, 10, 0, 4, 8, 11, 12, 14, 2, 13, 5, 1, 9]\n",
            "Length of solution:  0\n",
            "Nodes Expanded= 500001\n",
            "-----------------------\n",
            "[]\n",
            "-----------------------\n",
            "[0, 8, 11, 9, 13, 2, 1, 3, 12, 7, 6, 14, 15, 10, 5, 4] \n",
            "\n",
            "[0, 8, 11, 9, 13, 2, 1, 3, 12, 7, 6, 14, 15, 10, 5, 4]\n",
            "Length of solution:  0\n",
            "Nodes Expanded= 500001\n",
            "-----------------------\n",
            "[]\n",
            "-----------------------\n",
            "[0, 15, 9, 1, 7, 13, 3, 10, 4, 8, 14, 2, 12, 5, 6, 11] \n",
            "\n",
            "[0, 15, 9, 1, 7, 13, 3, 10, 4, 8, 14, 2, 12, 5, 6, 11]\n",
            "Length of solution:  0\n",
            "Nodes Expanded= 500001\n",
            "-----------------------\n",
            "[]\n",
            "-----------------------\n",
            "[11, 4, 2, 3, 6, 7, 10, 13, 5, 8, 14, 9, 15, 12, 1, 0] \n",
            "\n",
            "[11, 4, 2, 3, 6, 7, 10, 13, 5, 8, 14, 9, 15, 12, 1, 0]\n",
            "Length of solution:  0\n",
            "Nodes Expanded= 500001\n",
            "-----------------------\n",
            "-------\n",
            "[('1391546211110514127083', '', 500001), ('6915132041271410831511', '', 500001), ('1564830714912510112113', '', 500001), ('0108149743122651311151', '', 500001), ('8141227611134013159105', '', 500001), ('9414281210111131567035', '', 500001), ('6153710048111214213519', '', 500001), ('0811913213127614151054', '', 500001), ('0159171331048142125611', '', 500001), ('1142367101358149151210', '', 500001)]\n"
          ]
        }
      ]
    },
    {
      "cell_type": "markdown",
      "metadata": {
        "id": "p8yiFsHoU6sf"
      },
      "source": [
        "### AStar using ManhattanDistance w/ Test Problems"
      ]
    },
    {
      "cell_type": "code",
      "metadata": {
        "colab": {
          "base_uri": "https://localhost:8080/"
        },
        "id": "6VD8LuUJRhxU",
        "outputId": "bdd65447-6ee1-43e7-fb1b-63473c4eaea8"
      },
      "source": [
        "AStarFb = lambda n: n.PathCost + Manhattan(n.State, GoalState)\n",
        "testProblems = [[13, 9, 15, 4, 6, 2, 1, 11, 10, 5, 14, 12, 7, 0, 8, 3], [6, 9, 15, 13, 2, 0, 4, 12, 7, 14, 10, 8, 3, 1, 5, 11], [15, 6, 4, 8, 3, 0, 7, 14, 9, 12, 5, 10, 11, 2, 1, 13], [0, 10, 8, 14, 9, 7, 4, 3, 12, 2, 6, 5, 13, 11, 15, 1], [8, 14, 12, 2, 7, 6, 1, 11, 3, 4, 0, 13, 15, 9, 10, 5], [9, 4, 14, 2, 8, 12, 10, 11, 1, 13, 15, 6, 7, 0, 3, 5], [6, 15, 3, 7, 10, 0, 4, 8, 11, 12, 14, 2, 13, 5, 1, 9], [0, 8, 11, 9, 13, 2, 1, 3, 12, 7, 6, 14, 15, 10, 5, 4], [0, 15, 9, 1, 7, 13, 3, 10, 4, 8, 14, 2, 12, 5, 6, 11], [11, 4, 2, 3, 6, 7, 10, 13, 5, 8, 14, 9, 15, 12, 1, 0]]\n",
        "\n",
        "Solutions = []\n",
        "for s in testProblems:\n",
        "  TileSliding.INITIAL = s\n",
        "  ret, cost = BestFirstSearch(TileSliding, AStarF)\n",
        "  sol = Solution(ret)\n",
        "  print (sol)\n",
        "  print (\"-----------------------\")\n",
        "  print (TileSliding.INITIAL,'\\n')\n",
        "  print (ApplyMoves(sol, TileSliding.INITIAL))\n",
        "  print (\"Length of solution: \", len(sol))\n",
        "  print (\"Nodes Expanded=\", cost)\n",
        "  print (\"-----------------------\")\n",
        "  Solutions.append((''.join(map(str, s)), ''.join(sol), cost))\n",
        "print (\"-------\")\n",
        "print (Solutions)"
      ],
      "execution_count": 109,
      "outputs": [
        {
          "output_type": "stream",
          "name": "stdout",
          "text": [
            "[]\n",
            "-----------------------\n",
            "[13, 9, 15, 4, 6, 2, 1, 11, 10, 5, 14, 12, 7, 0, 8, 3] \n",
            "\n",
            "[13, 9, 15, 4, 6, 2, 1, 11, 10, 5, 14, 12, 7, 0, 8, 3]\n",
            "Length of solution:  0\n",
            "Nodes Expanded= 500001\n",
            "-----------------------\n",
            "[]\n",
            "-----------------------\n",
            "[6, 9, 15, 13, 2, 0, 4, 12, 7, 14, 10, 8, 3, 1, 5, 11] \n",
            "\n",
            "[6, 9, 15, 13, 2, 0, 4, 12, 7, 14, 10, 8, 3, 1, 5, 11]\n",
            "Length of solution:  0\n",
            "Nodes Expanded= 500001\n",
            "-----------------------\n",
            "[]\n",
            "-----------------------\n",
            "[15, 6, 4, 8, 3, 0, 7, 14, 9, 12, 5, 10, 11, 2, 1, 13] \n",
            "\n",
            "[15, 6, 4, 8, 3, 0, 7, 14, 9, 12, 5, 10, 11, 2, 1, 13]\n",
            "Length of solution:  0\n",
            "Nodes Expanded= 500001\n",
            "-----------------------\n",
            "[]\n",
            "-----------------------\n",
            "[0, 10, 8, 14, 9, 7, 4, 3, 12, 2, 6, 5, 13, 11, 15, 1] \n",
            "\n",
            "[0, 10, 8, 14, 9, 7, 4, 3, 12, 2, 6, 5, 13, 11, 15, 1]\n",
            "Length of solution:  0\n",
            "Nodes Expanded= 500001\n",
            "-----------------------\n",
            "[]\n",
            "-----------------------\n",
            "[8, 14, 12, 2, 7, 6, 1, 11, 3, 4, 0, 13, 15, 9, 10, 5] \n",
            "\n",
            "[8, 14, 12, 2, 7, 6, 1, 11, 3, 4, 0, 13, 15, 9, 10, 5]\n",
            "Length of solution:  0\n",
            "Nodes Expanded= 500001\n",
            "-----------------------\n",
            "[]\n",
            "-----------------------\n",
            "[9, 4, 14, 2, 8, 12, 10, 11, 1, 13, 15, 6, 7, 0, 3, 5] \n",
            "\n",
            "[9, 4, 14, 2, 8, 12, 10, 11, 1, 13, 15, 6, 7, 0, 3, 5]\n",
            "Length of solution:  0\n",
            "Nodes Expanded= 500001\n",
            "-----------------------\n",
            "[]\n",
            "-----------------------\n",
            "[6, 15, 3, 7, 10, 0, 4, 8, 11, 12, 14, 2, 13, 5, 1, 9] \n",
            "\n",
            "[6, 15, 3, 7, 10, 0, 4, 8, 11, 12, 14, 2, 13, 5, 1, 9]\n",
            "Length of solution:  0\n",
            "Nodes Expanded= 500001\n",
            "-----------------------\n",
            "[]\n",
            "-----------------------\n",
            "[0, 8, 11, 9, 13, 2, 1, 3, 12, 7, 6, 14, 15, 10, 5, 4] \n",
            "\n",
            "[0, 8, 11, 9, 13, 2, 1, 3, 12, 7, 6, 14, 15, 10, 5, 4]\n",
            "Length of solution:  0\n",
            "Nodes Expanded= 500001\n",
            "-----------------------\n",
            "[]\n",
            "-----------------------\n",
            "[0, 15, 9, 1, 7, 13, 3, 10, 4, 8, 14, 2, 12, 5, 6, 11] \n",
            "\n",
            "[0, 15, 9, 1, 7, 13, 3, 10, 4, 8, 14, 2, 12, 5, 6, 11]\n",
            "Length of solution:  0\n",
            "Nodes Expanded= 500001\n",
            "-----------------------\n",
            "[]\n",
            "-----------------------\n",
            "[11, 4, 2, 3, 6, 7, 10, 13, 5, 8, 14, 9, 15, 12, 1, 0] \n",
            "\n",
            "[11, 4, 2, 3, 6, 7, 10, 13, 5, 8, 14, 9, 15, 12, 1, 0]\n",
            "Length of solution:  0\n",
            "Nodes Expanded= 500001\n",
            "-----------------------\n",
            "-------\n",
            "[('1391546211110514127083', '', 500001), ('6915132041271410831511', '', 500001), ('1564830714912510112113', '', 500001), ('0108149743122651311151', '', 500001), ('8141227611134013159105', '', 500001), ('9414281210111131567035', '', 500001), ('6153710048111214213519', '', 500001), ('0811913213127614151054', '', 500001), ('0159171331048142125611', '', 500001), ('1142367101358149151210', '', 500001)]\n"
          ]
        }
      ]
    },
    {
      "cell_type": "markdown",
      "metadata": {
        "id": "dluzNjyYVBSl"
      },
      "source": [
        "### AStar using OutOfPlace w/ Test Problems"
      ]
    },
    {
      "cell_type": "code",
      "metadata": {
        "colab": {
          "base_uri": "https://localhost:8080/"
        },
        "id": "m7icYl-JUGbR",
        "outputId": "df138c85-dc97-41fe-edf9-82079fde433a"
      },
      "source": [
        "AStarFb = lambda n: n.PathCost + OutOfPlace(n.State, GoalState)\n",
        "testProblems = [[13, 9, 15, 4, 6, 2, 1, 11, 10, 5, 14, 12, 7, 0, 8, 3], [6, 9, 15, 13, 2, 0, 4, 12, 7, 14, 10, 8, 3, 1, 5, 11], [15, 6, 4, 8, 3, 0, 7, 14, 9, 12, 5, 10, 11, 2, 1, 13], [0, 10, 8, 14, 9, 7, 4, 3, 12, 2, 6, 5, 13, 11, 15, 1], [8, 14, 12, 2, 7, 6, 1, 11, 3, 4, 0, 13, 15, 9, 10, 5], [9, 4, 14, 2, 8, 12, 10, 11, 1, 13, 15, 6, 7, 0, 3, 5], [6, 15, 3, 7, 10, 0, 4, 8, 11, 12, 14, 2, 13, 5, 1, 9], [0, 8, 11, 9, 13, 2, 1, 3, 12, 7, 6, 14, 15, 10, 5, 4], [0, 15, 9, 1, 7, 13, 3, 10, 4, 8, 14, 2, 12, 5, 6, 11], [11, 4, 2, 3, 6, 7, 10, 13, 5, 8, 14, 9, 15, 12, 1, 0]]\n",
        "\n",
        "Solutions = []\n",
        "for s in testProblems:\n",
        "  TileSliding.INITIAL = s\n",
        "  ret, cost = BestFirstSearch(TileSliding, AStarFb)\n",
        "  sol = Solution(ret)\n",
        "  print (sol)\n",
        "  print (\"-----------------------\")\n",
        "  print (TileSliding.INITIAL,'\\n')\n",
        "  print (ApplyMoves(sol, TileSliding.INITIAL))\n",
        "  print (\"Length of solution: \", len(sol))\n",
        "  print (\"Nodes Expanded=\", cost)\n",
        "  print (\"-----------------------\")\n",
        "  Solutions.append((''.join(map(str, s)), ''.join(sol), cost))\n",
        "print (\"-------\")\n",
        "print (Solutions)"
      ],
      "execution_count": 110,
      "outputs": [
        {
          "output_type": "stream",
          "name": "stdout",
          "text": [
            "[]\n",
            "-----------------------\n",
            "[13, 9, 15, 4, 6, 2, 1, 11, 10, 5, 14, 12, 7, 0, 8, 3] \n",
            "\n",
            "[13, 9, 15, 4, 6, 2, 1, 11, 10, 5, 14, 12, 7, 0, 8, 3]\n",
            "Length of solution:  0\n",
            "Nodes Expanded= 500001\n",
            "-----------------------\n",
            "[]\n",
            "-----------------------\n",
            "[6, 9, 15, 13, 2, 0, 4, 12, 7, 14, 10, 8, 3, 1, 5, 11] \n",
            "\n",
            "[6, 9, 15, 13, 2, 0, 4, 12, 7, 14, 10, 8, 3, 1, 5, 11]\n",
            "Length of solution:  0\n",
            "Nodes Expanded= 500001\n",
            "-----------------------\n",
            "[]\n",
            "-----------------------\n",
            "[15, 6, 4, 8, 3, 0, 7, 14, 9, 12, 5, 10, 11, 2, 1, 13] \n",
            "\n",
            "[15, 6, 4, 8, 3, 0, 7, 14, 9, 12, 5, 10, 11, 2, 1, 13]\n",
            "Length of solution:  0\n",
            "Nodes Expanded= 500001\n",
            "-----------------------\n",
            "[]\n",
            "-----------------------\n",
            "[0, 10, 8, 14, 9, 7, 4, 3, 12, 2, 6, 5, 13, 11, 15, 1] \n",
            "\n",
            "[0, 10, 8, 14, 9, 7, 4, 3, 12, 2, 6, 5, 13, 11, 15, 1]\n",
            "Length of solution:  0\n",
            "Nodes Expanded= 500001\n",
            "-----------------------\n",
            "[]\n",
            "-----------------------\n",
            "[8, 14, 12, 2, 7, 6, 1, 11, 3, 4, 0, 13, 15, 9, 10, 5] \n",
            "\n",
            "[8, 14, 12, 2, 7, 6, 1, 11, 3, 4, 0, 13, 15, 9, 10, 5]\n",
            "Length of solution:  0\n",
            "Nodes Expanded= 500001\n",
            "-----------------------\n",
            "[]\n",
            "-----------------------\n",
            "[9, 4, 14, 2, 8, 12, 10, 11, 1, 13, 15, 6, 7, 0, 3, 5] \n",
            "\n",
            "[9, 4, 14, 2, 8, 12, 10, 11, 1, 13, 15, 6, 7, 0, 3, 5]\n",
            "Length of solution:  0\n",
            "Nodes Expanded= 500001\n",
            "-----------------------\n",
            "[]\n",
            "-----------------------\n",
            "[6, 15, 3, 7, 10, 0, 4, 8, 11, 12, 14, 2, 13, 5, 1, 9] \n",
            "\n",
            "[6, 15, 3, 7, 10, 0, 4, 8, 11, 12, 14, 2, 13, 5, 1, 9]\n",
            "Length of solution:  0\n",
            "Nodes Expanded= 500001\n",
            "-----------------------\n",
            "[]\n",
            "-----------------------\n",
            "[0, 8, 11, 9, 13, 2, 1, 3, 12, 7, 6, 14, 15, 10, 5, 4] \n",
            "\n",
            "[0, 8, 11, 9, 13, 2, 1, 3, 12, 7, 6, 14, 15, 10, 5, 4]\n",
            "Length of solution:  0\n",
            "Nodes Expanded= 500001\n",
            "-----------------------\n",
            "[]\n",
            "-----------------------\n",
            "[0, 15, 9, 1, 7, 13, 3, 10, 4, 8, 14, 2, 12, 5, 6, 11] \n",
            "\n",
            "[0, 15, 9, 1, 7, 13, 3, 10, 4, 8, 14, 2, 12, 5, 6, 11]\n",
            "Length of solution:  0\n",
            "Nodes Expanded= 500001\n",
            "-----------------------\n",
            "[]\n",
            "-----------------------\n",
            "[11, 4, 2, 3, 6, 7, 10, 13, 5, 8, 14, 9, 15, 12, 1, 0] \n",
            "\n",
            "[11, 4, 2, 3, 6, 7, 10, 13, 5, 8, 14, 9, 15, 12, 1, 0]\n",
            "Length of solution:  0\n",
            "Nodes Expanded= 500001\n",
            "-----------------------\n",
            "-------\n",
            "[('1391546211110514127083', '', 500001), ('6915132041271410831511', '', 500001), ('1564830714912510112113', '', 500001), ('0108149743122651311151', '', 500001), ('8141227611134013159105', '', 500001), ('9414281210111131567035', '', 500001), ('6153710048111214213519', '', 500001), ('0811913213127614151054', '', 500001), ('0159171331048142125611', '', 500001), ('1142367101358149151210', '', 500001)]\n"
          ]
        }
      ]
    },
    {
      "cell_type": "markdown",
      "metadata": {
        "id": "TEBWJx6DwN-r"
      },
      "source": [
        "### Best First Search -- Greedy"
      ]
    },
    {
      "cell_type": "code",
      "metadata": {
        "colab": {
          "base_uri": "https://localhost:8080/"
        },
        "id": "fI27-Y5ivXdw",
        "outputId": "4a5c0b71-0c9c-4993-8340-cb26c93fb065"
      },
      "source": [
        "### Best First\n",
        "bestFirstSearchf = lambda n: OutOfPlace(n.State, GoalState)\n",
        "testProblems = [[13, 9, 15, 4, 6, 2, 1, 11, 10, 5, 14, 12, 7, 0, 8, 3], [6, 9, 15, 13, 2, 0, 4, 12, 7, 14, 10, 8, 3, 1, 5, 11], [15, 6, 4, 8, 3, 0, 7, 14, 9, 12, 5, 10, 11, 2, 1, 13], [0, 10, 8, 14, 9, 7, 4, 3, 12, 2, 6, 5, 13, 11, 15, 1], [8, 14, 12, 2, 7, 6, 1, 11, 3, 4, 0, 13, 15, 9, 10, 5], [9, 4, 14, 2, 8, 12, 10, 11, 1, 13, 15, 6, 7, 0, 3, 5], [6, 15, 3, 7, 10, 0, 4, 8, 11, 12, 14, 2, 13, 5, 1, 9], [0, 8, 11, 9, 13, 2, 1, 3, 12, 7, 6, 14, 15, 10, 5, 4], [0, 15, 9, 1, 7, 13, 3, 10, 4, 8, 14, 2, 12, 5, 6, 11], [11, 4, 2, 3, 6, 7, 10, 13, 5, 8, 14, 9, 15, 12, 1, 0]]\n",
        "\n",
        "Solutions = []\n",
        "for s in testProblems:\n",
        "  TileSliding.INITIAL = s\n",
        "  ret, cost = BestFirstSearch(TileSliding, bestFirstSearchf)\n",
        "  sol = Solution(ret)\n",
        "  print (sol)\n",
        "  print (\"-----------------------\")\n",
        "  print (TileSliding.INITIAL,'\\n')\n",
        "  print (ApplyMoves(sol, TileSliding.INITIAL))\n",
        "  print (\"Length of solution: \", len(sol))\n",
        "  print (\"Nodes Expanded=\", cost)\n",
        "  print (\"-----------------------\")\n",
        "  Solutions.append((''.join(map(str, s)), ''.join(sol), cost))\n",
        "print (\"-------\")\n",
        "print (Solutions)"
      ],
      "execution_count": 111,
      "outputs": [
        {
          "output_type": "stream",
          "name": "stdout",
          "text": [
            "['r', 'u', 'r', 'u', 'l', 'l', 'l', 'd', 'r', 'r', 'u', 'u', 'l', 'l', 'd', 'd', 'r', 'd', 'l', 'u', 'r', 'u', 'r', 'u', 'l', 'd', 'r', 'd', 'l', 'u', 'r', 'u', 'l', 'd', 'd', 'r', 'u', 'l', 'd', 'r', 'd', 'l', 'u', 'r', 'd', 'r', 'u', 'u', 'l', 'd', 'l', 'd', 'r', 'u', 'r', 'd', 'l', 'l', 'u', 'r', 'd', 'r', 'u', 'u', 'l', 'd', 'r', 'd', 'l', 'u', 'u', 'r', 'd', 'l', 'd', 'r', 'u', 'u', 'l', 'l', 'd', 'r', 'u', 'l', 'u', 'r', 'd', 'r', 'u', 'l', 'l', 'd', 'r', 'u', 'r', 'd', 'd', 'l', 'u', 'l', 'd', 'r', 'r', 'u', 'l', 'd', 'l', 'u', 'r', 'd', 'r', 'd', 'l', 'u', 'u', 'r', 'd', 'l', 'd', 'r', 'u', 'u', 'l', 'u', 'r', 'd', 'd', 'l', 'u', 'r', 'u', 'l', 'd', 'l', 'd', 'l', 'u', 'r', 'r', 'd', 'l', 'u', 'l', 'd', 'r', 'r', 'u', 'r', 'd', 'l', 'l', 'u', 'r', 'd', 'r', 'u', 'l', 'l', 'd', 'l', 'u', 'u', 'r', 'd', 'l', 'd', 'r', 'r', 'u', 'l', 'u', 'l', 'd', 'd', 'r', 'u', 'l', 'd', 'r', 'r', 'u', 'l', 'l', 'u', 'r', 'd', 'd', 'l', 'u', 'r', 'u', 'l', 'd', 'r', 'r', 'u', 'l', 'l', 'd', 'r', 'u', 'r', 'd', 'l', 'l', 'd', 'r']\n",
            "-----------------------\n",
            "[13, 9, 15, 4, 6, 2, 1, 11, 10, 5, 14, 12, 7, 0, 8, 3] \n",
            "\n",
            "[1, 2, 3, 4, 5, 6, 7, 8, 9, 0, 10, 11, 12, 13, 14, 15]\n",
            "Length of solution:  207\n",
            "Nodes Expanded= 10111\n",
            "-----------------------\n",
            "['r', 'r', 'd', 'd', 'l', 'l', 'u', 'u', 'l', 'u', 'r', 'd', 'l', 'd', 'r', 'r', 'd', 'l', 'l', 'u', 'u', 'r', 'r', 'd', 'l', 'u', 'l', 'd', 'r', 'd', 'l', 'u', 'u', 'r', 'r', 'u', 'l', 'd', 'l', 'u', 'r', 'r', 'd', 'l', 'l', 'd', 'r', 'u', 'r', 'd', 'l', 'l', 'u', 'r', 'd', 'r', 'u', 'l', 'l', 'u', 'r', 'r', 'd', 'l', 'u', 'l', 'd', 'd', 'r', 'u', 'r', 'd', 'l', 'd', 'r', 'u', 'u', 'l', 'd', 'l', 'u', 'r', 'r', 'r', 'd', 'd', 'l', 'u', 'r', 'u', 'l', 'd', 'd', 'l', 'l', 'u', 'r', 'u', 'l', 'd', 'd', 'r', 'u', 'u', 'l', 'd', 'r', 'u', 'r', 'd', 'l', 'l', 'u', 'r', 'd', 'r', 'u', 'l', 'u', 'r', 'd', 'r', 'u', 'l', 'l', 'd', 'd', 'd', 'l', 'u', 'r', 'u', 'l', 'd', 'd', 'r', 'u', 'l', 'u', 'r', 'd', 'r', 'u', 'l', 'l', 'd', 'r', 'd', 'l', 'u', 'u', 'r', 'd', 'l', 'd', 'r', 'r', 'u', 'l', 'u', 'r', 'd', 'd', 'l', 'u', 'u', 'r', 'd', 'r', 'u', 'l', 'l', 'd', 'r', 'u', 'l', 'l', 'd', 'r', 'd', 'l', 'u', 'u', 'r', 'd', 'l', 'd', 'r', 'r', 'u', 'l', 'u', 'r', 'd', 'd', 'l', 'u', 'r', 'u', 'l', 'd', 'r', 'r', 'd', 'l', 'u', 'l', 'd', 'r', 'r', 'u', 'l', 'l', 'l', 'u', 'r', 'd', 'r', 'r', 'u', 'l', 'l', 'l', 'd', 'r', 'r', 'u', 'r', 'd', 'l', 'l']\n",
            "-----------------------\n",
            "[6, 9, 15, 13, 2, 0, 4, 12, 7, 14, 10, 8, 3, 1, 5, 11] \n",
            "\n",
            "[1, 2, 3, 4, 5, 6, 7, 8, 9, 0, 10, 11, 12, 13, 14, 15]\n",
            "Length of solution:  231\n",
            "Nodes Expanded= 66840\n",
            "-----------------------\n",
            "['u', 'l', 'd', 'd', 'r', 'r', 'r', 'u', 'u', 'l', 'l', 'd', 'd', 'd', 'l', 'u', 'u', 'r', 'd', 'l', 'u', 'r', 'u', 'l', 'd', 'd', 'r', 'r', 'd', 'r', 'u', 'l', 'l', 'd', 'r', 'r', 'u', 'l', 'u', 'u', 'l', 'd', 'r', 'd', 'l', 'l', 'u', 'r', 'u', 'l', 'd', 'd', 'd', 'r', 'r', 'r', 'u', 'l', 'd', 'l', 'u', 'r', 'd', 'l', 'l', 'u', 'r', 'd', 'r', 'r', 'u', 'l', 'd', 'l', 'u', 'r', 'r', 'd', 'l', 'u', 'l', 'l', 'u', 'u', 'r', 'd', 'd', 'l', 'u', 'r', 'u', 'l', 'd', 'd', 'r', 'r', 'u', 'l', 'l', 'd', 'r', 'u', 'r', 'd', 'l', 'd', 'r', 'r', 'u', 'l', 'd', 'l', 'u', 'r', 'r', 'd', 'l', 'l', 'u', 'r', 'd', 'r', 'u', 'l', 'l', 'd', 'r', 'u', 'r', 'd', 'l', 'u', 'l', 'l', 'd', 'r', 'r', 'u', 'l', 'd', 'l', 'u', 'r', 'r', 'd', 'l', 'u', 'l', 'd', 'r', 'u', 'r', 'd', 'l', 'l', 'u', 'r', 'd', 'r', 'u', 'l']\n",
            "-----------------------\n",
            "[15, 6, 4, 8, 3, 0, 7, 14, 9, 12, 5, 10, 11, 2, 1, 13] \n",
            "\n",
            "[1, 2, 3, 4, 5, 6, 7, 8, 9, 0, 10, 11, 12, 13, 14, 15]\n",
            "Length of solution:  161\n",
            "Nodes Expanded= 15711\n",
            "-----------------------\n",
            "['r', 'r', 'd', 'l', 'd', 'd', 'l', 'u', 'u', 'u', 'r', 'd', 'd', 'r', 'r', 'd', 'l', 'u', 'r', 'u', 'u', 'l', 'l', 'd', 'd', 'l', 'u', 'u', 'r', 'r', 'r', 'd', 'd', 'l', 'u', 'r', 'u', 'l', 'd', 'd', 'd', 'r', 'u', 'u', 'l', 'd', 'r', 'd', 'l', 'u', 'u', 'r', 'd', 'l', 'l', 'l', 'u', 'r', 'd', 'r', 'u', 'r', 'd', 'l', 'u', 'l', 'l', 'd', 'r', 'r', 'u', 'l', 'd', 'l', 'u', 'r', 'r', 'u', 'l', 'l', 'd', 'r', 'u', 'r', 'd', 'r', 'd', 'l', 'u', 'l', 'l', 'd', 'r', 'r', 'r', 'u', 'l', 'l', 'd', 'l', 'u', 'r', 'r', 'd', 'r', 'u', 'l', 'd', 'l', 'l', 'u', 'r', 'd', 'r', 'u', 'l', 'l', 'd', 'r', 'r', 'r', 'u', 'l', 'd', 'l', 'u', 'r', 'd', 'r', 'u', 'l', 'l', 'd', 'r', 'u', 'r', 'd', 'l', 'l']\n",
            "-----------------------\n",
            "[0, 10, 8, 14, 9, 7, 4, 3, 12, 2, 6, 5, 13, 11, 15, 1] \n",
            "\n",
            "[1, 2, 3, 4, 5, 6, 7, 8, 9, 0, 10, 11, 12, 13, 14, 15]\n",
            "Length of solution:  139\n",
            "Nodes Expanded= 6582\n",
            "-----------------------\n",
            "['d', 'r', 'u', 'u', 'u', 'l', 'l', 'l', 'd', 'd', 'r', 'd', 'l', 'u', 'u', 'r', 'r', 'u', 'l', 'd', 'l', 'u', 'r', 'd', 'r', 'r', 'u', 'l', 'd', 'l', 'u', 'r', 'd', 'r', 'u', 'l', 'd', 'd', 'd', 'l', 'u', 'r', 'u', 'l', 'd', 'd', 'l', 'u', 'u', 'r', 'r', 'r', 'd', 'd', 'l', 'u', 'r', 'u', 'l', 'l', 'd', 'r', 'd', 'l', 'u', 'u', 'r', 'd', 'd', 'r', 'u', 'l', 'u', 'r', 'd', 'd', 'l', 'u', 'u', 'u', 'r', 'd', 'l', 'd', 'd', 'r', 'u', 'u', 'l', 'd', 'r', 'd', 'l', 'l', 'u', 'r', 'd', 'l', 'u', 'l', 'd', 'r', 'r', 'u', 'u', 'l', 'd', 'd', 'r', 'u', 'u', 'l', 'd', 'r', 'd', 'l', 'l', 'u', 'r', 'u', 'l', 'd', 'd', 'r', 'u', 'l', 'u', 'r', 'd', 'd', 'r', 'u', 'u', 'l', 'u', 'r', 'd', 'd', 'l', 'l', 'u', 'r', 'd', 'r', 'u', 'l', 'l', 'd', 'r', 'u', 'r', 'd', 'l', 'l', 'd', 'r', 'u', 'r', 'd', 'l', 'l', 'u', 'u', 'r', 'u', 'l', 'd', 'r', 'd', 'l', 'u', 'u', 'r', 'd', 'r', 'd', 'l', 'u', 'l', 'd', 'r', 'r', 'u', 'l', 'd', 'l', 'u', 'r', 'r', 'd', 'd', 'l', 'u', 'r', 'u', 'l', 'd', 'd', 'r', 'u', 'l', 'u', 'r', 'd', 'l', 'l', 'd', 'r', 'u', 'r', 'd', 'l', 'l', 'u', 'r']\n",
            "-----------------------\n",
            "[8, 14, 12, 2, 7, 6, 1, 11, 3, 4, 0, 13, 15, 9, 10, 5] \n",
            "\n",
            "[1, 2, 3, 4, 5, 6, 7, 8, 9, 0, 10, 11, 12, 13, 14, 15]\n",
            "Length of solution:  215\n",
            "Nodes Expanded= 10438\n",
            "-----------------------\n",
            "['u', 'r', 'u', 'u', 'l', 'd', 'r', 'r', 'u', 'l', 'l', 'l', 'd', 'd', 'r', 'u', 'u', 'l', 'd', 'd', 'r', 'u', 'r', 'r', 'u', 'l', 'd', 'l', 'u', 'r', 'r', 'd', 'l', 'l', 'l', 'd', 'd', 'r', 'r', 'r', 'u', 'u', 'l', 'd', 'd', 'l', 'l', 'u', 'r', 'r', 'u', 'l', 'd', 'l', 'u', 'r', 'd', 'l', 'd', 'r', 'u', 'u', 'r', 'd', 'd', 'l', 'l', 'u', 'r', 'r', 'u', 'u', 'l', 'd', 'd', 'r', 'u', 'l', 'u', 'r', 'd', 'd', 'l', 'l', 'u', 'r', 'r', 'd', 'l', 'u', 'l', 'd', 'r', 'r', 'd', 'l', 'l', 'u', 'r', 'd', 'r', 'u', 'u', 'l', 'd', 'l', 'u', 'r', 'r', 'd', 'l', 'u', 'l', 'd', 'r', 'r', 'u', 'l', 'd', 'd', 'r', 'u', 'l', 'u', 'r', 'd', 'd', 'l', 'u', 'r', 'u', 'l', 'l', 'd', 'r', 'd', 'l', 'u', 'u', 'r', 'd', 'l', 'd', 'r', 'u', 'r', 'd', 'l', 'u', 'r', 'r', 'd', 'l', 'l', 'u', 'r', 'd', 'l', 'l', 'u', 'r', 'u', 'l', 'd', 'd', 'r', 'u', 'l', 'u', 'r', 'r', 'd', 'l', 'd', 'r', 'u', 'u', 'l', 'd', 'r', 'd', 'l', 'u', 'r', 'r', 'u', 'l', 'd', 'l', 'u', 'r', 'r', 'd', 'l', 'l', 'l', 'u', 'r', 'd', 'r', 'r', 'u', 'l', 'l', 'l', 'd', 'r', 'r', 'u', 'r', 'd', 'l', 'l']\n",
            "-----------------------\n",
            "[9, 4, 14, 2, 8, 12, 10, 11, 1, 13, 15, 6, 7, 0, 3, 5] \n",
            "\n",
            "[1, 2, 3, 4, 5, 6, 7, 8, 9, 0, 10, 11, 12, 13, 14, 15]\n",
            "Length of solution:  213\n",
            "Nodes Expanded= 14033\n",
            "-----------------------\n",
            "['d', 'd', 'l', 'u', 'r', 'u', 'l', 'd', 'r', 'u', 'r', 'd', 'l', 'l', 'u', 'u', 'r', 'd', 'l', 'd', 'r', 'd', 'l', 'u', 'r', 'd', 'r', 'u', 'l', 'd', 'r', 'r', 'u', 'l', 'u', 'l', 'd', 'd', 'r', 'u', 'l', 'l', 'u', 'r', 'u', 'l', 'd', 'd', 'r', 'u', 'l', 'd', 'r', 'd', 'l', 'u', 'u', 'r', 'd', 'l', 'd', 'r', 'u', 'u', 'r', 'u', 'r', 'd', 'l', 'u', 'l', 'd', 'r', 'r', 'u', 'l', 'd', 'l', 'u', 'l', 'd', 'd', 'r', 'u', 'l', 'u', 'r', 'r', 'd', 'l', 'd', 'r', 'u', 'u', 'l', 'd', 'd', 'r', 'u', 'l', 'd', 'l', 'u', 'r', 'r', 'd', 'l', 'u', 'l', 'd', 'r', 'r', 'u', 'l', 'u', 'r', 'd', 'd', 'r', 'u', 'u', 'l', 'd', 'r', 'd', 'l', 'u', 'u', 'l', 'l', 'd', 'd', 'r', 'u', 'l', 'u', 'r', 'd', 'd', 'r', 'd', 'r', 'u', 'l', 'l', 'd', 'r', 'u', 'r', 'd', 'l', 'l', 'u', 'l', 'd', 'r', 'r', 'u', 'l', 'd', 'l', 'u', 'r', 'u', 'u', 'l', 'd', 'r', 'd', 'l', 'u', 'u', 'r', 'd', 'd', 'l', 'u', 'r', 'd', 'r', 'u', 'l', 'l', 'd', 'r', 'u', 'r', 'd', 'l', 'u', 'u', 'r', 'd', 'd', 'l', 'u', 'r', 'u', 'l', 'd', 'd']\n",
            "-----------------------\n",
            "[6, 15, 3, 7, 10, 0, 4, 8, 11, 12, 14, 2, 13, 5, 1, 9] \n",
            "\n",
            "[1, 2, 3, 4, 5, 6, 7, 8, 9, 0, 10, 11, 12, 13, 14, 15]\n",
            "Length of solution:  201\n",
            "Nodes Expanded= 41255\n",
            "-----------------------\n",
            "['r', 'd', 'd', 'r', 'u', 'l', 'd', 'd', 'l', 'u', 'r', 'r', 'd', 'l', 'u', 'r', 'r', 'd', 'l', 'u', 'u', 'u', 'r', 'd', 'l', 'd', 'r', 'u', 'l', 'u', 'r', 'd', 'l', 'l', 'l', 'd', 'r', 'r', 'u', 'l', 'l', 'd', 'r', 'r', 'u', 'l', 'd', 'r', 'd', 'l', 'u', 'r', 'u', 'l', 'd', 'l', 'u', 'r', 'r', 'u', 'r', 'd', 'l', 'u', 'l', 'l', 'd', 'd', 'r', 'u', 'u', 'r', 'd', 'r', 'u', 'l', 'd', 'l', 'd', 'r', 'r', 'u', 'l', 'd', 'r', 'd', 'l', 'u', 'l', 'd', 'r', 'r', 'u', 'l', 'd', 'l', 'u', 'u', 'r', 'd', 'r', 'u', 'l', 'l', 'd', 'r', 'u', 'r', 'd', 'l', 'd', 'l', 'u', 'l', 'd', 'r', 'u', 'r', 'd', 'l', 'l', 'u', 'r', 'r', 'd', 'l', 'u', 'r', 'u', 'l', 'd', 'r', 'd', 'l', 'u', 'u', 'r', 'd', 'l', 'd', 'r', 'u', 'u', 'l', 'd', 'l', 'u', 'r', 'r', 'u', 'l', 'l', 'd', 'r', 'u', 'r', 'd', 'd', 'l', 'u', 'l', 'd', 'r', 'r', 'd', 'r', 'u', 'l', 'u', 'r', 'd', 'd', 'l', 'u', 'u', 'u', 'r', 'd', 'l', 'd', 'r', 'u', 'l', 'u', 'r', 'd', 'd', 'l', 'u', 'r', 'u', 'l', 'd', 'd', 'l', 'l', 'd', 'r', 'u', 'r', 'd', 'l', 'l', 'u', 'r']\n",
            "-----------------------\n",
            "[0, 8, 11, 9, 13, 2, 1, 3, 12, 7, 6, 14, 15, 10, 5, 4] \n",
            "\n",
            "[1, 2, 3, 4, 5, 6, 7, 8, 9, 0, 10, 11, 12, 13, 14, 15]\n",
            "Length of solution:  205\n",
            "Nodes Expanded= 6491\n",
            "-----------------------\n",
            "['r', 'r', 'd', 'd', 'r', 'd', 'l', 'u', 'u', 'l', 'd', 'd', 'r', 'u', 'u', 'l', 'u', 'l', 'd', 'd', 'r', 'u', 'l', 'u', 'r', 'd', 'l', 'd', 'r', 'u', 'r', 'd', 'l', 'l', 'u', 'r', 'r', 'd', 'l', 'u', 'l', 'd', 'r', 'r', 'u', 'l', 'u', 'r', 'r', 'd', 'l', 'u', 'l', 'd', 'r', 'd', 'l', 'l', 'u', 'r', 'u', 'l', 'd', 'd', 'd', 'r', 'u', 'r', 'd', 'l', 'l', 'u', 'r', 'd', 'r', 'u', 'l', 'u', 'u', 'r', 'd', 'd', 'l', 'u', 'r', 'u', 'l', 'd', 'd', 'r', 'u', 'l', 'd', 'l', 'u', 'r', 'r', 'd', 'l', 'u', 'l', 'd', 'd', 'r', 'u', 'r', 'd', 'l', 'l', 'u', 'r', 'r', 'r', 'd', 'l', 'u', 'l', 'l', 'd', 'r', 'r', 'u', 'l', 'd', 'l', 'u', 'r', 'r', 'u', 'l', 'u', 'r', 'd', 'd', 'r', 'u', 'u', 'l', 'l', 'd', 'd', 'r', 'u', 'r', 'd', 'l', 'u', 'l', 'd', 'r', 'r', 'u', 'l', 'd', 'l', 'u', 'r', 'r', 'd', 'l', 'u', 'l', 'd', 'l', 'd', 'r', 'u', 'r', 'r', 'd', 'l', 'l', 'l', 'u', 'r', 'r', 'd', 'r', 'u', 'l', 'l']\n",
            "-----------------------\n",
            "[0, 15, 9, 1, 7, 13, 3, 10, 4, 8, 14, 2, 12, 5, 6, 11] \n",
            "\n",
            "[1, 2, 3, 4, 5, 6, 7, 8, 9, 0, 10, 11, 12, 13, 14, 15]\n",
            "Length of solution:  181\n",
            "Nodes Expanded= 12090\n",
            "-----------------------\n",
            "['l', 'u', 'u', 'l', 'l', 'd', 'd', 'r', 'u', 'u', 'u', 'r', 'r', 'd', 'l', 'l', 'd', 'r', 'u', 'r', 'd', 'l', 'd', 'l', 'u', 'r', 'd', 'r', 'u', 'l', 'l', 'd', 'r', 'u', 'l', 'u', 'r', 'r', 'd', 'l', 'u', 'l', 'd', 'r', 'r', 'd', 'l', 'l', 'u', 'l', 'd', 'r', 'r', 'r', 'u', 'l', 'l', 'd', 'l', 'u', 'r', 'd', 'r', 'u', 'r', 'd', 'l', 'l', 'l', 'u', 'u', 'u', 'r', 'd', 'l', 'd', 'r', 'u', 'u', 'l', 'd', 'd', 'd', 'r', 'u', 'l', 'u', 'u', 'r', 'd', 'd', 'l', 'u', 'r', 'u', 'l', 'd', 'd', 'r', 'r', 'd', 'l', 'u', 'l', 'd', 'r', 'r', 'u', 'l', 'd', 'l', 'u', 'r', 'r', 'r', 'u', 'u', 'l', 'd', 'd', 'r', 'u', 'l', 'u', 'r', 'd', 'd', 'l', 'l', 'l', 'd', 'r', 'u', 'r', 'd', 'l', 'l', 'u', 'r', 'd', 'r', 'u', 'l', 'u', 'r', 'r', 'd', 'l', 'u', 'l', 'd', 'r', 'r', 'd', 'l', 'l', 'u', 'r', 'd', 'r', 'u', 'l', 'l']\n",
            "-----------------------\n",
            "[11, 4, 2, 3, 6, 7, 10, 13, 5, 8, 14, 9, 15, 12, 1, 0] \n",
            "\n",
            "[1, 2, 3, 4, 5, 6, 7, 8, 9, 0, 10, 11, 12, 13, 14, 15]\n",
            "Length of solution:  163\n",
            "Nodes Expanded= 37998\n",
            "-----------------------\n",
            "-------\n",
            "[('1391546211110514127083', 'rurullldrruullddrdlururuldrdlurulddruldrdlurdruuldldrurdllurdruuldrdluurdldruulldrulurdrulldrurddluldrruldlurdrdluurdldruulurddluruldldlurrdluldrrurdllurdrulldluurdldrrululddruldrrullurddluruldrrulldrurdlldr', 10111), ('6915132041271410831511', 'rrddlluulurdldrrdlluurrdluldrdluurruldlurrdlldrurdllurdrullurrdlulddrurdldruuldlurrrddlurulddllurulddruuldrurdllurdrulurdrulldddlurulddrulurdrulldrdluurdldrrulurddluurdrulldrulldrdluurdldrrulurddluruldrrdluldrrulllurdrrullldrrurdll', 66840), ('1564830714912510112113', 'ulddrrruulldddluurdlurulddrrdrulldrruluuldrdlluruldddrrruldlurdllurdrruldlurrdlulluurddlurulddrrulldrurdldrruldlurrdllurdrulldrurdlulldrruldlurrdluldrurdllurdrul', 15711), ('0108149743122651311151', 'rrdlddluuurddrrdluruullddluurrrddluruldddruuldrdluurdlllurdrurdlulldrruldlurrulldrurdrdlulldrrrulldlurrdruldllurdrulldrrruldlurdrulldrurdll', 6582), ('8141227611134013159105', 'druuulllddrdluurruldlurdrruldlurdruldddlurulddluurrrddlurulldrdluurddrulurddluuurdlddruuldrdllurdluldrruulddruuldrdllurulddrulurddruulurddllurdrulldrurdlldrurdlluuruldrdluurdrdluldrruldlurrddlurulddrulurdlldrurdllur', 10438), ('9414281210111131567035', 'uruuldrrulllddruulddrurruldlurrdlllddrrruulddllurruldlurdldruurddllurruulddrulurddllurrdluldrrdllurdruuldlurrdluldrrulddrulurddlurulldrdluurdldrurdlurrdllurdllurulddrulurrdldruuldrdlurruldlurrdlllurdrrullldrrurdll', 14033), ('6153710048111214213519', 'ddluruldrurdlluurdldrdlurdruldrrululddrullurulddruldrdluurdldruururdluldrruldlulddrulurrdldruulddruldlurrdluldrrulurddruuldrdluullddrulurddrdrulldrurdlluldrruldluruuldrdluurddlurdrulldrurdluurddluruldd', 41255), ('0811913213127614151054', 'rddrulddlurrdlurrdluuurdldrulurdllldrrulldrruldrdluruldlurrurdlullddruurdruldldrruldrdluldrruldluurdrulldrurdldluldrurdllurrdluruldrdluurdldruuldlurrulldrurddluldrrdrulurddluuurdldrulurddlurulddlldrurdllur', 6491), ('0159171331048142125611', 'rrddrdluulddruululddrulurdldrurdllurrdluldrrulurrdluldrdlluruldddrurdllurdruluurddlurulddruldlurrdlulddrurdllurrrdlulldrruldlurrulurddruullddrurdluldrruldlurrdluldldrurrdlllurrdrull', 12090), ('1142367101358149151210', 'luullddruuurrdlldrurdldlurdrulldrulurrdluldrrdlluldrrrulldlurdrurdllluuurdldruuldddruluurddlurulddrrdluldrruldlurrruulddrulurddllldrurdllurdrulurrdluldrrdllurdrull', 37998)]\n"
          ]
        }
      ]
    },
    {
      "cell_type": "code",
      "metadata": {
        "colab": {
          "base_uri": "https://localhost:8080/"
        },
        "id": "rQw9QKTCMvBY",
        "outputId": "9d05817b-06a0-49e1-f780-8a0f0eb6a353"
      },
      "source": [
        "### Best First\n",
        "bestFirstSearchf = lambda n: ManhattanDistance(n.State, GoalState)\n",
        "testProblems = [[13, 9, 15, 4, 6, 2, 1, 11, 10, 5, 14, 12, 7, 0, 8, 3], [6, 9, 15, 13, 2, 0, 4, 12, 7, 14, 10, 8, 3, 1, 5, 11], [15, 6, 4, 8, 3, 0, 7, 14, 9, 12, 5, 10, 11, 2, 1, 13], [0, 10, 8, 14, 9, 7, 4, 3, 12, 2, 6, 5, 13, 11, 15, 1], [8, 14, 12, 2, 7, 6, 1, 11, 3, 4, 0, 13, 15, 9, 10, 5], [9, 4, 14, 2, 8, 12, 10, 11, 1, 13, 15, 6, 7, 0, 3, 5], [6, 15, 3, 7, 10, 0, 4, 8, 11, 12, 14, 2, 13, 5, 1, 9], [0, 8, 11, 9, 13, 2, 1, 3, 12, 7, 6, 14, 15, 10, 5, 4], [0, 15, 9, 1, 7, 13, 3, 10, 4, 8, 14, 2, 12, 5, 6, 11], [11, 4, 2, 3, 6, 7, 10, 13, 5, 8, 14, 9, 15, 12, 1, 0]]\n",
        "\n",
        "Solutions = []\n",
        "for s in testProblems:\n",
        "  TileSliding.INITIAL = s\n",
        "  ret, cost = BestFirstSearch(TileSliding, bestFirstSearchf)\n",
        "  sol = Solution(ret)\n",
        "  print (sol)\n",
        "  print (\"-----------------------\")\n",
        "  print (TileSliding.INITIAL,'\\n')\n",
        "  print (ApplyMoves(sol, TileSliding.INITIAL))\n",
        "  print (\"Length of solution: \", len(sol))\n",
        "  print (\"Nodes Expanded=\", cost)\n",
        "  print (\"-----------------------\")\n",
        "  Solutions.append((''.join(map(str, s)), ''.join(sol), cost))\n",
        "print (\"-------\")\n",
        "print (Solutions)"
      ],
      "execution_count": 112,
      "outputs": [
        {
          "output_type": "stream",
          "name": "stdout",
          "text": [
            "['l', 'u', 'r', 'd', 'r', 'u', 'l', 'd', 'r', 'r', 'u', 'u', 'u', 'l', 'd', 'd', 'd', 'l', 'l', 'u', 'u', 'u', 'r', 'd', 'd', 'l', 'u', 'u', 'r', 'r', 'd', 'l', 'd', 'l', 'd', 'r', 'u', 'u', 'l', 'd', 'r', 'u', 'l', 'd', 'd', 'r', 'u', 'l', 'u', 'r', 'r', 'd', 'l', 'l', 'u', 'u', 'r', 'r', 'd', 'l', 'l', 'd', 'r', 'd', 'r', 'r', 'u', 'u', 'u', 'l', 'l', 'd', 'r', 'u', 'r', 'd', 'd', 'l', 'd', 'l', 'u', 'r', 'r', 'd', 'l', 'l', 'u', 'l', 'd', 'r', 'r', 'u', 'u', 'l', 'd', 'l', 'd', 'r', 'u', 'r', 'd', 'l', 'l', 'u', 'u', 'r', 'd', 'd', 'r', 'u', 'u', 'l', 'l', 'd', 'd', 'r', 'r', 'r', 'u', 'l', 'l', 'd', 'l', 'u', 'r', 'r', 'u', 'r', 'u', 'l', 'd', 'd', 'r', 'u', 'u', 'l', 'd', 'd', 'r', 'u', 'l', 'u', 'r', 'd', 'd', 'l', 'u', 'r', 'u', 'l', 'd', 'd', 'l', 'l', 'd', 'r', 'u', 'r', 'r', 'd', 'l', 'l', 'l', 'u', 'r', 'r', 'd', 'r', 'u', 'l', 'l', 'd', 'r', 'u', 'r', 'd', 'l', 'l', 'u']\n",
            "-----------------------\n",
            "[13, 9, 15, 4, 6, 2, 1, 11, 10, 5, 14, 12, 7, 0, 8, 3] \n",
            "\n",
            "[1, 2, 3, 4, 5, 6, 7, 8, 9, 0, 10, 11, 12, 13, 14, 15]\n",
            "Length of solution:  179\n",
            "Nodes Expanded= 1908\n",
            "-----------------------\n",
            "['u', 'l', 'd', 'd', 'd', 'r', 'u', 'u', 'l', 'd', 'd', 'r', 'r', 'u', 'l', 'd', 'l', 'u', 'r', 'r', 'd', 'l', 'u', 'u', 'u', 'l', 'd', 'r', 'r', 'r', 'u', 'l', 'd', 'r', 'd', 'l', 'u', 'l', 'd', 'r', 'r', 'u', 'l', 'l', 'l', 'd', 'd', 'r', 'u', 'u', 'r', 'u', 'r', 'd', 'd', 'l', 'u', 'l', 'd', 'r', 'r', 'd', 'l', 'l', 'u', 'l', 'd', 'r', 'r', 'u', 'u', 'l', 'd', 'l', 'u', 'r', 'r', 'u', 'l', 'l', 'd', 'r', 'r', 'd', 'l', 'u', 'l', 'd', 'd', 'r', 'u', 'r', 'd', 'l', 'l', 'u', 'u', 'r', 'u', 'r', 'd', 'l', 'l', 'u', 'r', 'r', 'd', 'l', 'u', 'l', 'd', 'd', 'r', 'u', 'r', 'd', 'l', 'l', 'u', 'r', 'r', 'd', 'l', 'u', 'l', 'd', 'd', 'r', 'u', 'r', 'd', 'l', 'l', 'u', 'r', 'r', 'd', 'r', 'u', 'l', 'l', 'd', 'r', 'u', 'r', 'd', 'l', 'l', 'u']\n",
            "-----------------------\n",
            "[6, 9, 15, 13, 2, 0, 4, 12, 7, 14, 10, 8, 3, 1, 5, 11] \n",
            "\n",
            "[1, 2, 3, 4, 5, 6, 7, 8, 9, 0, 10, 11, 12, 13, 14, 15]\n",
            "Length of solution:  149\n",
            "Nodes Expanded= 2419\n",
            "-----------------------\n",
            "['u', 'l', 'd', 'd', 'r', 'd', 'l', 'u', 'u', 'r', 'd', 'd', 'r', 'r', 'u', 'u', 'u', 'l', 'l', 'd', 'r', 'd', 'l', 'd', 'r', 'r', 'u', 'l', 'u', 'l', 'd', 'l', 'u', 'r', 'u', 'l', 'd', 'd', 'r', 'r', 'u', 'u', 'l', 'd', 'l', 'd', 'r', 'r', 'u', 'l', 'l', 'd', 'r', 'u', 'r', 'r', 'd', 'l', 'd', 'r', 'u', 'u', 'l', 'd', 'l', 'l', 'u', 'r', 'd', 'r', 'u', 'l', 'l', 'd', 'r']\n",
            "-----------------------\n",
            "[15, 6, 4, 8, 3, 0, 7, 14, 9, 12, 5, 10, 11, 2, 1, 13] \n",
            "\n",
            "[1, 2, 3, 4, 5, 6, 7, 8, 9, 0, 10, 11, 12, 13, 14, 15]\n",
            "Length of solution:  75\n",
            "Nodes Expanded= 408\n",
            "-----------------------\n",
            "['r', 'd', 'd', 'd', 'l', 'u', 'u', 'u', 'r', 'd', 'l', 'u', 'r', 'r', 'd', 'd', 'l', 'u', 'r', 'r', 'u', 'l', 'd', 'r', 'd', 'l', 'u', 'r', 'd', 'd', 'l', 'u', 'r', 'u', 'l', 'd', 'l', 'u', 'r', 'u', 'l', 'd', 'l', 'u', 'r', 'r', 'd', 'l', 'l', 'u', 'r', 'd', 'd', 'l', 'u', 'u', 'r', 'd', 'l', 'd', 'r', 'u', 'u', 'l', 'd', 'r', 'r', 'r', 'd', 'l', 'l', 'u', 'r', 'd', 'r', 'u', 'l', 'd', 'l', 'l', 'u', 'r', 'r', 'd', 'l', 'l', 'u', 'r', 'd', 'r', 'u', 'l', 'l', 'd', 'r', 'u', 'r', 'd', 'l']\n",
            "-----------------------\n",
            "[0, 10, 8, 14, 9, 7, 4, 3, 12, 2, 6, 5, 13, 11, 15, 1] \n",
            "\n",
            "[1, 2, 3, 4, 5, 6, 7, 8, 9, 0, 10, 11, 12, 13, 14, 15]\n",
            "Length of solution:  99\n",
            "Nodes Expanded= 486\n",
            "-----------------------\n",
            "['d', 'r', 'u', 'u', 'l', 'u', 'l', 'l', 'd', 'd', 'r', 'd', 'r', 'u', 'u', 'u', 'l', 'l', 'd', 'd', 'r', 'r', 'u', 'u', 'l', 'l', 'd', 'd', 'r', 'd', 'l', 'u', 'u', 'r', 'd', 'l', 'u', 'r', 'r', 'u', 'r', 'd', 'l', 'l', 'u', 'r', 'r', 'd', 'l', 'l', 'u', 'r', 'd', 'd', 'd', 'l', 'u', 'l', 'u', 'u', 'r', 'd', 'l', 'd', 'r', 'r', 'u', 'l', 'u', 'r', 'd', 'r', 'u', 'l', 'l', 'd', 'r', 'r', 'd', 'd', 'l', 'u', 'l', 'd', 'r', 'u', 'r', 'u', 'l', 'l', 'd', 'r', 'd', 'l', 'u', 'l', 'u', 'r', 'd', 'r', 'u', 'l', 'l', 'd', 'r', 'u', 'r', 'd', 'l', 'l', 'u', 'r', 'd', 'r', 'u', 'l', 'l', 'd', 'r', 'r', 'u', 'r', 'd', 'l', 'l', 'u', 'r', 'd', 'r', 'u', 'l', 'l', 'd']\n",
            "-----------------------\n",
            "[8, 14, 12, 2, 7, 6, 1, 11, 3, 4, 0, 13, 15, 9, 10, 5] \n",
            "\n",
            "[1, 2, 3, 4, 5, 6, 7, 8, 9, 0, 10, 11, 12, 13, 14, 15]\n",
            "Length of solution:  133\n",
            "Nodes Expanded= 2183\n",
            "-----------------------\n",
            "['u', 'u', 'l', 'd', 'd', 'r', 'u', 'l', 'd', 'r', 'r', 'u', 'u', 'u', 'l', 'l', 'd', 'r', 'd', 'd', 'r', 'r', 'u', 'u', 'l', 'l', 'd', 'r', 'd', 'l', 'u', 'r', 'u', 'l', 'd', 'l', 'u', 'r', 'u', 'r', 'd', 'd', 'd', 'l', 'u', 'u', 'r', 'r', 'd', 'l', 'd', 'r', 'u', 'l', 'u', 'l', 'd', 'd', 'r', 'u', 'l', 'd', 'r', 'u', 'r', 'u', 'l', 'l', 'd', 'l', 'u', 'r', 'r', 'd', 'l', 'u', 'r', 'd', 'l', 'u', 'l', 'd', 'r', 'd', 'r', 'u', 'l', 'l', 'd', 'r', 'r', 'u', 'l', 'd', 'l', 'u', 'u', 'r', 'u', 'r', 'r', 'd', 'l', 'l', 'u', 'r', 'd', 'l', 'l', 'd', 'r', 'r', 'r', 'u', 'u', 'l', 'd', 'r', 'd', 'l', 'l']\n",
            "-----------------------\n",
            "[9, 4, 14, 2, 8, 12, 10, 11, 1, 13, 15, 6, 7, 0, 3, 5] \n",
            "\n",
            "[1, 2, 3, 4, 5, 6, 7, 8, 9, 0, 10, 11, 12, 13, 14, 15]\n",
            "Length of solution:  121\n",
            "Nodes Expanded= 1556\n",
            "-----------------------\n",
            "['l', 'd', 'r', 'd', 'l', 'u', 'r', 'u', 'l', 'd', 'r', 'u', 'u', 'r', 'r', 'd', 'd', 'd', 'l', 'u', 'l', 'u', 'r', 'u', 'l', 'd', 'r', 'r', 'u', 'l', 'd', 'l', 'u', 'r', 'r', 'd', 'd', 'l', 'l', 'l', 'u', 'u', 'r', 'd', 'r', 'r', 'u', 'l', 'l', 'd', 'r', 'u', 'l', 'l', 'd', 'd', 'r', 'u', 'r', 'u', 'r', 'd', 'd', 'd', 'l', 'u', 'r', 'u', 'l', 'd', 'l', 'l', 'u', 'u', 'r', 'd', 'r', 'r', 'u', 'l', 'l', 'd', 'l', 'd', 'r', 'r', 'r', 'u', 'u', 'l', 'd', 'r', 'd', 'l', 'l', 'l', 'u', 'u', 'r', 'd', 'l', 'd', 'r', 'r', 'u', 'l', 'u', 'r', 'd', 'd', 'l', 'u', 'u', 'r', 'd', 'l', 'd', 'l', 'd', 'r', 'u', 'r', 'd', 'l', 'l', 'u', 'r', 'r', 'd', 'r', 'u', 'l', 'l', 'd', 'r', 'u', 'r', 'd', 'l', 'l', 'u']\n",
            "-----------------------\n",
            "[6, 15, 3, 7, 10, 0, 4, 8, 11, 12, 14, 2, 13, 5, 1, 9] \n",
            "\n",
            "[1, 2, 3, 4, 5, 6, 7, 8, 9, 0, 10, 11, 12, 13, 14, 15]\n",
            "Length of solution:  141\n",
            "Nodes Expanded= 3456\n",
            "-----------------------\n",
            "['r', 'd', 'd', 'd', 'l', 'u', 'u', 'r', 'r', 'u', 'r', 'd', 'l', 'd', 'd', 'l', 'u', 'r', 'r', 'd', 'l', 'u', 'u', 'u', 'r', 'd', 'd', 'l', 'u', 'l', 'd', 'r', 'r', 'u', 'u', 'l', 'd', 'd', 'l', 'l', 'u', 'r', 'r', 'r', 'd', 'l', 'u', 'u', 'r', 'd', 'd', 'l', 'd', 'l', 'u', 'l', 'u', 'r', 'r', 'd', 'l', 'u', 'l', 'd', 'r', 'r', 'u', 'r', 'd', 'l', 'u', 'l', 'd', 'r', 'r', 'u', 'l', 'l', 'l', 'u', 'r', 'd', 'l', 'd', 'r', 'u', 'u', 'l', 'd', 'r', 'd', 'l', 'd', 'r', 'r', 'u', 'l', 'd', 'l', 'u', 'u', 'r', 'd', 'r', 'u', 'l', 'l', 'd', 'r', 'r', 'u', 'l', 'd', 'r', 'u', 'r', 'd', 'l', 'l', 'u', 'r', 'r', 'd', 'l', 'l', 'u', 'r', 'd', 'r', 'u', 'l', 'l', 'd', 'r', 'u', 'r', 'd', 'l', 'l']\n",
            "-----------------------\n",
            "[0, 8, 11, 9, 13, 2, 1, 3, 12, 7, 6, 14, 15, 10, 5, 4] \n",
            "\n",
            "[1, 2, 3, 4, 5, 6, 7, 8, 9, 0, 10, 11, 12, 13, 14, 15]\n",
            "Length of solution:  139\n",
            "Nodes Expanded= 952\n",
            "-----------------------\n",
            "['r', 'r', 'd', 'r', 'd', 'd', 'l', 'u', 'l', 'u', 'l', 'd', 'd', 'r', 'u', 'u', 'u', 'l', 'd', 'r', 'u', 'r', 'r', 'd', 'd', 'l', 'u', 'l', 'd', 'r', 'u', 'l', 'u', 'r', 'r', 'd', 'd', 'l', 'l', 'l', 'u', 'u', 'r', 'd', 'l', 'd', 'd', 'r', 'u', 'u', 'l', 'd', 'd', 'r', 'r', 'r', 'u', 'l', 'd', 'l', 'u', 'r', 'r', 'u', 'u', 'l', 'l', 'd', 'd', 'd', 'r', 'u', 'l', 'u', 'u', 'r', 'r', 'd', 'd', 'l', 'd', 'l', 'u', 'u', 'r', 'u', 'l', 'd', 'r', 'r', 'u', 'l', 'l', 'd', 'r', 'r', 'd', 'l', 'u', 'u', 'r', 'd', 'l', 'd', 'r', 'u', 'l', 'l', 'd', 'r', 'r', 'u', 'l', 'd', 'l', 'l', 'd', 'r', 'u', 'u', 'l', 'd', 'd', 'r', 'u', 'l', 'u', 'r', 'd', 'd', 'l', 'u', 'r']\n",
            "-----------------------\n",
            "[0, 15, 9, 1, 7, 13, 3, 10, 4, 8, 14, 2, 12, 5, 6, 11] \n",
            "\n",
            "[1, 2, 3, 4, 5, 6, 7, 8, 9, 0, 10, 11, 12, 13, 14, 15]\n",
            "Length of solution:  133\n",
            "Nodes Expanded= 1657\n",
            "-----------------------\n",
            "['l', 'u', 'u', 'l', 'l', 'd', 'd', 'r', 'u', 'l', 'u', 'u', 'r', 'r', 'r', 'd', 'd', 'd', 'l', 'l', 'u', 'u', 'l', 'd', 'r', 'u', 'r', 'r', 'd', 'l', 'u', 'r', 'u', 'l', 'd', 'l', 'd', 'r', 'd', 'l', 'u', 'u', 'r', 'd', 'r', 'u', 'l', 'l', 'd', 'd', 'r', 'r', 'u', 'l', 'u', 'l', 'u', 'r', 'r', 'd', 'l', 'd', 'r', 'u', 'u', 'l', 'l', 'l', 'd', 'd', 'r', 'u', 'l', 'u', 'r', 'd', 'd', 'l', 'u', 'r', 'u', 'l', 'd', 'r', 'u', 'r', 'r', 'd', 'l', 'l', 'l', 'u', 'r', 'r', 'd', 'r', 'u', 'l', 'l', 'l', 'd', 'd', 'r', 'd', 'r', 'r', 'u', 'l', 'l', 'd', 'r', 'u', 'r', 'd', 'l', 'u', 'l', 'l', 'd', 'r', 'r', 'u', 'l', 'd', 'l', 'u', 'u', 'u', 'r', 'd', 'd', 'r', 'u', 'l', 'l', 'd', 'r', 'u', 'r', 'd', 'l', 'u', 'u', 'r', 'd', 'd', 'l', 'u', 'r', 'u', 'l', 'd', 'd']\n",
            "-----------------------\n",
            "[11, 4, 2, 3, 6, 7, 10, 13, 5, 8, 14, 9, 15, 12, 1, 0] \n",
            "\n",
            "[1, 2, 3, 4, 5, 6, 7, 8, 9, 0, 10, 11, 12, 13, 14, 15]\n",
            "Length of solution:  153\n",
            "Nodes Expanded= 2354\n",
            "-----------------------\n",
            "-------\n",
            "[('1391546211110514127083', 'lurdruldrruuuldddlluuurddluurrdldldruuldrulddrulurrdlluurrdlldrdrruuulldrurddldlurrdlluldrruuldldrurdlluurddruullddrrrulldlurrurulddruulddrulurddlurulddlldrurrdlllurrdrulldrurdllu', 1908), ('6915132041271410831511', 'uldddruulddrruldlurrdluuuldrrruldrdluldrrulllddruururddluldrrdlluldrruuldlurrulldrrdlulddrurdlluururdllurrdlulddrurdllurrdlulddrurdllurrdrulldrurdllu', 2419), ('1564830714912510112113', 'ulddrdluurddrruuulldrdldrrululdlurulddrruuldldrrulldrurrdldruuldllurdrulldr', 408), ('0108149743122651311151', 'rdddluuurdlurrddlurruldrdlurddluruldluruldlurrdllurddluurdldruuldrrrdllurdruldllurrdllurdrulldrurdl', 486), ('8141227611134013159105', 'druulullddrdruuullddrruullddrdluurdlurrurdllurrdllurdddluluurdldrrulurdrulldrrddluldrurulldrdlulurdrulldrurdllurdrulldrrurdllurdrulld', 2183), ('9414281210111131567035', 'uulddruldrruuulldrddrruulldrdluruldlururdddluurrdldrululddruldrurulldlurrdlurdluldrdrulldrruldluururrdllurdlldrrruuldrdll', 1556), ('6153710048111214213519', 'ldrdluruldruurrdddluluruldrruldlurrddllluurdrrulldrullddrururdddluruldlluurdrrulldldrrruuldrdllluurdldrrulurddluurdldldrurdllurrdrulldrurdllu', 3456), ('0811913213127614151054', 'rdddluurrurdlddlurrdluuurddluldrruulddllurrrdluurddldlulurrdluldrrurdluldrrulllurdldruuldrdldrruldluurdrulldrruldrurdllurrdllurdrulldrurdll', 952), ('0159171331048142125611', 'rrdrddlululddruuuldrurrddluldrulurrddllluurdlddruulddrrruldlurruulldddruluurrddldluuruldrrulldrrdluurdldrulldrruldlldruulddrulurddlur', 1657), ('1142367101358149151210', 'luullddruluurrrdddlluuldrurrdluruldldrdluurdrullddrrululurrdldruulllddrulurddluruldrurrdlllurrdrulllddrdrrulldrurdlulldrruldluuurddrulldrurdluurddluruldd', 2354)]\n"
          ]
        }
      ]
    },
    {
      "cell_type": "markdown",
      "metadata": {
        "id": "TFLhS5QmxRz2"
      },
      "source": [
        "# Domain 2"
      ]
    },
    {
      "cell_type": "code",
      "metadata": {
        "id": "PqDD8fsrxXK7"
      },
      "source": [
        "VectorWorldDim = 10\n",
        "VectorWorld = Problem()\n",
        "VectorWorld.INITIAL = [0]\n",
        "VectorWorld.IsGoal = lambda s: s==[3,] or s==(3,)\n",
        "VectorWorld.Actions = lambda s: ['Left', 'Right']\n",
        "## TileSliding.Result=VectorWorldResult\n",
        "VectorWorld.ActionCost = lambda s, a, sPrime: 1"
      ],
      "execution_count": 113,
      "outputs": []
    },
    {
      "cell_type": "code",
      "metadata": {
        "id": "uWNR8AQJyCN7"
      },
      "source": [
        "def VectorWorldResult(state, action):\n",
        "  if action=='Left':\n",
        "    return [(state[0]+VectorWorldDim-1)%VectorWorldDim]\n",
        "  else:\n",
        "    return [(state[0]+1)%VectorWorldDim]\n",
        "VectorWorld.Result=VectorWorldResult\n"
      ],
      "execution_count": 114,
      "outputs": []
    },
    {
      "cell_type": "code",
      "metadata": {
        "colab": {
          "base_uri": "https://localhost:8080/"
        },
        "id": "Ox26cyPP2xba",
        "outputId": "aeb9c955-0c5c-47b7-8631-d7d9b9cd9673"
      },
      "source": [
        "print (VectorWorld.IsGoal((3,)))"
      ],
      "execution_count": 115,
      "outputs": [
        {
          "output_type": "stream",
          "name": "stdout",
          "text": [
            "True\n"
          ]
        }
      ]
    },
    {
      "cell_type": "code",
      "metadata": {
        "colab": {
          "base_uri": "https://localhost:8080/"
        },
        "id": "SBfeM9Vbykci",
        "outputId": "2a7c9a5d-a467-400e-b9c3-e1a6969d586e"
      },
      "source": [
        "ret, cost = BreadthFirstSearch(VectorWorld)\n",
        "print (\"ret=\", ret)\n",
        "sol = Solution(ret)\n",
        "print (sol)\n"
      ],
      "execution_count": 116,
      "outputs": [
        {
          "output_type": "stream",
          "name": "stdout",
          "text": [
            "ret= [3], Right\n",
            "['Right', 'Right', 'Right']\n"
          ]
        }
      ]
    },
    {
      "cell_type": "code",
      "metadata": {
        "id": "dAbJ75Ym4WmP"
      },
      "source": [
        "VectorWorld.INITIAL = [8]"
      ],
      "execution_count": 117,
      "outputs": []
    },
    {
      "cell_type": "code",
      "metadata": {
        "colab": {
          "base_uri": "https://localhost:8080/"
        },
        "id": "QGO1VglP4Zq6",
        "outputId": "3b80ab72-8d8f-4506-a7c6-5fe4216e5ae8"
      },
      "source": [
        "ret, cost = BreadthFirstSearch(VectorWorld)\n",
        "print (\"ret=\", ret)\n",
        "sol = Solution(ret)\n",
        "print (sol)"
      ],
      "execution_count": 118,
      "outputs": [
        {
          "output_type": "stream",
          "name": "stdout",
          "text": [
            "ret= [3], Left\n",
            "['Left', 'Left', 'Left', 'Left', 'Left']\n"
          ]
        }
      ]
    }
  ]
}
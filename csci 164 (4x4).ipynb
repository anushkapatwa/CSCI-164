{
  "nbformat": 4,
  "nbformat_minor": 0,
  "metadata": {
    "colab": {
      "provenance": []
    },
    "kernelspec": {
      "name": "python3",
      "display_name": "Python 3"
    }
  },
  "cells": [
    {
      "cell_type": "code",
      "metadata": {
        "id": "Gbe5KqWcISTq"
      },
      "source": [
        "import random\n",
        "import heapq"
      ],
      "execution_count": 1,
      "outputs": []
    },
    {
      "cell_type": "markdown",
      "metadata": {
        "id": "PHnbnN2uV8zr"
      },
      "source": [
        "# Tile Sliding Domain: Initial State Space"
      ]
    },
    {
      "cell_type": "code",
      "metadata": {
        "id": "jPCNOa4W-5yq"
      },
      "source": [
        "StateDimension=4\n",
        "InitialState = [1,2,3,4,11,12,6,5,0,14,15,7,8,9,10,13]\n",
        "GoalState=[1,2,3,4,5,6,7,8,0,9,10,11,12,13,14,15]\n",
        "Actions = lambda s: ['u', 'd', 'l', 'r']\n",
        "Opposite=dict([('u','d'),('d','u'),('l','r'),('r','l'), (None, None)])"
      ],
      "execution_count": 2,
      "outputs": []
    },
    {
      "cell_type": "code",
      "metadata": {
        "id": "XjnzkkC8_HE8"
      },
      "source": [
        "# For each random problem, we document:\n",
        "# (1) Start State: Initial configuration of the puzzle after random walk.\n",
        "# (2) Solution: List of actions (e.g., ['Up', 'Left']) to reach the goal.\n",
        "# (3) Length of Solution: Number of steps in the path to the solution.\n",
        "# (4) Nodes Expanded: Total nodes generated and explored during search.\n",
        "\n",
        "# We compare performance across:\n",
        "# - Breadth-First Search (uninformed)\n",
        "# - A* Search with Out-of-Place heuristic\n",
        "# - A* Search with Manhattan Distance heuristic\n",
        "\n",
        "# These results help evaluate how AI search algorithms scale with increasing problem complexity (3x3 vs 4x4).\n",
        "# Larger puzzles (like 4x4) have exponentially larger state spaces, making uninformed search infeasible.\n",
        "# Heuristics (informed search) guide the search efficiently, drastically reducing nodes expanded.\n",
        "\n",
        "def Result(state, action):\n",
        "  i = state.index(0)\n",
        "  newState = list(state)\n",
        "  row,col=i//StateDimension, i % StateDimension\n",
        "  if ( (action=='u' and row==0) or\n",
        "       (action=='d' and row==StateDimension-1) or\n",
        "       (action=='l' and col==0) or\n",
        "       (action=='r' and col==StateDimension-1)):\n",
        "      return newState\n",
        "  if action=='u':\n",
        "    l,r = row*StateDimension+col, (row-1)*StateDimension+col\n",
        "  elif action=='d':\n",
        "    l,r = row*StateDimension+col, (row+1)*StateDimension+col\n",
        "  elif action=='l':\n",
        "    l,r = row*StateDimension+col, row*StateDimension+col-1\n",
        "  elif action=='r' :\n",
        "    l,r = row*StateDimension+col, row*StateDimension+col+1\n",
        "  newState[l], newState[r] = newState[r], newState[l]\n",
        "  return newState\n",
        "\n",
        "def PrintState(s):\n",
        "  for i in range(0,len(s),StateDimension):\n",
        "    print(s[i:i+StateDimension])\n",
        "\n",
        "def LegalMove(state, action):\n",
        "  i = state.index(0)\n",
        "  row,col=i//StateDimension, i % StateDimension\n",
        "  newState = state.copy()\n",
        "  if ( (action=='u' and row==0) or\n",
        "       (action=='d' and row==StateDimension-1) or\n",
        "       (action=='l' and col==0) or\n",
        "       (action=='r' and col==StateDimension-1)):\n",
        "      return False\n",
        "  return True\n"
      ],
      "execution_count": 3,
      "outputs": []
    },
    {
      "cell_type": "code",
      "metadata": {
        "id": "4z6hE5HsNwHf"
      },
      "source": [
        "def SingleTileManhattanDistance(tile, left, right):\n",
        "  leftIndex = left.index(tile)\n",
        "  rightIndex = right.index(tile)\n",
        "  return (abs(leftIndex//StateDimension-rightIndex//StateDimension) +\n",
        "          abs(leftIndex%StateDimension-rightIndex%StateDimension))\n",
        "\n",
        "def ManhattanDistance(left, right):\n",
        "  distances = [SingleTileManhattanDistance(tile, left, right)\n",
        "     for tile in range(1, StateDimension**2)]\n",
        "  ### print (\"Distances= \", distances)\n",
        "  return sum(distances)\n"
      ],
      "execution_count": 4,
      "outputs": []
    },
    {
      "cell_type": "code",
      "metadata": {
        "id": "7PE_gAdLSY_z"
      },
      "source": [
        "def OutOfPlace(left, right):\n",
        "  distances = [left[i]!=right[i] and right[i] != 0\n",
        "     for i in range(StateDimension**2)]\n",
        "  return sum(distances)"
      ],
      "execution_count": 5,
      "outputs": []
    },
    {
      "cell_type": "code",
      "metadata": {
        "colab": {
          "base_uri": "https://localhost:8080/"
        },
        "id": "bE7MrTAI_t6i",
        "outputId": "df153009-3ef6-4ebc-aea6-4247bddbbdc2"
      },
      "source": [
        "PrintState(InitialState)"
      ],
      "execution_count": 6,
      "outputs": [
        {
          "output_type": "stream",
          "name": "stdout",
          "text": [
            "[1, 2, 3, 4]\n",
            "[11, 12, 6, 5]\n",
            "[0, 14, 15, 7]\n",
            "[8, 9, 10, 13]\n"
          ]
        }
      ]
    },
    {
      "cell_type": "code",
      "metadata": {
        "colab": {
          "base_uri": "https://localhost:8080/"
        },
        "id": "wRULKFeXVcp3",
        "outputId": "9863e0b6-c55f-4919-df9e-671947b890a0"
      },
      "source": [
        "PrintState(GoalState)"
      ],
      "execution_count": 7,
      "outputs": [
        {
          "output_type": "stream",
          "name": "stdout",
          "text": [
            "[1, 2, 3, 4]\n",
            "[5, 6, 7, 8]\n",
            "[0, 9, 10, 11]\n",
            "[12, 13, 14, 15]\n"
          ]
        }
      ]
    },
    {
      "cell_type": "code",
      "metadata": {
        "colab": {
          "base_uri": "https://localhost:8080/"
        },
        "id": "Ke12RA7cPaS9",
        "outputId": "1dee9d4d-7f0b-4d4e-8910-3872eea4b12e"
      },
      "source": [
        "print(\"ManhattanDistance=  \", ManhattanDistance(InitialState, GoalState))\n",
        "print(\"OutOfPlace= \", OutOfPlace(InitialState, GoalState))\n"
      ],
      "execution_count": 8,
      "outputs": [
        {
          "output_type": "stream",
          "name": "stdout",
          "text": [
            "ManhattanDistance=   26\n",
            "OutOfPlace=  11\n"
          ]
        }
      ]
    },
    {
      "cell_type": "code",
      "metadata": {
        "colab": {
          "base_uri": "https://localhost:8080/"
        },
        "id": "j-EYW_gqGZtl",
        "outputId": "e92486d7-8a5e-4158-8cee-69058a0b92d0"
      },
      "source": [
        "PrintState(InitialState)\n",
        "print()\n",
        "state1 = Result(InitialState, 'u')\n",
        "PrintState(state1)\n",
        "print()\n",
        "state1 = Result(state1, 'r')\n",
        "PrintState(state1)"
      ],
      "execution_count": 9,
      "outputs": [
        {
          "output_type": "stream",
          "name": "stdout",
          "text": [
            "[1, 2, 3, 4]\n",
            "[11, 12, 6, 5]\n",
            "[0, 14, 15, 7]\n",
            "[8, 9, 10, 13]\n",
            "\n",
            "[1, 2, 3, 4]\n",
            "[0, 12, 6, 5]\n",
            "[11, 14, 15, 7]\n",
            "[8, 9, 10, 13]\n",
            "\n",
            "[1, 2, 3, 4]\n",
            "[12, 0, 6, 5]\n",
            "[11, 14, 15, 7]\n",
            "[8, 9, 10, 13]\n"
          ]
        }
      ]
    },
    {
      "cell_type": "markdown",
      "metadata": {
        "id": "Mp0tnomdTFoC"
      },
      "source": [
        "# Random Walk\n",
        "\n",
        "Take some random moves from a state and return the new state and the sequence of moves.\n",
        "\n",
        "Do not include moves undoing last move, or having no effect."
      ]
    },
    {
      "cell_type": "code",
      "metadata": {
        "id": "1RVh0-S9IFiy"
      },
      "source": [
        "def RandomWalk(state, steps):\n",
        "  actionSequence = []\n",
        "  actionLast = None\n",
        "  for i in range(steps):\n",
        "    action = None\n",
        "    while action==None:\n",
        "      action = random.choice(Actions(state))\n",
        "      action = action if (LegalMove(state, action)\n",
        "          and action!= Opposite[actionLast]) else None\n",
        "    actionLast = action\n",
        "    state = Result(state, action)\n",
        "    actionSequence.append(action)\n",
        "  return state, actionSequence\n",
        "\n"
      ],
      "execution_count": 10,
      "outputs": []
    },
    {
      "cell_type": "code",
      "metadata": {
        "colab": {
          "base_uri": "https://localhost:8080/"
        },
        "id": "wcn5POkxKlER",
        "outputId": "f0de75ab-31c7-4648-9694-b17591191246"
      },
      "source": [
        "state1, sol = RandomWalk(InitialState, 150)\n",
        "PrintState(state1)\n",
        "print (ManhattanDistance(state1, GoalState), sol)\n",
        "\n",
        "state1, sol = RandomWalk(InitialState, 5)\n",
        "PrintState(InitialState)\n",
        "print (sol)\n",
        "PrintState(state1)\n",
        "state1, sol = RandomWalk(InitialState, 10)\n",
        "PrintState(InitialState)\n",
        "print (sol)\n",
        "PrintState(state1)\n",
        "state1, sol = RandomWalk(InitialState, 20)\n",
        "PrintState(InitialState)\n",
        "print (sol)\n",
        "PrintState(state1)\n",
        "state1, sol = RandomWalk(InitialState, 40)\n",
        "PrintState(InitialState)\n",
        "print (sol)\n",
        "PrintState(state1)\n",
        "state1, sol = RandomWalk(InitialState, 80)\n",
        "PrintState(InitialState)\n",
        "print (sol)\n",
        "PrintState(state1)\n"
      ],
      "execution_count": 11,
      "outputs": [
        {
          "output_type": "stream",
          "name": "stdout",
          "text": [
            "[3, 7, 11, 4]\n",
            "[15, 0, 2, 10]\n",
            "[5, 14, 13, 1]\n",
            "[12, 9, 6, 8]\n",
            "32 ['d', 'r', 'r', 'u', 'u', 'u', 'l', 'd', 'r', 'r', 'u', 'l', 'l', 'l', 'd', 'd', 'd', 'r', 'u', 'u', 'r', 'u', 'l', 'd', 'l', 'u', 'r', 'r', 'd', 'l', 'u', 'r', 'r', 'd', 'l', 'l', 'd', 'r', 'd', 'l', 'u', 'l', 'u', 'r', 'u', 'l', 'd', 'd', 'd', 'r', 'u', 'l', 'u', 'r', 'd', 'r', 'd', 'l', 'u', 'l', 'd', 'r', 'r', 'r', 'u', 'l', 'l', 'l', 'u', 'u', 'r', 'r', 'd', 'd', 'd', 'r', 'u', 'l', 'd', 'r', 'u', 'u', 'l', 'd', 'l', 'l', 'd', 'r', 'r', 'r', 'u', 'u', 'l', 'u', 'l', 'l', 'd', 'd', 'r', 'r', 'u', 'r', 'd', 'd', 'l', 'u', 'r', 'd', 'l', 'u', 'u', 'r', 'd', 'd', 'l', 'l', 'u', 'u', 'u', 'r', 'd', 'r', 'u', 'l', 'l', 'l', 'd', 'r', 'r', 'd', 'd', 'l', 'l', 'u', 'u', 'u', 'r', 'r', 'd', 'l', 'd', 'r', 'u', 'l', 'u', 'r', 'r', 'd', 'l', 'l']\n",
            "[1, 2, 3, 4]\n",
            "[11, 12, 6, 5]\n",
            "[0, 14, 15, 7]\n",
            "[8, 9, 10, 13]\n",
            "['r', 'u', 'r', 'd', 'r']\n",
            "[1, 2, 3, 4]\n",
            "[11, 6, 15, 5]\n",
            "[14, 12, 7, 0]\n",
            "[8, 9, 10, 13]\n",
            "[1, 2, 3, 4]\n",
            "[11, 12, 6, 5]\n",
            "[0, 14, 15, 7]\n",
            "[8, 9, 10, 13]\n",
            "['u', 'r', 'r', 'r', 'u', 'l', 'd', 'd', 'r', 'u']\n",
            "[1, 2, 5, 3]\n",
            "[12, 6, 15, 0]\n",
            "[11, 14, 7, 4]\n",
            "[8, 9, 10, 13]\n",
            "[1, 2, 3, 4]\n",
            "[11, 12, 6, 5]\n",
            "[0, 14, 15, 7]\n",
            "[8, 9, 10, 13]\n",
            "['r', 'u', 'u', 'r', 'd', 'l', 'l', 'd', 'd', 'r', 'r', 'r', 'u', 'l', 'u', 'l', 'u', 'l', 'd', 'd']\n",
            "[14, 1, 6, 4]\n",
            "[8, 3, 11, 5]\n",
            "[0, 12, 2, 15]\n",
            "[9, 10, 13, 7]\n",
            "[1, 2, 3, 4]\n",
            "[11, 12, 6, 5]\n",
            "[0, 14, 15, 7]\n",
            "[8, 9, 10, 13]\n",
            "['r', 'u', 'l', 'd', 'd', 'r', 'r', 'u', 'u', 'l', 'u', 'r', 'r', 'd', 'd', 'd', 'l', 'l', 'l', 'u', 'u', 'r', 'r', 'u', 'r', 'd', 'd', 'd', 'l', 'u', 'l', 'l', 'u', 'r', 'u', 'r', 'r', 'd', 'l', 'd']\n",
            "[1, 5, 7, 13]\n",
            "[11, 3, 12, 4]\n",
            "[2, 14, 0, 15]\n",
            "[8, 9, 6, 10]\n",
            "[1, 2, 3, 4]\n",
            "[11, 12, 6, 5]\n",
            "[0, 14, 15, 7]\n",
            "[8, 9, 10, 13]\n",
            "['r', 'u', 'r', 'd', 'r', 'u', 'u', 'l', 'd', 'r', 'd', 'd', 'l', 'u', 'l', 'd', 'l', 'u', 'u', 'u', 'r', 'd', 'l', 'u', 'r', 'r', 'd', 'r', 'u', 'l', 'd', 'd', 'r', 'd', 'l', 'l', 'l', 'u', 'r', 'u', 'r', 'r', 'd', 'l', 'd', 'l', 'u', 'l', 'd', 'r', 'r', 'r', 'u', 'l', 'l', 'u', 'l', 'd', 'd', 'r', 'r', 'u', 'u', 'r', 'u', 'l', 'l', 'l', 'd', 'd', 'd', 'r', 'u', 'r', 'u', 'u', 'r', 'd', 'd', 'l']\n",
            "[11, 6, 5, 4]\n",
            "[1, 2, 15, 8]\n",
            "[14, 3, 0, 10]\n",
            "[7, 12, 9, 13]\n"
          ]
        }
      ]
    },
    {
      "cell_type": "code",
      "metadata": {
        "id": "Rc_8ohYvNIq-"
      },
      "source": [
        "def ApplyMoves(actions, state):\n",
        "  for action in actions:\n",
        "    state = Result(state, action)\n",
        "  return state"
      ],
      "execution_count": 12,
      "outputs": []
    },
    {
      "cell_type": "code",
      "metadata": {
        "colab": {
          "base_uri": "https://localhost:8080/"
        },
        "id": "Wv7MGqh8NXqy",
        "outputId": "05ed41a4-2c7a-4e07-f58f-f0154c6ed573"
      },
      "source": [
        "PrintState(InitialState)\n",
        "print(['r','r'])\n",
        "PrintState(ApplyMoves(['r','r'],InitialState))"
      ],
      "execution_count": 13,
      "outputs": [
        {
          "output_type": "stream",
          "name": "stdout",
          "text": [
            "[1, 2, 3, 4]\n",
            "[11, 12, 6, 5]\n",
            "[0, 14, 15, 7]\n",
            "[8, 9, 10, 13]\n",
            "['r', 'r']\n",
            "[1, 2, 3, 4]\n",
            "[11, 12, 6, 5]\n",
            "[14, 15, 0, 7]\n",
            "[8, 9, 10, 13]\n"
          ]
        }
      ]
    },
    {
      "cell_type": "code",
      "metadata": {
        "id": "_VS2KzQbOHlO"
      },
      "source": [
        "def ReverseMoves(actions):\n",
        "  ret = [Opposite[a] for a in actions]\n",
        "  ret.reverse()\n",
        "  return ret"
      ],
      "execution_count": 14,
      "outputs": []
    },
    {
      "cell_type": "code",
      "metadata": {
        "colab": {
          "base_uri": "https://localhost:8080/"
        },
        "id": "tp_pqYBXOsqS",
        "outputId": "5cda64c8-c863-4701-ac83-b71554e16c2b"
      },
      "source": [
        "state1, sol = RandomWalk(GoalState, 5)\n",
        "PrintState(state1)\n",
        "print (sol)\n",
        "print(ReverseMoves(sol))\n",
        "PrintState (ApplyMoves(ReverseMoves(sol), state1))\n",
        "state1, sol = RandomWalk(GoalState, 10)\n",
        "PrintState(state1)\n",
        "print (sol)\n",
        "print(ReverseMoves(sol))\n",
        "PrintState (ApplyMoves(ReverseMoves(sol), state1))\n",
        "\n",
        "state1, sol = RandomWalk(GoalState, 20)\n",
        "PrintState(state1)\n",
        "print (sol)\n",
        "print(ReverseMoves(sol))\n",
        "PrintState (ApplyMoves(ReverseMoves(sol), state1))\n",
        "\n",
        "state1, sol = RandomWalk(GoalState, 40)\n",
        "PrintState(state1)\n",
        "print (sol)\n",
        "print(ReverseMoves(sol))\n",
        "PrintState (ApplyMoves(ReverseMoves(sol), state1))\n",
        "state1, sol = RandomWalk(GoalState, 80)\n",
        "PrintState(state1)\n",
        "print (sol)\n",
        "print(ReverseMoves(sol))\n",
        "PrintState (ApplyMoves(ReverseMoves(sol), state1))\n",
        "\n"
      ],
      "execution_count": 15,
      "outputs": [
        {
          "output_type": "stream",
          "name": "stdout",
          "text": [
            "[1, 2, 3, 4]\n",
            "[0, 9, 7, 8]\n",
            "[6, 5, 10, 11]\n",
            "[12, 13, 14, 15]\n",
            "['u', 'r', 'd', 'l', 'u']\n",
            "['d', 'r', 'u', 'l', 'd']\n",
            "[1, 2, 3, 4]\n",
            "[5, 6, 7, 8]\n",
            "[0, 9, 10, 11]\n",
            "[12, 13, 14, 15]\n",
            "[2, 6, 3, 4]\n",
            "[5, 1, 7, 8]\n",
            "[0, 12, 10, 11]\n",
            "[13, 9, 14, 15]\n",
            "['d', 'r', 'u', 'l', 'u', 'u', 'r', 'd', 'l', 'd']\n",
            "['u', 'r', 'u', 'l', 'd', 'd', 'r', 'd', 'l', 'u']\n",
            "[1, 2, 3, 4]\n",
            "[5, 6, 7, 8]\n",
            "[0, 9, 10, 11]\n",
            "[12, 13, 14, 15]\n",
            "[1, 2, 3, 8]\n",
            "[6, 9, 4, 7]\n",
            "[5, 10, 0, 15]\n",
            "[12, 13, 11, 14]\n",
            "['u', 'r', 'u', 'r', 'd', 'r', 'u', 'l', 'd', 'r', 'u', 'l', 'l', 'd', 'd', 'r', 'r', 'd', 'l', 'u']\n",
            "['d', 'r', 'u', 'l', 'l', 'u', 'u', 'r', 'r', 'd', 'l', 'u', 'r', 'd', 'l', 'u', 'l', 'd', 'l', 'd']\n",
            "[1, 2, 3, 4]\n",
            "[5, 6, 7, 8]\n",
            "[0, 9, 10, 11]\n",
            "[12, 13, 14, 15]\n",
            "[2, 6, 3, 4]\n",
            "[10, 9, 7, 8]\n",
            "[12, 14, 0, 13]\n",
            "[5, 1, 15, 11]\n",
            "['u', 'u', 'r', 'd', 'd', 'r', 'd', 'r', 'u', 'u', 'u', 'l', 'l', 'd', 'd', 'r', 'd', 'l', 'u', 'r', 'd', 'l', 'u', 'l', 'u', 'r', 'u', 'r', 'r', 'd', 'd', 'l', 'd', 'l', 'u', 'l', 'd', 'r', 'u', 'r']\n",
            "['l', 'd', 'l', 'u', 'r', 'd', 'r', 'u', 'r', 'u', 'u', 'l', 'l', 'd', 'l', 'd', 'r', 'd', 'r', 'u', 'l', 'd', 'r', 'u', 'l', 'u', 'u', 'r', 'r', 'd', 'd', 'd', 'l', 'u', 'l', 'u', 'u', 'l', 'd', 'd']\n",
            "[1, 2, 3, 4]\n",
            "[5, 6, 7, 8]\n",
            "[0, 9, 10, 11]\n",
            "[12, 13, 14, 15]\n",
            "[2, 3, 1, 7]\n",
            "[5, 0, 13, 6]\n",
            "[12, 11, 9, 8]\n",
            "[10, 15, 4, 14]\n",
            "['r', 'r', 'r', 'u', 'l', 'l', 'd', 'd', 'r', 'u', 'l', 'u', 'u', 'r', 'r', 'd', 'l', 'd', 'r', 'd', 'l', 'l', 'u', 'l', 'u', 'r', 'r', 'u', 'r', 'd', 'l', 'l', 'u', 'l', 'd', 'd', 'd', 'r', 'u', 'u', 'r', 'd', 'r', 'u', 'u', 'l', 'l', 'l', 'd', 'd', 'r', 'r', 'd', 'r', 'u', 'l', 'd', 'l', 'u', 'l', 'd', 'r', 'r', 'u', 'u', 'l', 'd', 'd', 'r', 'r', 'u', 'l', 'l', 'd', 'l', 'u', 'u', 'u', 'r', 'd']\n",
            "['u', 'l', 'd', 'd', 'd', 'r', 'u', 'r', 'r', 'd', 'l', 'l', 'u', 'u', 'r', 'd', 'd', 'l', 'l', 'u', 'r', 'd', 'r', 'u', 'r', 'd', 'l', 'u', 'l', 'l', 'u', 'u', 'r', 'r', 'r', 'd', 'd', 'l', 'u', 'l', 'd', 'd', 'l', 'u', 'u', 'u', 'r', 'd', 'r', 'r', 'u', 'l', 'd', 'l', 'l', 'd', 'r', 'd', 'r', 'r', 'u', 'l', 'u', 'r', 'u', 'l', 'l', 'd', 'd', 'r', 'd', 'l', 'u', 'u', 'r', 'r', 'd', 'l', 'l', 'l']\n",
            "[1, 2, 3, 4]\n",
            "[5, 6, 7, 8]\n",
            "[0, 9, 10, 11]\n",
            "[12, 13, 14, 15]\n"
          ]
        }
      ]
    },
    {
      "cell_type": "markdown",
      "metadata": {
        "id": "8ABBDMJLROdo"
      },
      "source": [
        "## Problem Class\n",
        "\n",
        "INITIAL = InitialState  \n",
        "IsGoal = Goal Test  \n",
        "Actions = Actions List  \n",
        "Result = Action Behavior  \n",
        "ActionCost = Action Cost  "
      ]
    },
    {
      "cell_type": "code",
      "metadata": {
        "id": "fo6sq7myRQpE"
      },
      "source": [
        "class Problem(object): pass"
      ],
      "execution_count": 16,
      "outputs": []
    },
    {
      "cell_type": "markdown",
      "metadata": {
        "id": "aAHXlWteQ2LN"
      },
      "source": [
        "## Node"
      ]
    },
    {
      "cell_type": "code",
      "metadata": {
        "id": "URRYlfS9Q3vx"
      },
      "source": [
        "class Node(object):\n",
        "  def __init__(self, state, parent=None, action=None, path_cost=0 ):\n",
        "    self.State=state\n",
        "    self.Parent=parent\n",
        "    self.Action=action\n",
        "    self.PathCost = path_cost\n",
        "\n",
        "  def __str__(self):\n",
        "    action = \"<none>\" if not self.Action else self.Action\n",
        "    return str(self.State) + \", \" + action\n",
        "  def __repr__(self):\n",
        "    action = \"<none>\" if not self.Action else self.Action\n",
        "    return str(self.State) + \", \" + action\n",
        "  def __lt__(self, other):\n",
        "    return self.PathCost < other.PathCost;"
      ],
      "execution_count": 17,
      "outputs": []
    },
    {
      "cell_type": "markdown",
      "metadata": {
        "id": "LpzKnx4rkxL9"
      },
      "source": [
        "## Expand"
      ]
    },
    {
      "cell_type": "code",
      "metadata": {
        "id": "CRj9UnyHdDo_"
      },
      "source": [
        "def Expand(problem, node):\n",
        "  ret = []\n",
        "  s = node.State\n",
        "  for action in problem.Actions(s):\n",
        "    sPrime = problem.Result(s, action)\n",
        "    cost =node.PathCost + problem.ActionCost(s,action,sPrime)\n",
        "    ret.append(Node(sPrime, node, action, cost))\n",
        "  return ret\n"
      ],
      "execution_count": 18,
      "outputs": []
    },
    {
      "cell_type": "markdown",
      "metadata": {
        "id": "Ee2ZYxjVlBSl"
      },
      "source": [
        "## Breadth-First Search"
      ]
    },
    {
      "cell_type": "code",
      "metadata": {
        "id": "DZoCxoGzkt4E"
      },
      "source": [
        "def BreadthFirstSearch(problem):\n",
        "  node = Node(tuple(problem.INITIAL))\n",
        "  if problem.IsGoal(node.State):\n",
        "    return node, 0\n",
        "  Frontier = []\n",
        "  Frontier.append(node)\n",
        "  reached = set()\n",
        "  reached.add(tuple(problem.INITIAL))\n",
        "  nodesExpanded = 0\n",
        "  while (Frontier):\n",
        "    ### print([str(n) for n in Frontier])\n",
        "    node = Frontier.pop(0)\n",
        "    ### print(node)\n",
        "    for child in Expand(problem, node):\n",
        "      s = tuple(child.State)\n",
        "      ### print (s, \"IsGoal=\", problem.IsGoal(s))\n",
        "      if problem.IsGoal(s):\n",
        "        return child, nodesExpanded\n",
        "      if s not in reached:\n",
        "        reached.add(s)\n",
        "        Frontier.append(child)\n",
        "    nodesExpanded += 1\n",
        "    if nodesExpanded > 500000:\n",
        "      break;\n",
        "  return None, nodesExpanded"
      ],
      "execution_count": 19,
      "outputs": []
    },
    {
      "cell_type": "markdown",
      "metadata": {
        "id": "AoX48XG6lFOf"
      },
      "source": [
        "## Best-First Search"
      ]
    },
    {
      "cell_type": "code",
      "metadata": {
        "id": "lUIAdr_qa1KT"
      },
      "source": [
        "def BestFirstSearch(problem, f):\n",
        "  node = Node(tuple(problem.INITIAL))\n",
        "  Frontier = []\n",
        "  heapq.heappush(Frontier,(f(node), node))\n",
        "  reached = {}\n",
        "  reached[tuple(problem.INITIAL)]=node\n",
        "  nodesExpanded = 0\n",
        "  while (Frontier):\n",
        "    ##print([(x, str(n)) for (x,n) in Frontier])\n",
        "    fValue, node = heapq.heappop(Frontier)\n",
        "    ##print (node.State, \"IsGoal=\", problem.IsGoal(tuple(node.State)))\n",
        "    if problem.IsGoal(tuple(node.State)):\n",
        "      return node, nodesExpanded    ### print(node)\n",
        "    for child in Expand(problem, node):\n",
        "      s = tuple(child.State)\n",
        "      if s not in reached or child.PathCost < reached[s].PathCost:\n",
        "        reached[s] = child\n",
        "        heapq.heappush(Frontier, (f(child), child))\n",
        "    nodesExpanded += 1\n",
        "    if nodesExpanded > 500000:\n",
        "      break;\n",
        "  return None, nodesExpanded"
      ],
      "execution_count": 20,
      "outputs": []
    },
    {
      "cell_type": "markdown",
      "metadata": {
        "id": "kRjolRYslOa4"
      },
      "source": [
        "## Problem 1"
      ]
    },
    {
      "cell_type": "code",
      "metadata": {
        "colab": {
          "base_uri": "https://localhost:8080/"
        },
        "id": "dLWDIbmsRGY3",
        "outputId": "0a74959a-1582-4174-ff03-f5fe9faa509d"
      },
      "source": [
        "TileSliding = Problem()\n",
        "TileSliding.INITIAL = InitialState\n",
        "TileSliding.IsGoal = lambda s: s==(1,2,3,4,5,6,7,8,9,0,10,11,12,13,14,15)\n",
        "TileSliding.Actions = Actions\n",
        "TileSliding.Result=Result\n",
        "TileSliding.ActionCost = lambda s, a, sPrime: 1\n",
        "print( TileSliding.IsGoal((1,2,3,4,5,6,7,8,0,9,10,11,12,13,14,15)) )\n",
        "print( Node(InitialState) )\n",
        "print(1+TileSliding.ActionCost(1,2,3))"
      ],
      "execution_count": 21,
      "outputs": [
        {
          "output_type": "stream",
          "name": "stdout",
          "text": [
            "False\n",
            "[1, 2, 3, 4, 11, 12, 6, 5, 0, 14, 15, 7, 8, 9, 10, 13], <none>\n",
            "2\n"
          ]
        }
      ]
    },
    {
      "cell_type": "code",
      "metadata": {
        "colab": {
          "base_uri": "https://localhost:8080/"
        },
        "id": "6VoIEO4c1gHz",
        "outputId": "9b36a9aa-084a-47f9-9804-f442fa6db5a0"
      },
      "source": [
        "TileSliding.INITIAL = [1,2,3,4,5,6,0,7,8,9,10,11,12,13,14,15]\n",
        "ret, cost = BreadthFirstSearch(TileSliding)\n",
        "print (ret, cost)"
      ],
      "execution_count": 22,
      "outputs": [
        {
          "output_type": "stream",
          "name": "stdout",
          "text": [
            "None 500001\n"
          ]
        }
      ]
    },
    {
      "cell_type": "code",
      "metadata": {
        "id": "3hsBKY7Fle3w"
      },
      "source": [
        "def Solution(node):\n",
        "  if node==None or node.Parent==None:\n",
        "    return []\n",
        "  return Solution(node.Parent) + [node.Action]\n"
      ],
      "execution_count": 23,
      "outputs": []
    },
    {
      "cell_type": "code",
      "metadata": {
        "colab": {
          "base_uri": "https://localhost:8080/"
        },
        "id": "rtr7Vr84NAfY",
        "outputId": "4ebfd877-1e24-44a3-afcd-9ba42f108599"
      },
      "source": [
        "sol = Solution(ret)\n",
        "print (sol)\n",
        "print (TileSliding.INITIAL)\n",
        "print (ApplyMoves(sol, TileSliding.INITIAL))"
      ],
      "execution_count": 24,
      "outputs": [
        {
          "output_type": "stream",
          "name": "stdout",
          "text": [
            "[]\n",
            "[1, 2, 3, 4, 5, 6, 0, 7, 8, 9, 10, 11, 12, 13, 14, 15]\n",
            "[1, 2, 3, 4, 5, 6, 0, 7, 8, 9, 10, 11, 12, 13, 14, 15]\n"
          ]
        }
      ]
    },
    {
      "cell_type": "code",
      "metadata": {
        "colab": {
          "base_uri": "https://localhost:8080/"
        },
        "id": "RDE3dNP8NOU7",
        "outputId": "b7fad2d6-c829-4a2e-adf5-a60ed3534848"
      },
      "source": [
        "TileSliding.INITIAL = [1,2,14,3,4,0,6,7,5,8,9,13,10,11,12,15]\n",
        "ret, cost = BreadthFirstSearch(TileSliding)\n",
        "print (ret, cost)"
      ],
      "execution_count": 25,
      "outputs": [
        {
          "output_type": "stream",
          "name": "stdout",
          "text": [
            "None 500001\n"
          ]
        }
      ]
    },
    {
      "cell_type": "code",
      "metadata": {
        "colab": {
          "base_uri": "https://localhost:8080/"
        },
        "id": "YBkLupiYNyZ_",
        "outputId": "ac43e0f4-5f8a-4850-9ed5-800d0e99a141"
      },
      "source": [
        "sol = Solution(ret)\n",
        "print (sol)\n",
        "print (TileSliding.INITIAL)\n",
        "print (ApplyMoves(sol, TileSliding.INITIAL))"
      ],
      "execution_count": 26,
      "outputs": [
        {
          "output_type": "stream",
          "name": "stdout",
          "text": [
            "[]\n",
            "[1, 2, 14, 3, 4, 0, 6, 7, 5, 8, 9, 13, 10, 11, 12, 15]\n",
            "[1, 2, 14, 3, 4, 0, 6, 7, 5, 8, 9, 13, 10, 11, 12, 15]\n"
          ]
        }
      ]
    },
    {
      "cell_type": "code",
      "metadata": {
        "colab": {
          "base_uri": "https://localhost:8080/"
        },
        "id": "GXdlMLxwhxMF",
        "outputId": "f1accd0d-f1a2-4f97-9d79-7d4520bc10de"
      },
      "source": [
        "UniformCostF = lambda n: n.PathCost\n",
        "AStarF = lambda n: n.PathCost+ManhattanDistance(n.State, GoalState)\n",
        "TileSliding.INITIAL = [1,2,3,4,0,6,7,5,8,9,10,11,12,13,14,15]\n",
        "ret, cost = BestFirstSearch(TileSliding, UniformCostF)\n",
        "print (ret)\n",
        "sol = Solution(ret)\n",
        "print (sol)\n",
        "print (TileSliding.INITIAL)\n",
        "print (ApplyMoves(sol, TileSliding.INITIAL))\n",
        "print (\"Nodes Expanded=\", cost)"
      ],
      "execution_count": 27,
      "outputs": [
        {
          "output_type": "stream",
          "name": "stdout",
          "text": [
            "None\n",
            "[]\n",
            "[1, 2, 3, 4, 0, 6, 7, 5, 8, 9, 10, 11, 12, 13, 14, 15]\n",
            "[1, 2, 3, 4, 0, 6, 7, 5, 8, 9, 10, 11, 12, 13, 14, 15]\n",
            "Nodes Expanded= 500001\n"
          ]
        }
      ]
    },
    {
      "cell_type": "markdown",
      "metadata": {
        "id": "bu6svMo0n9Pc"
      },
      "source": [
        "# Problem 2"
      ]
    },
    {
      "cell_type": "code",
      "metadata": {
        "colab": {
          "base_uri": "https://localhost:8080/"
        },
        "id": "rXzEVLYEn8m1",
        "outputId": "5ef76e01-278a-480b-da75-caaf5310dbe3"
      },
      "source": [
        "state1, sol = RandomWalk(GoalState, 300)\n",
        "PrintState(state1)\n",
        "print (sol)\n",
        "print(ReverseMoves(sol))\n",
        "PrintState (ApplyMoves(ReverseMoves(sol), state1))"
      ],
      "execution_count": 28,
      "outputs": [
        {
          "output_type": "stream",
          "name": "stdout",
          "text": [
            "[12, 8, 14, 5]\n",
            "[6, 11, 1, 2]\n",
            "[13, 15, 4, 10]\n",
            "[3, 9, 7, 0]\n",
            "['d', 'r', 'r', 'u', 'u', 'u', 'r', 'd', 'd', 'd', 'l', 'l', 'l', 'u', 'u', 'r', 'd', 'd', 'r', 'r', 'u', 'u', 'l', 'u', 'r', 'd', 'l', 'd', 'd', 'l', 'l', 'u', 'u', 'r', 'd', 'l', 'u', 'u', 'r', 'r', 'r', 'd', 'd', 'd', 'l', 'u', 'u', 'u', 'l', 'l', 'd', 'd', 'd', 'r', 'r', 'u', 'u', 'l', 'u', 'r', 'd', 'r', 'd', 'd', 'l', 'u', 'r', 'u', 'u', 'l', 'd', 'r', 'u', 'l', 'l', 'l', 'd', 'd', 'r', 'd', 'l', 'u', 'u', 'r', 'd', 'd', 'l', 'u', 'r', 'u', 'u', 'l', 'd', 'd', 'd', 'r', 'u', 'l', 'u', 'r', 'u', 'r', 'd', 'r', 'd', 'd', 'l', 'u', 'l', 'l', 'd', 'r', 'r', 'u', 'u', 'l', 'u', 'l', 'd', 'd', 'd', 'r', 'u', 'u', 'l', 'd', 'd', 'r', 'r', 'u', 'l', 'u', 'r', 'r', 'u', 'l', 'd', 'r', 'u', 'l', 'l', 'l', 'd', 'r', 'u', 'l', 'd', 'r', 'd', 'd', 'l', 'u', 'r', 'u', 'u', 'l', 'd', 'r', 'd', 'l', 'u', 'r', 'u', 'l', 'd', 'r', 'r', 'r', 'u', 'l', 'd', 'd', 'd', 'r', 'u', 'l', 'd', 'r', 'u', 'u', 'u', 'l', 'l', 'l', 'd', 'r', 'u', 'r', 'd', 'r', 'u', 'l', 'l', 'l', 'd', 'r', 'd', 'r', 'd', 'l', 'l', 'u', 'r', 'd', 'r', 'r', 'u', 'u', 'l', 'l', 'd', 'd', 'l', 'u', 'r', 'r', 'r', 'd', 'l', 'u', 'r', 'd', 'l', 'l', 'u', 'u', 'r', 'd', 'd', 'r', 'u', 'u', 'u', 'l', 'd', 'r', 'u', 'l', 'l', 'd', 'r', 'u', 'r', 'd', 'd', 'd', 'l', 'u', 'u', 'u', 'l', 'd', 'l', 'd', 'r', 'r', 'r', 'd', 'l', 'l', 'u', 'r', 'u', 'l', 'd', 'l', 'd', 'r', 'r', 'u', 'l', 'u', 'r', 'u', 'l', 'l', 'd', 'r', 'u', 'r', 'd', 'd', 'd', 'r', 'u', 'u', 'u', 'l', 'd', 'r', 'd', 'd', 'l', 'l', 'l', 'u', 'r', 'r', 'r', 'd']\n",
            "['u', 'l', 'l', 'l', 'd', 'r', 'r', 'r', 'u', 'u', 'l', 'u', 'r', 'd', 'd', 'd', 'l', 'u', 'u', 'u', 'l', 'd', 'l', 'u', 'r', 'r', 'd', 'l', 'd', 'r', 'd', 'l', 'l', 'u', 'r', 'u', 'r', 'd', 'l', 'd', 'r', 'r', 'u', 'l', 'l', 'l', 'u', 'r', 'u', 'r', 'd', 'd', 'd', 'r', 'u', 'u', 'u', 'l', 'd', 'l', 'u', 'r', 'r', 'd', 'l', 'u', 'r', 'd', 'd', 'd', 'l', 'u', 'u', 'l', 'd', 'd', 'r', 'r', 'u', 'l', 'd', 'r', 'u', 'l', 'l', 'l', 'd', 'r', 'u', 'u', 'r', 'r', 'd', 'd', 'l', 'l', 'u', 'l', 'd', 'r', 'r', 'u', 'l', 'u', 'l', 'u', 'r', 'r', 'r', 'd', 'l', 'u', 'l', 'd', 'l', 'u', 'r', 'r', 'r', 'd', 'd', 'd', 'l', 'u', 'r', 'd', 'l', 'u', 'u', 'u', 'r', 'd', 'l', 'l', 'l', 'u', 'r', 'd', 'l', 'd', 'r', 'u', 'l', 'u', 'r', 'd', 'd', 'l', 'd', 'r', 'u', 'u', 'l', 'u', 'r', 'd', 'l', 'u', 'r', 'r', 'r', 'd', 'l', 'u', 'r', 'd', 'l', 'l', 'd', 'r', 'd', 'l', 'l', 'u', 'u', 'r', 'd', 'd', 'l', 'u', 'u', 'u', 'r', 'd', 'r', 'd', 'd', 'l', 'l', 'u', 'r', 'r', 'd', 'r', 'u', 'u', 'l', 'u', 'l', 'd', 'l', 'd', 'r', 'd', 'l', 'u', 'u', 'u', 'r', 'd', 'd', 'l', 'd', 'r', 'u', 'u', 'l', 'd', 'd', 'r', 'u', 'l', 'u', 'u', 'r', 'r', 'r', 'd', 'l', 'u', 'r', 'd', 'd', 'l', 'd', 'r', 'u', 'u', 'l', 'u', 'l', 'd', 'r', 'd', 'd', 'l', 'l', 'u', 'u', 'u', 'r', 'r', 'd', 'd', 'd', 'r', 'u', 'u', 'u', 'l', 'l', 'l', 'd', 'd', 'r', 'u', 'l', 'd', 'd', 'r', 'r', 'u', 'u', 'r', 'u', 'l', 'd', 'r', 'd', 'd', 'l', 'l', 'u', 'u', 'l', 'd', 'd', 'r', 'r', 'r', 'u', 'u', 'u', 'l', 'd', 'd', 'd', 'l', 'l', 'u']\n",
            "[1, 2, 3, 4]\n",
            "[5, 6, 7, 8]\n",
            "[0, 9, 10, 11]\n",
            "[12, 13, 14, 15]\n"
          ]
        }
      ]
    },
    {
      "cell_type": "code",
      "metadata": {
        "colab": {
          "base_uri": "https://localhost:8080/"
        },
        "id": "tKnMcesqoCss",
        "outputId": "1c0f8283-6649-4a76-e189-8e0b08701c5d"
      },
      "source": [
        "TileSliding.INITIAL = state1\n",
        "ret, cost = BreadthFirstSearch(TileSliding)\n",
        "print (ret)\n",
        "sol = Solution(ret)\n",
        "print (sol)\n",
        "print (TileSliding.INITIAL)\n",
        "print (ApplyMoves(sol, TileSliding.INITIAL))\n",
        "print (\"Length of solution: \", len(sol))\n",
        "print (\"Nodes Expanded=\", cost)"
      ],
      "execution_count": 29,
      "outputs": [
        {
          "output_type": "stream",
          "name": "stdout",
          "text": [
            "None\n",
            "[]\n",
            "[12, 8, 14, 5, 6, 11, 1, 2, 13, 15, 4, 10, 3, 9, 7, 0]\n",
            "[12, 8, 14, 5, 6, 11, 1, 2, 13, 15, 4, 10, 3, 9, 7, 0]\n",
            "Length of solution:  0\n",
            "Nodes Expanded= 500001\n"
          ]
        }
      ]
    },
    {
      "cell_type": "code",
      "metadata": {
        "colab": {
          "base_uri": "https://localhost:8080/"
        },
        "id": "k24bl418eL5m",
        "outputId": "dcea5510-9cf3-4c13-eca2-07737af2ae11"
      },
      "source": [
        "UniformCostF = lambda n: n.PathCost\n",
        "TileSliding.INITIAL = state1\n",
        "ret, cost = BestFirstSearch(TileSliding, UniformCostF)\n",
        "print (ret)\n",
        "sol = Solution(ret)\n",
        "print (sol)\n",
        "print (TileSliding.INITIAL)\n",
        "print (ApplyMoves(sol, TileSliding.INITIAL))\n",
        "print (\"Length of solution: \", len(sol))\n",
        "print (\"Nodes Expanded=\", cost)"
      ],
      "execution_count": 30,
      "outputs": [
        {
          "output_type": "stream",
          "name": "stdout",
          "text": [
            "None\n",
            "[]\n",
            "[12, 8, 14, 5, 6, 11, 1, 2, 13, 15, 4, 10, 3, 9, 7, 0]\n",
            "[12, 8, 14, 5, 6, 11, 1, 2, 13, 15, 4, 10, 3, 9, 7, 0]\n",
            "Length of solution:  0\n",
            "Nodes Expanded= 500001\n"
          ]
        }
      ]
    },
    {
      "cell_type": "markdown",
      "metadata": {
        "id": "tdtWdXGlXFGG"
      },
      "source": [
        "# Problem List"
      ]
    },
    {
      "cell_type": "code",
      "metadata": {
        "colab": {
          "base_uri": "https://localhost:8080/"
        },
        "id": "iDhmyFXQXI3N",
        "outputId": "f1ec31a0-c2c2-483e-82cf-dc521de2d4cd"
      },
      "source": [
        "findNum = 10\n",
        "randomWalkDistance = 300\n",
        "problemList = []\n",
        "for i in range(10):\n",
        "  state1, sol = RandomWalk(GoalState, 300)\n",
        "  problemList.append(state1)\n",
        "print (problemList)"
      ],
      "execution_count": 31,
      "outputs": [
        {
          "output_type": "stream",
          "name": "stdout",
          "text": [
            "[[9, 5, 0, 4, 14, 3, 6, 1, 13, 10, 12, 7, 15, 11, 2, 8], [15, 6, 8, 4, 14, 9, 2, 5, 0, 1, 13, 3, 11, 12, 10, 7], [13, 6, 10, 3, 7, 5, 8, 1, 0, 2, 14, 4, 15, 12, 9, 11], [0, 5, 4, 3, 6, 13, 12, 15, 11, 2, 7, 1, 14, 8, 10, 9], [10, 1, 5, 8, 14, 7, 6, 9, 2, 15, 0, 11, 12, 4, 3, 13], [15, 13, 10, 8, 4, 3, 7, 2, 5, 1, 0, 12, 14, 6, 11, 9], [0, 8, 14, 10, 3, 11, 6, 15, 13, 7, 4, 12, 2, 9, 1, 5], [7, 6, 0, 10, 13, 11, 4, 3, 15, 5, 1, 12, 9, 14, 8, 2], [13, 14, 9, 8, 12, 15, 5, 4, 11, 6, 0, 3, 7, 1, 10, 2], [11, 10, 15, 7, 3, 9, 1, 0, 13, 4, 14, 12, 6, 5, 8, 2]]\n"
          ]
        }
      ]
    },
    {
      "cell_type": "markdown",
      "metadata": {
        "id": "TpdrxwA8UvFn"
      },
      "source": [
        "### Breadth First Search w/ Test Problems"
      ]
    },
    {
      "cell_type": "code",
      "metadata": {
        "colab": {
          "base_uri": "https://localhost:8080/"
        },
        "id": "xrni2RRIXkfU",
        "outputId": "b5e8436e-14f1-451d-d995-68c97e7bb629"
      },
      "source": [
        "testProblems = [[13, 9, 15, 4, 6, 2, 1, 11, 10, 5, 14, 12, 7, 0, 8, 3], [6, 9, 15, 13, 2, 0, 4, 12, 7, 14, 10, 8, 3, 1, 5, 11], [15, 6, 4, 8, 3, 0, 7, 14, 9, 12, 5, 10, 11, 2, 1, 13], [0, 10, 8, 14, 9, 7, 4, 3, 12, 2, 6, 5, 13, 11, 15, 1], [8, 14, 12, 2, 7, 6, 1, 11, 3, 4, 0, 13, 15, 9, 10, 5], [9, 4, 14, 2, 8, 12, 10, 11, 1, 13, 15, 6, 7, 0, 3, 5], [6, 15, 3, 7, 10, 0, 4, 8, 11, 12, 14, 2, 13, 5, 1, 9], [0, 8, 11, 9, 13, 2, 1, 3, 12, 7, 6, 14, 15, 10, 5, 4], [0, 15, 9, 1, 7, 13, 3, 10, 4, 8, 14, 2, 12, 5, 6, 11], [11, 4, 2, 3, 6, 7, 10, 13, 5, 8, 14, 9, 15, 12, 1, 0]]\n",
        "\n",
        "Solutions = []\n",
        "for s in testProblems:\n",
        "  TileSliding.INITIAL = s\n",
        "  ret, cost = BreadthFirstSearch(TileSliding)\n",
        "  sol = Solution(ret)\n",
        "  print (sol)\n",
        "  print (\"-----------------------\")\n",
        "  print (TileSliding.INITIAL,'\\n')\n",
        "  print (ApplyMoves(sol, TileSliding.INITIAL))\n",
        "  print (\"Length of solution: \", len(sol))\n",
        "  print (\"Nodes Expanded=\", cost)\n",
        "  print (\"-----------------------\")\n",
        "  Solutions.append((''.join(map(str, s)), ''.join(sol), cost))\n",
        "print (\"-------\")\n",
        "print (Solutions)\n"
      ],
      "execution_count": 32,
      "outputs": [
        {
          "output_type": "stream",
          "name": "stdout",
          "text": [
            "[]\n",
            "-----------------------\n",
            "[13, 9, 15, 4, 6, 2, 1, 11, 10, 5, 14, 12, 7, 0, 8, 3] \n",
            "\n",
            "[13, 9, 15, 4, 6, 2, 1, 11, 10, 5, 14, 12, 7, 0, 8, 3]\n",
            "Length of solution:  0\n",
            "Nodes Expanded= 500001\n",
            "-----------------------\n",
            "[]\n",
            "-----------------------\n",
            "[6, 9, 15, 13, 2, 0, 4, 12, 7, 14, 10, 8, 3, 1, 5, 11] \n",
            "\n",
            "[6, 9, 15, 13, 2, 0, 4, 12, 7, 14, 10, 8, 3, 1, 5, 11]\n",
            "Length of solution:  0\n",
            "Nodes Expanded= 500001\n",
            "-----------------------\n",
            "[]\n",
            "-----------------------\n",
            "[15, 6, 4, 8, 3, 0, 7, 14, 9, 12, 5, 10, 11, 2, 1, 13] \n",
            "\n",
            "[15, 6, 4, 8, 3, 0, 7, 14, 9, 12, 5, 10, 11, 2, 1, 13]\n",
            "Length of solution:  0\n",
            "Nodes Expanded= 500001\n",
            "-----------------------\n",
            "[]\n",
            "-----------------------\n",
            "[0, 10, 8, 14, 9, 7, 4, 3, 12, 2, 6, 5, 13, 11, 15, 1] \n",
            "\n",
            "[0, 10, 8, 14, 9, 7, 4, 3, 12, 2, 6, 5, 13, 11, 15, 1]\n",
            "Length of solution:  0\n",
            "Nodes Expanded= 500001\n",
            "-----------------------\n",
            "[]\n",
            "-----------------------\n",
            "[8, 14, 12, 2, 7, 6, 1, 11, 3, 4, 0, 13, 15, 9, 10, 5] \n",
            "\n",
            "[8, 14, 12, 2, 7, 6, 1, 11, 3, 4, 0, 13, 15, 9, 10, 5]\n",
            "Length of solution:  0\n",
            "Nodes Expanded= 500001\n",
            "-----------------------\n",
            "[]\n",
            "-----------------------\n",
            "[9, 4, 14, 2, 8, 12, 10, 11, 1, 13, 15, 6, 7, 0, 3, 5] \n",
            "\n",
            "[9, 4, 14, 2, 8, 12, 10, 11, 1, 13, 15, 6, 7, 0, 3, 5]\n",
            "Length of solution:  0\n",
            "Nodes Expanded= 500001\n",
            "-----------------------\n",
            "[]\n",
            "-----------------------\n",
            "[6, 15, 3, 7, 10, 0, 4, 8, 11, 12, 14, 2, 13, 5, 1, 9] \n",
            "\n",
            "[6, 15, 3, 7, 10, 0, 4, 8, 11, 12, 14, 2, 13, 5, 1, 9]\n",
            "Length of solution:  0\n",
            "Nodes Expanded= 500001\n",
            "-----------------------\n",
            "[]\n",
            "-----------------------\n",
            "[0, 8, 11, 9, 13, 2, 1, 3, 12, 7, 6, 14, 15, 10, 5, 4] \n",
            "\n",
            "[0, 8, 11, 9, 13, 2, 1, 3, 12, 7, 6, 14, 15, 10, 5, 4]\n",
            "Length of solution:  0\n",
            "Nodes Expanded= 500001\n",
            "-----------------------\n",
            "[]\n",
            "-----------------------\n",
            "[0, 15, 9, 1, 7, 13, 3, 10, 4, 8, 14, 2, 12, 5, 6, 11] \n",
            "\n",
            "[0, 15, 9, 1, 7, 13, 3, 10, 4, 8, 14, 2, 12, 5, 6, 11]\n",
            "Length of solution:  0\n",
            "Nodes Expanded= 500001\n",
            "-----------------------\n",
            "[]\n",
            "-----------------------\n",
            "[11, 4, 2, 3, 6, 7, 10, 13, 5, 8, 14, 9, 15, 12, 1, 0] \n",
            "\n",
            "[11, 4, 2, 3, 6, 7, 10, 13, 5, 8, 14, 9, 15, 12, 1, 0]\n",
            "Length of solution:  0\n",
            "Nodes Expanded= 500001\n",
            "-----------------------\n",
            "-------\n",
            "[('1391546211110514127083', '', 500001), ('6915132041271410831511', '', 500001), ('1564830714912510112113', '', 500001), ('0108149743122651311151', '', 500001), ('8141227611134013159105', '', 500001), ('9414281210111131567035', '', 500001), ('6153710048111214213519', '', 500001), ('0811913213127614151054', '', 500001), ('0159171331048142125611', '', 500001), ('1142367101358149151210', '', 500001)]\n"
          ]
        }
      ]
    },
    {
      "cell_type": "markdown",
      "metadata": {
        "id": "YLVN3sTkU0jw"
      },
      "source": [
        "### Uniform Cost Search w/ Test Problems"
      ]
    },
    {
      "cell_type": "code",
      "metadata": {
        "colab": {
          "base_uri": "https://localhost:8080/"
        },
        "id": "LsWVfbeLRYfO",
        "outputId": "71cdd56c-75f7-4225-8334-ba41e45b68d3"
      },
      "source": [
        "UniformCostF = lambda n: n.PathCost\n",
        "testProblems = [[13, 9, 15, 4, 6, 2, 1, 11, 10, 5, 14, 12, 7, 0, 8, 3], [6, 9, 15, 13, 2, 0, 4, 12, 7, 14, 10, 8, 3, 1, 5, 11], [15, 6, 4, 8, 3, 0, 7, 14, 9, 12, 5, 10, 11, 2, 1, 13], [0, 10, 8, 14, 9, 7, 4, 3, 12, 2, 6, 5, 13, 11, 15, 1], [8, 14, 12, 2, 7, 6, 1, 11, 3, 4, 0, 13, 15, 9, 10, 5], [9, 4, 14, 2, 8, 12, 10, 11, 1, 13, 15, 6, 7, 0, 3, 5], [6, 15, 3, 7, 10, 0, 4, 8, 11, 12, 14, 2, 13, 5, 1, 9], [0, 8, 11, 9, 13, 2, 1, 3, 12, 7, 6, 14, 15, 10, 5, 4], [0, 15, 9, 1, 7, 13, 3, 10, 4, 8, 14, 2, 12, 5, 6, 11], [11, 4, 2, 3, 6, 7, 10, 13, 5, 8, 14, 9, 15, 12, 1, 0]]\n",
        "\n",
        "Solutions = []\n",
        "for s in testProblems:\n",
        "  TileSliding.INITIAL = s\n",
        "  ret, cost = BestFirstSearch(TileSliding, UniformCostF)\n",
        "  sol = Solution(ret)\n",
        "  print (sol)\n",
        "  print (\"-----------------------\")\n",
        "  print (TileSliding.INITIAL,'\\n')\n",
        "  print (ApplyMoves(sol, TileSliding.INITIAL))\n",
        "  print (\"Length of solution: \", len(sol))\n",
        "  print (\"Nodes Expanded=\", cost)\n",
        "  print (\"-----------------------\")\n",
        "  Solutions.append((''.join(map(str, s)), ''.join(sol), cost))\n",
        "print (\"-------\")\n",
        "print (Solutions)"
      ],
      "execution_count": 33,
      "outputs": [
        {
          "output_type": "stream",
          "name": "stdout",
          "text": [
            "[]\n",
            "-----------------------\n",
            "[13, 9, 15, 4, 6, 2, 1, 11, 10, 5, 14, 12, 7, 0, 8, 3] \n",
            "\n",
            "[13, 9, 15, 4, 6, 2, 1, 11, 10, 5, 14, 12, 7, 0, 8, 3]\n",
            "Length of solution:  0\n",
            "Nodes Expanded= 500001\n",
            "-----------------------\n",
            "[]\n",
            "-----------------------\n",
            "[6, 9, 15, 13, 2, 0, 4, 12, 7, 14, 10, 8, 3, 1, 5, 11] \n",
            "\n",
            "[6, 9, 15, 13, 2, 0, 4, 12, 7, 14, 10, 8, 3, 1, 5, 11]\n",
            "Length of solution:  0\n",
            "Nodes Expanded= 500001\n",
            "-----------------------\n",
            "[]\n",
            "-----------------------\n",
            "[15, 6, 4, 8, 3, 0, 7, 14, 9, 12, 5, 10, 11, 2, 1, 13] \n",
            "\n",
            "[15, 6, 4, 8, 3, 0, 7, 14, 9, 12, 5, 10, 11, 2, 1, 13]\n",
            "Length of solution:  0\n",
            "Nodes Expanded= 500001\n",
            "-----------------------\n",
            "[]\n",
            "-----------------------\n",
            "[0, 10, 8, 14, 9, 7, 4, 3, 12, 2, 6, 5, 13, 11, 15, 1] \n",
            "\n",
            "[0, 10, 8, 14, 9, 7, 4, 3, 12, 2, 6, 5, 13, 11, 15, 1]\n",
            "Length of solution:  0\n",
            "Nodes Expanded= 500001\n",
            "-----------------------\n",
            "[]\n",
            "-----------------------\n",
            "[8, 14, 12, 2, 7, 6, 1, 11, 3, 4, 0, 13, 15, 9, 10, 5] \n",
            "\n",
            "[8, 14, 12, 2, 7, 6, 1, 11, 3, 4, 0, 13, 15, 9, 10, 5]\n",
            "Length of solution:  0\n",
            "Nodes Expanded= 500001\n",
            "-----------------------\n",
            "[]\n",
            "-----------------------\n",
            "[9, 4, 14, 2, 8, 12, 10, 11, 1, 13, 15, 6, 7, 0, 3, 5] \n",
            "\n",
            "[9, 4, 14, 2, 8, 12, 10, 11, 1, 13, 15, 6, 7, 0, 3, 5]\n",
            "Length of solution:  0\n",
            "Nodes Expanded= 500001\n",
            "-----------------------\n",
            "[]\n",
            "-----------------------\n",
            "[6, 15, 3, 7, 10, 0, 4, 8, 11, 12, 14, 2, 13, 5, 1, 9] \n",
            "\n",
            "[6, 15, 3, 7, 10, 0, 4, 8, 11, 12, 14, 2, 13, 5, 1, 9]\n",
            "Length of solution:  0\n",
            "Nodes Expanded= 500001\n",
            "-----------------------\n",
            "[]\n",
            "-----------------------\n",
            "[0, 8, 11, 9, 13, 2, 1, 3, 12, 7, 6, 14, 15, 10, 5, 4] \n",
            "\n",
            "[0, 8, 11, 9, 13, 2, 1, 3, 12, 7, 6, 14, 15, 10, 5, 4]\n",
            "Length of solution:  0\n",
            "Nodes Expanded= 500001\n",
            "-----------------------\n",
            "[]\n",
            "-----------------------\n",
            "[0, 15, 9, 1, 7, 13, 3, 10, 4, 8, 14, 2, 12, 5, 6, 11] \n",
            "\n",
            "[0, 15, 9, 1, 7, 13, 3, 10, 4, 8, 14, 2, 12, 5, 6, 11]\n",
            "Length of solution:  0\n",
            "Nodes Expanded= 500001\n",
            "-----------------------\n",
            "[]\n",
            "-----------------------\n",
            "[11, 4, 2, 3, 6, 7, 10, 13, 5, 8, 14, 9, 15, 12, 1, 0] \n",
            "\n",
            "[11, 4, 2, 3, 6, 7, 10, 13, 5, 8, 14, 9, 15, 12, 1, 0]\n",
            "Length of solution:  0\n",
            "Nodes Expanded= 500001\n",
            "-----------------------\n",
            "-------\n",
            "[('1391546211110514127083', '', 500001), ('6915132041271410831511', '', 500001), ('1564830714912510112113', '', 500001), ('0108149743122651311151', '', 500001), ('8141227611134013159105', '', 500001), ('9414281210111131567035', '', 500001), ('6153710048111214213519', '', 500001), ('0811913213127614151054', '', 500001), ('0159171331048142125611', '', 500001), ('1142367101358149151210', '', 500001)]\n"
          ]
        }
      ]
    },
    {
      "cell_type": "markdown",
      "metadata": {
        "id": "p8yiFsHoU6sf"
      },
      "source": [
        "### AStar using ManhattanDistance w/ Test Problems"
      ]
    },
    {
      "cell_type": "code",
      "metadata": {
        "colab": {
          "base_uri": "https://localhost:8080/"
        },
        "id": "6VD8LuUJRhxU",
        "outputId": "0cc3d0d2-985e-441e-ce03-eca8fe5eeb50"
      },
      "source": [
        "AStarFb = lambda n: n.PathCost + Manhattan(n.State, GoalState)\n",
        "testProblems = [[13, 9, 15, 4, 6, 2, 1, 11, 10, 5, 14, 12, 7, 0, 8, 3], [6, 9, 15, 13, 2, 0, 4, 12, 7, 14, 10, 8, 3, 1, 5, 11], [15, 6, 4, 8, 3, 0, 7, 14, 9, 12, 5, 10, 11, 2, 1, 13], [0, 10, 8, 14, 9, 7, 4, 3, 12, 2, 6, 5, 13, 11, 15, 1], [8, 14, 12, 2, 7, 6, 1, 11, 3, 4, 0, 13, 15, 9, 10, 5], [9, 4, 14, 2, 8, 12, 10, 11, 1, 13, 15, 6, 7, 0, 3, 5], [6, 15, 3, 7, 10, 0, 4, 8, 11, 12, 14, 2, 13, 5, 1, 9], [0, 8, 11, 9, 13, 2, 1, 3, 12, 7, 6, 14, 15, 10, 5, 4], [0, 15, 9, 1, 7, 13, 3, 10, 4, 8, 14, 2, 12, 5, 6, 11], [11, 4, 2, 3, 6, 7, 10, 13, 5, 8, 14, 9, 15, 12, 1, 0]]\n",
        "\n",
        "Solutions = []\n",
        "for s in testProblems:\n",
        "  TileSliding.INITIAL = s\n",
        "  ret, cost = BestFirstSearch(TileSliding, AStarF)\n",
        "  sol = Solution(ret)\n",
        "  print (sol)\n",
        "  print (\"-----------------------\")\n",
        "  print (TileSliding.INITIAL,'\\n')\n",
        "  print (ApplyMoves(sol, TileSliding.INITIAL))\n",
        "  print (\"Length of solution: \", len(sol))\n",
        "  print (\"Nodes Expanded=\", cost)\n",
        "  print (\"-----------------------\")\n",
        "  Solutions.append((''.join(map(str, s)), ''.join(sol), cost))\n",
        "print (\"-------\")\n",
        "print (Solutions)"
      ],
      "execution_count": 34,
      "outputs": [
        {
          "output_type": "stream",
          "name": "stdout",
          "text": [
            "[]\n",
            "-----------------------\n",
            "[13, 9, 15, 4, 6, 2, 1, 11, 10, 5, 14, 12, 7, 0, 8, 3] \n",
            "\n",
            "[13, 9, 15, 4, 6, 2, 1, 11, 10, 5, 14, 12, 7, 0, 8, 3]\n",
            "Length of solution:  0\n",
            "Nodes Expanded= 500001\n",
            "-----------------------\n",
            "[]\n",
            "-----------------------\n",
            "[6, 9, 15, 13, 2, 0, 4, 12, 7, 14, 10, 8, 3, 1, 5, 11] \n",
            "\n",
            "[6, 9, 15, 13, 2, 0, 4, 12, 7, 14, 10, 8, 3, 1, 5, 11]\n",
            "Length of solution:  0\n",
            "Nodes Expanded= 500001\n",
            "-----------------------\n",
            "[]\n",
            "-----------------------\n",
            "[15, 6, 4, 8, 3, 0, 7, 14, 9, 12, 5, 10, 11, 2, 1, 13] \n",
            "\n",
            "[15, 6, 4, 8, 3, 0, 7, 14, 9, 12, 5, 10, 11, 2, 1, 13]\n",
            "Length of solution:  0\n",
            "Nodes Expanded= 500001\n",
            "-----------------------\n",
            "[]\n",
            "-----------------------\n",
            "[0, 10, 8, 14, 9, 7, 4, 3, 12, 2, 6, 5, 13, 11, 15, 1] \n",
            "\n",
            "[0, 10, 8, 14, 9, 7, 4, 3, 12, 2, 6, 5, 13, 11, 15, 1]\n",
            "Length of solution:  0\n",
            "Nodes Expanded= 500001\n",
            "-----------------------\n",
            "[]\n",
            "-----------------------\n",
            "[8, 14, 12, 2, 7, 6, 1, 11, 3, 4, 0, 13, 15, 9, 10, 5] \n",
            "\n",
            "[8, 14, 12, 2, 7, 6, 1, 11, 3, 4, 0, 13, 15, 9, 10, 5]\n",
            "Length of solution:  0\n",
            "Nodes Expanded= 500001\n",
            "-----------------------\n",
            "[]\n",
            "-----------------------\n",
            "[9, 4, 14, 2, 8, 12, 10, 11, 1, 13, 15, 6, 7, 0, 3, 5] \n",
            "\n",
            "[9, 4, 14, 2, 8, 12, 10, 11, 1, 13, 15, 6, 7, 0, 3, 5]\n",
            "Length of solution:  0\n",
            "Nodes Expanded= 500001\n",
            "-----------------------\n",
            "[]\n",
            "-----------------------\n",
            "[6, 15, 3, 7, 10, 0, 4, 8, 11, 12, 14, 2, 13, 5, 1, 9] \n",
            "\n",
            "[6, 15, 3, 7, 10, 0, 4, 8, 11, 12, 14, 2, 13, 5, 1, 9]\n",
            "Length of solution:  0\n",
            "Nodes Expanded= 500001\n",
            "-----------------------\n",
            "[]\n",
            "-----------------------\n",
            "[0, 8, 11, 9, 13, 2, 1, 3, 12, 7, 6, 14, 15, 10, 5, 4] \n",
            "\n",
            "[0, 8, 11, 9, 13, 2, 1, 3, 12, 7, 6, 14, 15, 10, 5, 4]\n",
            "Length of solution:  0\n",
            "Nodes Expanded= 500001\n",
            "-----------------------\n",
            "[]\n",
            "-----------------------\n",
            "[0, 15, 9, 1, 7, 13, 3, 10, 4, 8, 14, 2, 12, 5, 6, 11] \n",
            "\n",
            "[0, 15, 9, 1, 7, 13, 3, 10, 4, 8, 14, 2, 12, 5, 6, 11]\n",
            "Length of solution:  0\n",
            "Nodes Expanded= 500001\n",
            "-----------------------\n",
            "[]\n",
            "-----------------------\n",
            "[11, 4, 2, 3, 6, 7, 10, 13, 5, 8, 14, 9, 15, 12, 1, 0] \n",
            "\n",
            "[11, 4, 2, 3, 6, 7, 10, 13, 5, 8, 14, 9, 15, 12, 1, 0]\n",
            "Length of solution:  0\n",
            "Nodes Expanded= 500001\n",
            "-----------------------\n",
            "-------\n",
            "[('1391546211110514127083', '', 500001), ('6915132041271410831511', '', 500001), ('1564830714912510112113', '', 500001), ('0108149743122651311151', '', 500001), ('8141227611134013159105', '', 500001), ('9414281210111131567035', '', 500001), ('6153710048111214213519', '', 500001), ('0811913213127614151054', '', 500001), ('0159171331048142125611', '', 500001), ('1142367101358149151210', '', 500001)]\n"
          ]
        }
      ]
    },
    {
      "cell_type": "markdown",
      "metadata": {
        "id": "dluzNjyYVBSl"
      },
      "source": [
        "### AStar using OutOfPlace w/ Test Problems"
      ]
    },
    {
      "cell_type": "code",
      "metadata": {
        "colab": {
          "base_uri": "https://localhost:8080/"
        },
        "id": "m7icYl-JUGbR",
        "outputId": "166c4e65-9077-48d0-c816-2b11f24b7533"
      },
      "source": [
        "AStarFb = lambda n: n.PathCost + OutOfPlace(n.State, GoalState)\n",
        "testProblems = [[13, 9, 15, 4, 6, 2, 1, 11, 10, 5, 14, 12, 7, 0, 8, 3], [6, 9, 15, 13, 2, 0, 4, 12, 7, 14, 10, 8, 3, 1, 5, 11], [15, 6, 4, 8, 3, 0, 7, 14, 9, 12, 5, 10, 11, 2, 1, 13], [0, 10, 8, 14, 9, 7, 4, 3, 12, 2, 6, 5, 13, 11, 15, 1], [8, 14, 12, 2, 7, 6, 1, 11, 3, 4, 0, 13, 15, 9, 10, 5], [9, 4, 14, 2, 8, 12, 10, 11, 1, 13, 15, 6, 7, 0, 3, 5], [6, 15, 3, 7, 10, 0, 4, 8, 11, 12, 14, 2, 13, 5, 1, 9], [0, 8, 11, 9, 13, 2, 1, 3, 12, 7, 6, 14, 15, 10, 5, 4], [0, 15, 9, 1, 7, 13, 3, 10, 4, 8, 14, 2, 12, 5, 6, 11], [11, 4, 2, 3, 6, 7, 10, 13, 5, 8, 14, 9, 15, 12, 1, 0]]\n",
        "\n",
        "Solutions = []\n",
        "for s in testProblems:\n",
        "  TileSliding.INITIAL = s\n",
        "  ret, cost = BestFirstSearch(TileSliding, AStarFb)\n",
        "  sol = Solution(ret)\n",
        "  print (sol)\n",
        "  print (\"-----------------------\")\n",
        "  print (TileSliding.INITIAL,'\\n')\n",
        "  print (ApplyMoves(sol, TileSliding.INITIAL))\n",
        "  print (\"Length of solution: \", len(sol))\n",
        "  print (\"Nodes Expanded=\", cost)\n",
        "  print (\"-----------------------\")\n",
        "  Solutions.append((''.join(map(str, s)), ''.join(sol), cost))\n",
        "print (\"-------\")\n",
        "print (Solutions)"
      ],
      "execution_count": 35,
      "outputs": [
        {
          "output_type": "stream",
          "name": "stdout",
          "text": [
            "[]\n",
            "-----------------------\n",
            "[13, 9, 15, 4, 6, 2, 1, 11, 10, 5, 14, 12, 7, 0, 8, 3] \n",
            "\n",
            "[13, 9, 15, 4, 6, 2, 1, 11, 10, 5, 14, 12, 7, 0, 8, 3]\n",
            "Length of solution:  0\n",
            "Nodes Expanded= 500001\n",
            "-----------------------\n",
            "[]\n",
            "-----------------------\n",
            "[6, 9, 15, 13, 2, 0, 4, 12, 7, 14, 10, 8, 3, 1, 5, 11] \n",
            "\n",
            "[6, 9, 15, 13, 2, 0, 4, 12, 7, 14, 10, 8, 3, 1, 5, 11]\n",
            "Length of solution:  0\n",
            "Nodes Expanded= 500001\n",
            "-----------------------\n",
            "[]\n",
            "-----------------------\n",
            "[15, 6, 4, 8, 3, 0, 7, 14, 9, 12, 5, 10, 11, 2, 1, 13] \n",
            "\n",
            "[15, 6, 4, 8, 3, 0, 7, 14, 9, 12, 5, 10, 11, 2, 1, 13]\n",
            "Length of solution:  0\n",
            "Nodes Expanded= 500001\n",
            "-----------------------\n",
            "[]\n",
            "-----------------------\n",
            "[0, 10, 8, 14, 9, 7, 4, 3, 12, 2, 6, 5, 13, 11, 15, 1] \n",
            "\n",
            "[0, 10, 8, 14, 9, 7, 4, 3, 12, 2, 6, 5, 13, 11, 15, 1]\n",
            "Length of solution:  0\n",
            "Nodes Expanded= 500001\n",
            "-----------------------\n",
            "[]\n",
            "-----------------------\n",
            "[8, 14, 12, 2, 7, 6, 1, 11, 3, 4, 0, 13, 15, 9, 10, 5] \n",
            "\n",
            "[8, 14, 12, 2, 7, 6, 1, 11, 3, 4, 0, 13, 15, 9, 10, 5]\n",
            "Length of solution:  0\n",
            "Nodes Expanded= 500001\n",
            "-----------------------\n",
            "[]\n",
            "-----------------------\n",
            "[9, 4, 14, 2, 8, 12, 10, 11, 1, 13, 15, 6, 7, 0, 3, 5] \n",
            "\n",
            "[9, 4, 14, 2, 8, 12, 10, 11, 1, 13, 15, 6, 7, 0, 3, 5]\n",
            "Length of solution:  0\n",
            "Nodes Expanded= 500001\n",
            "-----------------------\n",
            "[]\n",
            "-----------------------\n",
            "[6, 15, 3, 7, 10, 0, 4, 8, 11, 12, 14, 2, 13, 5, 1, 9] \n",
            "\n",
            "[6, 15, 3, 7, 10, 0, 4, 8, 11, 12, 14, 2, 13, 5, 1, 9]\n",
            "Length of solution:  0\n",
            "Nodes Expanded= 500001\n",
            "-----------------------\n",
            "[]\n",
            "-----------------------\n",
            "[0, 8, 11, 9, 13, 2, 1, 3, 12, 7, 6, 14, 15, 10, 5, 4] \n",
            "\n",
            "[0, 8, 11, 9, 13, 2, 1, 3, 12, 7, 6, 14, 15, 10, 5, 4]\n",
            "Length of solution:  0\n",
            "Nodes Expanded= 500001\n",
            "-----------------------\n",
            "[]\n",
            "-----------------------\n",
            "[0, 15, 9, 1, 7, 13, 3, 10, 4, 8, 14, 2, 12, 5, 6, 11] \n",
            "\n",
            "[0, 15, 9, 1, 7, 13, 3, 10, 4, 8, 14, 2, 12, 5, 6, 11]\n",
            "Length of solution:  0\n",
            "Nodes Expanded= 500001\n",
            "-----------------------\n",
            "[]\n",
            "-----------------------\n",
            "[11, 4, 2, 3, 6, 7, 10, 13, 5, 8, 14, 9, 15, 12, 1, 0] \n",
            "\n",
            "[11, 4, 2, 3, 6, 7, 10, 13, 5, 8, 14, 9, 15, 12, 1, 0]\n",
            "Length of solution:  0\n",
            "Nodes Expanded= 500001\n",
            "-----------------------\n",
            "-------\n",
            "[('1391546211110514127083', '', 500001), ('6915132041271410831511', '', 500001), ('1564830714912510112113', '', 500001), ('0108149743122651311151', '', 500001), ('8141227611134013159105', '', 500001), ('9414281210111131567035', '', 500001), ('6153710048111214213519', '', 500001), ('0811913213127614151054', '', 500001), ('0159171331048142125611', '', 500001), ('1142367101358149151210', '', 500001)]\n"
          ]
        }
      ]
    },
    {
      "cell_type": "markdown",
      "metadata": {
        "id": "TEBWJx6DwN-r"
      },
      "source": [
        "### Best First Search -- Greedy"
      ]
    },
    {
      "cell_type": "code",
      "metadata": {
        "colab": {
          "base_uri": "https://localhost:8080/"
        },
        "id": "fI27-Y5ivXdw",
        "outputId": "97b3d657-34fb-4df3-c6ee-2658e3e02228"
      },
      "source": [
        "### Best First\n",
        "bestFirstSearchf = lambda n: OutOfPlace(n.State, GoalState)\n",
        "testProblems = [[13, 9, 15, 4, 6, 2, 1, 11, 10, 5, 14, 12, 7, 0, 8, 3], [6, 9, 15, 13, 2, 0, 4, 12, 7, 14, 10, 8, 3, 1, 5, 11], [15, 6, 4, 8, 3, 0, 7, 14, 9, 12, 5, 10, 11, 2, 1, 13], [0, 10, 8, 14, 9, 7, 4, 3, 12, 2, 6, 5, 13, 11, 15, 1], [8, 14, 12, 2, 7, 6, 1, 11, 3, 4, 0, 13, 15, 9, 10, 5], [9, 4, 14, 2, 8, 12, 10, 11, 1, 13, 15, 6, 7, 0, 3, 5], [6, 15, 3, 7, 10, 0, 4, 8, 11, 12, 14, 2, 13, 5, 1, 9], [0, 8, 11, 9, 13, 2, 1, 3, 12, 7, 6, 14, 15, 10, 5, 4], [0, 15, 9, 1, 7, 13, 3, 10, 4, 8, 14, 2, 12, 5, 6, 11], [11, 4, 2, 3, 6, 7, 10, 13, 5, 8, 14, 9, 15, 12, 1, 0]]\n",
        "\n",
        "Solutions = []\n",
        "for s in testProblems:\n",
        "  TileSliding.INITIAL = s\n",
        "  ret, cost = BestFirstSearch(TileSliding, bestFirstSearchf)\n",
        "  sol = Solution(ret)\n",
        "  print (sol)\n",
        "  print (\"-----------------------\")\n",
        "  print (TileSliding.INITIAL,'\\n')\n",
        "  print (ApplyMoves(sol, TileSliding.INITIAL))\n",
        "  print (\"Length of solution: \", len(sol))\n",
        "  print (\"Nodes Expanded=\", cost)\n",
        "  print (\"-----------------------\")\n",
        "  Solutions.append((''.join(map(str, s)), ''.join(sol), cost))\n",
        "print (\"-------\")\n",
        "print (Solutions)"
      ],
      "execution_count": 36,
      "outputs": [
        {
          "output_type": "stream",
          "name": "stdout",
          "text": [
            "['r', 'u', 'r', 'u', 'l', 'l', 'l', 'd', 'r', 'r', 'u', 'u', 'l', 'l', 'd', 'd', 'r', 'd', 'l', 'u', 'r', 'u', 'r', 'u', 'l', 'd', 'r', 'd', 'l', 'u', 'r', 'u', 'l', 'd', 'd', 'r', 'u', 'l', 'd', 'r', 'd', 'l', 'u', 'r', 'd', 'r', 'u', 'u', 'l', 'd', 'l', 'd', 'r', 'u', 'r', 'd', 'l', 'l', 'u', 'r', 'd', 'r', 'u', 'u', 'l', 'd', 'r', 'd', 'l', 'u', 'u', 'r', 'd', 'l', 'd', 'r', 'u', 'u', 'l', 'l', 'd', 'r', 'u', 'l', 'u', 'r', 'd', 'r', 'u', 'l', 'l', 'd', 'r', 'u', 'r', 'd', 'd', 'l', 'u', 'l', 'd', 'r', 'r', 'u', 'l', 'd', 'l', 'u', 'r', 'd', 'r', 'd', 'l', 'u', 'u', 'r', 'd', 'l', 'd', 'r', 'u', 'u', 'l', 'u', 'r', 'd', 'd', 'l', 'u', 'r', 'u', 'l', 'd', 'l', 'd', 'l', 'u', 'r', 'r', 'd', 'l', 'u', 'l', 'd', 'r', 'r', 'u', 'r', 'd', 'l', 'l', 'u', 'r', 'd', 'r', 'u', 'l', 'l', 'd', 'l', 'u', 'u', 'r', 'd', 'l', 'd', 'r', 'r', 'u', 'l', 'u', 'l', 'd', 'd', 'r', 'u', 'l', 'd', 'r', 'r', 'u', 'l', 'l', 'u', 'r', 'd', 'd', 'l', 'u', 'r', 'u', 'l', 'd', 'r', 'r', 'u', 'l', 'l', 'd', 'r', 'u', 'r', 'd', 'l', 'l', 'd', 'r']\n",
            "-----------------------\n",
            "[13, 9, 15, 4, 6, 2, 1, 11, 10, 5, 14, 12, 7, 0, 8, 3] \n",
            "\n",
            "[1, 2, 3, 4, 5, 6, 7, 8, 9, 0, 10, 11, 12, 13, 14, 15]\n",
            "Length of solution:  207\n",
            "Nodes Expanded= 10111\n",
            "-----------------------\n",
            "['r', 'r', 'd', 'd', 'l', 'l', 'u', 'u', 'l', 'u', 'r', 'd', 'l', 'd', 'r', 'r', 'd', 'l', 'l', 'u', 'u', 'r', 'r', 'd', 'l', 'u', 'l', 'd', 'r', 'd', 'l', 'u', 'u', 'r', 'r', 'u', 'l', 'd', 'l', 'u', 'r', 'r', 'd', 'l', 'l', 'd', 'r', 'u', 'r', 'd', 'l', 'l', 'u', 'r', 'd', 'r', 'u', 'l', 'l', 'u', 'r', 'r', 'd', 'l', 'u', 'l', 'd', 'd', 'r', 'u', 'r', 'd', 'l', 'd', 'r', 'u', 'u', 'l', 'd', 'l', 'u', 'r', 'r', 'r', 'd', 'd', 'l', 'u', 'r', 'u', 'l', 'd', 'd', 'l', 'l', 'u', 'r', 'u', 'l', 'd', 'd', 'r', 'u', 'u', 'l', 'd', 'r', 'u', 'r', 'd', 'l', 'l', 'u', 'r', 'd', 'r', 'u', 'l', 'u', 'r', 'd', 'r', 'u', 'l', 'l', 'd', 'd', 'd', 'l', 'u', 'r', 'u', 'l', 'd', 'd', 'r', 'u', 'l', 'u', 'r', 'd', 'r', 'u', 'l', 'l', 'd', 'r', 'd', 'l', 'u', 'u', 'r', 'd', 'l', 'd', 'r', 'r', 'u', 'l', 'u', 'r', 'd', 'd', 'l', 'u', 'u', 'r', 'd', 'r', 'u', 'l', 'l', 'd', 'r', 'u', 'l', 'l', 'd', 'r', 'd', 'l', 'u', 'u', 'r', 'd', 'l', 'd', 'r', 'r', 'u', 'l', 'u', 'r', 'd', 'd', 'l', 'u', 'r', 'u', 'l', 'd', 'r', 'r', 'd', 'l', 'u', 'l', 'd', 'r', 'r', 'u', 'l', 'l', 'l', 'u', 'r', 'd', 'r', 'r', 'u', 'l', 'l', 'l', 'd', 'r', 'r', 'u', 'r', 'd', 'l', 'l']\n",
            "-----------------------\n",
            "[6, 9, 15, 13, 2, 0, 4, 12, 7, 14, 10, 8, 3, 1, 5, 11] \n",
            "\n",
            "[1, 2, 3, 4, 5, 6, 7, 8, 9, 0, 10, 11, 12, 13, 14, 15]\n",
            "Length of solution:  231\n",
            "Nodes Expanded= 66840\n",
            "-----------------------\n",
            "['u', 'l', 'd', 'd', 'r', 'r', 'r', 'u', 'u', 'l', 'l', 'd', 'd', 'd', 'l', 'u', 'u', 'r', 'd', 'l', 'u', 'r', 'u', 'l', 'd', 'd', 'r', 'r', 'd', 'r', 'u', 'l', 'l', 'd', 'r', 'r', 'u', 'l', 'u', 'u', 'l', 'd', 'r', 'd', 'l', 'l', 'u', 'r', 'u', 'l', 'd', 'd', 'd', 'r', 'r', 'r', 'u', 'l', 'd', 'l', 'u', 'r', 'd', 'l', 'l', 'u', 'r', 'd', 'r', 'r', 'u', 'l', 'd', 'l', 'u', 'r', 'r', 'd', 'l', 'u', 'l', 'l', 'u', 'u', 'r', 'd', 'd', 'l', 'u', 'r', 'u', 'l', 'd', 'd', 'r', 'r', 'u', 'l', 'l', 'd', 'r', 'u', 'r', 'd', 'l', 'd', 'r', 'r', 'u', 'l', 'd', 'l', 'u', 'r', 'r', 'd', 'l', 'l', 'u', 'r', 'd', 'r', 'u', 'l', 'l', 'd', 'r', 'u', 'r', 'd', 'l', 'u', 'l', 'l', 'd', 'r', 'r', 'u', 'l', 'd', 'l', 'u', 'r', 'r', 'd', 'l', 'u', 'l', 'd', 'r', 'u', 'r', 'd', 'l', 'l', 'u', 'r', 'd', 'r', 'u', 'l']\n",
            "-----------------------\n",
            "[15, 6, 4, 8, 3, 0, 7, 14, 9, 12, 5, 10, 11, 2, 1, 13] \n",
            "\n",
            "[1, 2, 3, 4, 5, 6, 7, 8, 9, 0, 10, 11, 12, 13, 14, 15]\n",
            "Length of solution:  161\n",
            "Nodes Expanded= 15711\n",
            "-----------------------\n",
            "['r', 'r', 'd', 'l', 'd', 'd', 'l', 'u', 'u', 'u', 'r', 'd', 'd', 'r', 'r', 'd', 'l', 'u', 'r', 'u', 'u', 'l', 'l', 'd', 'd', 'l', 'u', 'u', 'r', 'r', 'r', 'd', 'd', 'l', 'u', 'r', 'u', 'l', 'd', 'd', 'd', 'r', 'u', 'u', 'l', 'd', 'r', 'd', 'l', 'u', 'u', 'r', 'd', 'l', 'l', 'l', 'u', 'r', 'd', 'r', 'u', 'r', 'd', 'l', 'u', 'l', 'l', 'd', 'r', 'r', 'u', 'l', 'd', 'l', 'u', 'r', 'r', 'u', 'l', 'l', 'd', 'r', 'u', 'r', 'd', 'r', 'd', 'l', 'u', 'l', 'l', 'd', 'r', 'r', 'r', 'u', 'l', 'l', 'd', 'l', 'u', 'r', 'r', 'd', 'r', 'u', 'l', 'd', 'l', 'l', 'u', 'r', 'd', 'r', 'u', 'l', 'l', 'd', 'r', 'r', 'r', 'u', 'l', 'd', 'l', 'u', 'r', 'd', 'r', 'u', 'l', 'l', 'd', 'r', 'u', 'r', 'd', 'l', 'l']\n",
            "-----------------------\n",
            "[0, 10, 8, 14, 9, 7, 4, 3, 12, 2, 6, 5, 13, 11, 15, 1] \n",
            "\n",
            "[1, 2, 3, 4, 5, 6, 7, 8, 9, 0, 10, 11, 12, 13, 14, 15]\n",
            "Length of solution:  139\n",
            "Nodes Expanded= 6582\n",
            "-----------------------\n",
            "['d', 'r', 'u', 'u', 'u', 'l', 'l', 'l', 'd', 'd', 'r', 'd', 'l', 'u', 'u', 'r', 'r', 'u', 'l', 'd', 'l', 'u', 'r', 'd', 'r', 'r', 'u', 'l', 'd', 'l', 'u', 'r', 'd', 'r', 'u', 'l', 'd', 'd', 'd', 'l', 'u', 'r', 'u', 'l', 'd', 'd', 'l', 'u', 'u', 'r', 'r', 'r', 'd', 'd', 'l', 'u', 'r', 'u', 'l', 'l', 'd', 'r', 'd', 'l', 'u', 'u', 'r', 'd', 'd', 'r', 'u', 'l', 'u', 'r', 'd', 'd', 'l', 'u', 'u', 'u', 'r', 'd', 'l', 'd', 'd', 'r', 'u', 'u', 'l', 'd', 'r', 'd', 'l', 'l', 'u', 'r', 'd', 'l', 'u', 'l', 'd', 'r', 'r', 'u', 'u', 'l', 'd', 'd', 'r', 'u', 'u', 'l', 'd', 'r', 'd', 'l', 'l', 'u', 'r', 'u', 'l', 'd', 'd', 'r', 'u', 'l', 'u', 'r', 'd', 'd', 'r', 'u', 'u', 'l', 'u', 'r', 'd', 'd', 'l', 'l', 'u', 'r', 'd', 'r', 'u', 'l', 'l', 'd', 'r', 'u', 'r', 'd', 'l', 'l', 'd', 'r', 'u', 'r', 'd', 'l', 'l', 'u', 'u', 'r', 'u', 'l', 'd', 'r', 'd', 'l', 'u', 'u', 'r', 'd', 'r', 'd', 'l', 'u', 'l', 'd', 'r', 'r', 'u', 'l', 'd', 'l', 'u', 'r', 'r', 'd', 'd', 'l', 'u', 'r', 'u', 'l', 'd', 'd', 'r', 'u', 'l', 'u', 'r', 'd', 'l', 'l', 'd', 'r', 'u', 'r', 'd', 'l', 'l', 'u', 'r']\n",
            "-----------------------\n",
            "[8, 14, 12, 2, 7, 6, 1, 11, 3, 4, 0, 13, 15, 9, 10, 5] \n",
            "\n",
            "[1, 2, 3, 4, 5, 6, 7, 8, 9, 0, 10, 11, 12, 13, 14, 15]\n",
            "Length of solution:  215\n",
            "Nodes Expanded= 10438\n",
            "-----------------------\n",
            "['u', 'r', 'u', 'u', 'l', 'd', 'r', 'r', 'u', 'l', 'l', 'l', 'd', 'd', 'r', 'u', 'u', 'l', 'd', 'd', 'r', 'u', 'r', 'r', 'u', 'l', 'd', 'l', 'u', 'r', 'r', 'd', 'l', 'l', 'l', 'd', 'd', 'r', 'r', 'r', 'u', 'u', 'l', 'd', 'd', 'l', 'l', 'u', 'r', 'r', 'u', 'l', 'd', 'l', 'u', 'r', 'd', 'l', 'd', 'r', 'u', 'u', 'r', 'd', 'd', 'l', 'l', 'u', 'r', 'r', 'u', 'u', 'l', 'd', 'd', 'r', 'u', 'l', 'u', 'r', 'd', 'd', 'l', 'l', 'u', 'r', 'r', 'd', 'l', 'u', 'l', 'd', 'r', 'r', 'd', 'l', 'l', 'u', 'r', 'd', 'r', 'u', 'u', 'l', 'd', 'l', 'u', 'r', 'r', 'd', 'l', 'u', 'l', 'd', 'r', 'r', 'u', 'l', 'd', 'd', 'r', 'u', 'l', 'u', 'r', 'd', 'd', 'l', 'u', 'r', 'u', 'l', 'l', 'd', 'r', 'd', 'l', 'u', 'u', 'r', 'd', 'l', 'd', 'r', 'u', 'r', 'd', 'l', 'u', 'r', 'r', 'd', 'l', 'l', 'u', 'r', 'd', 'l', 'l', 'u', 'r', 'u', 'l', 'd', 'd', 'r', 'u', 'l', 'u', 'r', 'r', 'd', 'l', 'd', 'r', 'u', 'u', 'l', 'd', 'r', 'd', 'l', 'u', 'r', 'r', 'u', 'l', 'd', 'l', 'u', 'r', 'r', 'd', 'l', 'l', 'l', 'u', 'r', 'd', 'r', 'r', 'u', 'l', 'l', 'l', 'd', 'r', 'r', 'u', 'r', 'd', 'l', 'l']\n",
            "-----------------------\n",
            "[9, 4, 14, 2, 8, 12, 10, 11, 1, 13, 15, 6, 7, 0, 3, 5] \n",
            "\n",
            "[1, 2, 3, 4, 5, 6, 7, 8, 9, 0, 10, 11, 12, 13, 14, 15]\n",
            "Length of solution:  213\n",
            "Nodes Expanded= 14033\n",
            "-----------------------\n",
            "['d', 'd', 'l', 'u', 'r', 'u', 'l', 'd', 'r', 'u', 'r', 'd', 'l', 'l', 'u', 'u', 'r', 'd', 'l', 'd', 'r', 'd', 'l', 'u', 'r', 'd', 'r', 'u', 'l', 'd', 'r', 'r', 'u', 'l', 'u', 'l', 'd', 'd', 'r', 'u', 'l', 'l', 'u', 'r', 'u', 'l', 'd', 'd', 'r', 'u', 'l', 'd', 'r', 'd', 'l', 'u', 'u', 'r', 'd', 'l', 'd', 'r', 'u', 'u', 'r', 'u', 'r', 'd', 'l', 'u', 'l', 'd', 'r', 'r', 'u', 'l', 'd', 'l', 'u', 'l', 'd', 'd', 'r', 'u', 'l', 'u', 'r', 'r', 'd', 'l', 'd', 'r', 'u', 'u', 'l', 'd', 'd', 'r', 'u', 'l', 'd', 'l', 'u', 'r', 'r', 'd', 'l', 'u', 'l', 'd', 'r', 'r', 'u', 'l', 'u', 'r', 'd', 'd', 'r', 'u', 'u', 'l', 'd', 'r', 'd', 'l', 'u', 'u', 'l', 'l', 'd', 'd', 'r', 'u', 'l', 'u', 'r', 'd', 'd', 'r', 'd', 'r', 'u', 'l', 'l', 'd', 'r', 'u', 'r', 'd', 'l', 'l', 'u', 'l', 'd', 'r', 'r', 'u', 'l', 'd', 'l', 'u', 'r', 'u', 'u', 'l', 'd', 'r', 'd', 'l', 'u', 'u', 'r', 'd', 'd', 'l', 'u', 'r', 'd', 'r', 'u', 'l', 'l', 'd', 'r', 'u', 'r', 'd', 'l', 'u', 'u', 'r', 'd', 'd', 'l', 'u', 'r', 'u', 'l', 'd', 'd']\n",
            "-----------------------\n",
            "[6, 15, 3, 7, 10, 0, 4, 8, 11, 12, 14, 2, 13, 5, 1, 9] \n",
            "\n",
            "[1, 2, 3, 4, 5, 6, 7, 8, 9, 0, 10, 11, 12, 13, 14, 15]\n",
            "Length of solution:  201\n",
            "Nodes Expanded= 41255\n",
            "-----------------------\n",
            "['r', 'd', 'd', 'r', 'u', 'l', 'd', 'd', 'l', 'u', 'r', 'r', 'd', 'l', 'u', 'r', 'r', 'd', 'l', 'u', 'u', 'u', 'r', 'd', 'l', 'd', 'r', 'u', 'l', 'u', 'r', 'd', 'l', 'l', 'l', 'd', 'r', 'r', 'u', 'l', 'l', 'd', 'r', 'r', 'u', 'l', 'd', 'r', 'd', 'l', 'u', 'r', 'u', 'l', 'd', 'l', 'u', 'r', 'r', 'u', 'r', 'd', 'l', 'u', 'l', 'l', 'd', 'd', 'r', 'u', 'u', 'r', 'd', 'r', 'u', 'l', 'd', 'l', 'd', 'r', 'r', 'u', 'l', 'd', 'r', 'd', 'l', 'u', 'l', 'd', 'r', 'r', 'u', 'l', 'd', 'l', 'u', 'u', 'r', 'd', 'r', 'u', 'l', 'l', 'd', 'r', 'u', 'r', 'd', 'l', 'd', 'l', 'u', 'l', 'd', 'r', 'u', 'r', 'd', 'l', 'l', 'u', 'r', 'r', 'd', 'l', 'u', 'r', 'u', 'l', 'd', 'r', 'd', 'l', 'u', 'u', 'r', 'd', 'l', 'd', 'r', 'u', 'u', 'l', 'd', 'l', 'u', 'r', 'r', 'u', 'l', 'l', 'd', 'r', 'u', 'r', 'd', 'd', 'l', 'u', 'l', 'd', 'r', 'r', 'd', 'r', 'u', 'l', 'u', 'r', 'd', 'd', 'l', 'u', 'u', 'u', 'r', 'd', 'l', 'd', 'r', 'u', 'l', 'u', 'r', 'd', 'd', 'l', 'u', 'r', 'u', 'l', 'd', 'd', 'l', 'l', 'd', 'r', 'u', 'r', 'd', 'l', 'l', 'u', 'r']\n",
            "-----------------------\n",
            "[0, 8, 11, 9, 13, 2, 1, 3, 12, 7, 6, 14, 15, 10, 5, 4] \n",
            "\n",
            "[1, 2, 3, 4, 5, 6, 7, 8, 9, 0, 10, 11, 12, 13, 14, 15]\n",
            "Length of solution:  205\n",
            "Nodes Expanded= 6491\n",
            "-----------------------\n",
            "['r', 'r', 'd', 'd', 'r', 'd', 'l', 'u', 'u', 'l', 'd', 'd', 'r', 'u', 'u', 'l', 'u', 'l', 'd', 'd', 'r', 'u', 'l', 'u', 'r', 'd', 'l', 'd', 'r', 'u', 'r', 'd', 'l', 'l', 'u', 'r', 'r', 'd', 'l', 'u', 'l', 'd', 'r', 'r', 'u', 'l', 'u', 'r', 'r', 'd', 'l', 'u', 'l', 'd', 'r', 'd', 'l', 'l', 'u', 'r', 'u', 'l', 'd', 'd', 'd', 'r', 'u', 'r', 'd', 'l', 'l', 'u', 'r', 'd', 'r', 'u', 'l', 'u', 'u', 'r', 'd', 'd', 'l', 'u', 'r', 'u', 'l', 'd', 'd', 'r', 'u', 'l', 'd', 'l', 'u', 'r', 'r', 'd', 'l', 'u', 'l', 'd', 'd', 'r', 'u', 'r', 'd', 'l', 'l', 'u', 'r', 'r', 'r', 'd', 'l', 'u', 'l', 'l', 'd', 'r', 'r', 'u', 'l', 'd', 'l', 'u', 'r', 'r', 'u', 'l', 'u', 'r', 'd', 'd', 'r', 'u', 'u', 'l', 'l', 'd', 'd', 'r', 'u', 'r', 'd', 'l', 'u', 'l', 'd', 'r', 'r', 'u', 'l', 'd', 'l', 'u', 'r', 'r', 'd', 'l', 'u', 'l', 'd', 'l', 'd', 'r', 'u', 'r', 'r', 'd', 'l', 'l', 'l', 'u', 'r', 'r', 'd', 'r', 'u', 'l', 'l']\n",
            "-----------------------\n",
            "[0, 15, 9, 1, 7, 13, 3, 10, 4, 8, 14, 2, 12, 5, 6, 11] \n",
            "\n",
            "[1, 2, 3, 4, 5, 6, 7, 8, 9, 0, 10, 11, 12, 13, 14, 15]\n",
            "Length of solution:  181\n",
            "Nodes Expanded= 12090\n",
            "-----------------------\n",
            "['l', 'u', 'u', 'l', 'l', 'd', 'd', 'r', 'u', 'u', 'u', 'r', 'r', 'd', 'l', 'l', 'd', 'r', 'u', 'r', 'd', 'l', 'd', 'l', 'u', 'r', 'd', 'r', 'u', 'l', 'l', 'd', 'r', 'u', 'l', 'u', 'r', 'r', 'd', 'l', 'u', 'l', 'd', 'r', 'r', 'd', 'l', 'l', 'u', 'l', 'd', 'r', 'r', 'r', 'u', 'l', 'l', 'd', 'l', 'u', 'r', 'd', 'r', 'u', 'r', 'd', 'l', 'l', 'l', 'u', 'u', 'u', 'r', 'd', 'l', 'd', 'r', 'u', 'u', 'l', 'd', 'd', 'd', 'r', 'u', 'l', 'u', 'u', 'r', 'd', 'd', 'l', 'u', 'r', 'u', 'l', 'd', 'd', 'r', 'r', 'd', 'l', 'u', 'l', 'd', 'r', 'r', 'u', 'l', 'd', 'l', 'u', 'r', 'r', 'r', 'u', 'u', 'l', 'd', 'd', 'r', 'u', 'l', 'u', 'r', 'd', 'd', 'l', 'l', 'l', 'd', 'r', 'u', 'r', 'd', 'l', 'l', 'u', 'r', 'd', 'r', 'u', 'l', 'u', 'r', 'r', 'd', 'l', 'u', 'l', 'd', 'r', 'r', 'd', 'l', 'l', 'u', 'r', 'd', 'r', 'u', 'l', 'l']\n",
            "-----------------------\n",
            "[11, 4, 2, 3, 6, 7, 10, 13, 5, 8, 14, 9, 15, 12, 1, 0] \n",
            "\n",
            "[1, 2, 3, 4, 5, 6, 7, 8, 9, 0, 10, 11, 12, 13, 14, 15]\n",
            "Length of solution:  163\n",
            "Nodes Expanded= 37998\n",
            "-----------------------\n",
            "-------\n",
            "[('1391546211110514127083', 'rurullldrruullddrdlururuldrdlurulddruldrdlurdruuldldrurdllurdruuldrdluurdldruulldrulurdrulldrurddluldrruldlurdrdluurdldruulurddluruldldlurrdluldrrurdllurdrulldluurdldrrululddruldrrullurddluruldrrulldrurdlldr', 10111), ('6915132041271410831511', 'rrddlluulurdldrrdlluurrdluldrdluurruldlurrdlldrurdllurdrullurrdlulddrurdldruuldlurrrddlurulddllurulddruuldrurdllurdrulurdrulldddlurulddrulurdrulldrdluurdldrrulurddluurdrulldrulldrdluurdldrrulurddluruldrrdluldrrulllurdrrullldrrurdll', 66840), ('1564830714912510112113', 'ulddrrruulldddluurdlurulddrrdrulldrruluuldrdlluruldddrrruldlurdllurdrruldlurrdlulluurddlurulddrrulldrurdldrruldlurrdllurdrulldrurdlulldrruldlurrdluldrurdllurdrul', 15711), ('0108149743122651311151', 'rrdlddluuurddrrdluruullddluurrrddluruldddruuldrdluurdlllurdrurdlulldrruldlurrulldrurdrdlulldrrrulldlurrdruldllurdrulldrrruldlurdrulldrurdll', 6582), ('8141227611134013159105', 'druuulllddrdluurruldlurdrruldlurdruldddlurulddluurrrddlurulldrdluurddrulurddluuurdlddruuldrdllurdluldrruulddruuldrdllurulddrulurddruulurddllurdrulldrurdlldrurdlluuruldrdluurdrdluldrruldlurrddlurulddrulurdlldrurdllur', 10438), ('9414281210111131567035', 'uruuldrrulllddruulddrurruldlurrdlllddrrruulddllurruldlurdldruurddllurruulddrulurddllurrdluldrrdllurdruuldlurrdluldrrulddrulurddlurulldrdluurdldrurdlurrdllurdllurulddrulurrdldruuldrdlurruldlurrdlllurdrrullldrrurdll', 14033), ('6153710048111214213519', 'ddluruldrurdlluurdldrdlurdruldrrululddrullurulddruldrdluurdldruururdluldrruldlulddrulurrdldruulddruldlurrdluldrrulurddruuldrdluullddrulurddrdrulldrurdlluldrruldluruuldrdluurddlurdrulldrurdluurddluruldd', 41255), ('0811913213127614151054', 'rddrulddlurrdlurrdluuurdldrulurdllldrrulldrruldrdluruldlurrurdlullddruurdruldldrruldrdluldrruldluurdrulldrurdldluldrurdllurrdluruldrdluurdldruuldlurrulldrurddluldrrdrulurddluuurdldrulurddlurulddlldrurdllur', 6491), ('0159171331048142125611', 'rrddrdluulddruululddrulurdldrurdllurrdluldrrulurrdluldrdlluruldddrurdllurdruluurddlurulddruldlurrdlulddrurdllurrrdlulldrruldlurrulurddruullddrurdluldrruldlurrdluldldrurrdlllurrdrull', 12090), ('1142367101358149151210', 'luullddruuurrdlldrurdldlurdrulldrulurrdluldrrdlluldrrrulldlurdrurdllluuurdldruuldddruluurddlurulddrrdluldrruldlurrruulddrulurddllldrurdllurdrulurrdluldrrdllurdrull', 37998)]\n"
          ]
        }
      ]
    },
    {
      "cell_type": "code",
      "metadata": {
        "colab": {
          "base_uri": "https://localhost:8080/"
        },
        "id": "rQw9QKTCMvBY",
        "outputId": "49ff033c-f39a-4cc9-e789-ecaf133b350d"
      },
      "source": [
        "### Best First\n",
        "bestFirstSearchf = lambda n: ManhattanDistance(n.State, GoalState)\n",
        "testProblems = [[13, 9, 15, 4, 6, 2, 1, 11, 10, 5, 14, 12, 7, 0, 8, 3], [6, 9, 15, 13, 2, 0, 4, 12, 7, 14, 10, 8, 3, 1, 5, 11], [15, 6, 4, 8, 3, 0, 7, 14, 9, 12, 5, 10, 11, 2, 1, 13], [0, 10, 8, 14, 9, 7, 4, 3, 12, 2, 6, 5, 13, 11, 15, 1], [8, 14, 12, 2, 7, 6, 1, 11, 3, 4, 0, 13, 15, 9, 10, 5], [9, 4, 14, 2, 8, 12, 10, 11, 1, 13, 15, 6, 7, 0, 3, 5], [6, 15, 3, 7, 10, 0, 4, 8, 11, 12, 14, 2, 13, 5, 1, 9], [0, 8, 11, 9, 13, 2, 1, 3, 12, 7, 6, 14, 15, 10, 5, 4], [0, 15, 9, 1, 7, 13, 3, 10, 4, 8, 14, 2, 12, 5, 6, 11], [11, 4, 2, 3, 6, 7, 10, 13, 5, 8, 14, 9, 15, 12, 1, 0]]\n",
        "\n",
        "Solutions = []\n",
        "for s in testProblems:\n",
        "  TileSliding.INITIAL = s\n",
        "  ret, cost = BestFirstSearch(TileSliding, bestFirstSearchf)\n",
        "  sol = Solution(ret)\n",
        "  print (sol)\n",
        "  print (\"-----------------------\")\n",
        "  print (TileSliding.INITIAL,'\\n')\n",
        "  print (ApplyMoves(sol, TileSliding.INITIAL))\n",
        "  print (\"Length of solution: \", len(sol))\n",
        "  print (\"Nodes Expanded=\", cost)\n",
        "  print (\"-----------------------\")\n",
        "  Solutions.append((''.join(map(str, s)), ''.join(sol), cost))\n",
        "print (\"-------\")\n",
        "print (Solutions)"
      ],
      "execution_count": 37,
      "outputs": [
        {
          "output_type": "stream",
          "name": "stdout",
          "text": [
            "['l', 'u', 'r', 'd', 'r', 'u', 'l', 'd', 'r', 'r', 'u', 'u', 'u', 'l', 'd', 'd', 'd', 'l', 'l', 'u', 'u', 'u', 'r', 'd', 'd', 'l', 'u', 'u', 'r', 'r', 'd', 'l', 'd', 'l', 'd', 'r', 'u', 'u', 'l', 'd', 'r', 'u', 'l', 'd', 'd', 'r', 'u', 'l', 'u', 'r', 'r', 'd', 'l', 'l', 'u', 'u', 'r', 'r', 'd', 'l', 'l', 'd', 'r', 'd', 'r', 'r', 'u', 'u', 'u', 'l', 'l', 'd', 'r', 'u', 'r', 'd', 'd', 'l', 'd', 'l', 'u', 'r', 'r', 'd', 'l', 'l', 'u', 'l', 'd', 'r', 'r', 'u', 'u', 'l', 'd', 'l', 'd', 'r', 'u', 'r', 'd', 'l', 'l', 'u', 'u', 'r', 'd', 'd', 'r', 'u', 'u', 'l', 'l', 'd', 'd', 'r', 'r', 'r', 'u', 'l', 'l', 'd', 'l', 'u', 'r', 'r', 'u', 'r', 'u', 'l', 'd', 'd', 'r', 'u', 'u', 'l', 'd', 'd', 'r', 'u', 'l', 'u', 'r', 'd', 'd', 'l', 'u', 'r', 'u', 'l', 'd', 'd', 'l', 'l', 'd', 'r', 'u', 'r', 'r', 'd', 'l', 'l', 'l', 'u', 'r', 'r', 'd', 'r', 'u', 'l', 'l', 'd', 'r', 'u', 'r', 'd', 'l', 'l', 'u']\n",
            "-----------------------\n",
            "[13, 9, 15, 4, 6, 2, 1, 11, 10, 5, 14, 12, 7, 0, 8, 3] \n",
            "\n",
            "[1, 2, 3, 4, 5, 6, 7, 8, 9, 0, 10, 11, 12, 13, 14, 15]\n",
            "Length of solution:  179\n",
            "Nodes Expanded= 1908\n",
            "-----------------------\n",
            "['u', 'l', 'd', 'd', 'd', 'r', 'u', 'u', 'l', 'd', 'd', 'r', 'r', 'u', 'l', 'd', 'l', 'u', 'r', 'r', 'd', 'l', 'u', 'u', 'u', 'l', 'd', 'r', 'r', 'r', 'u', 'l', 'd', 'r', 'd', 'l', 'u', 'l', 'd', 'r', 'r', 'u', 'l', 'l', 'l', 'd', 'd', 'r', 'u', 'u', 'r', 'u', 'r', 'd', 'd', 'l', 'u', 'l', 'd', 'r', 'r', 'd', 'l', 'l', 'u', 'l', 'd', 'r', 'r', 'u', 'u', 'l', 'd', 'l', 'u', 'r', 'r', 'u', 'l', 'l', 'd', 'r', 'r', 'd', 'l', 'u', 'l', 'd', 'd', 'r', 'u', 'r', 'd', 'l', 'l', 'u', 'u', 'r', 'u', 'r', 'd', 'l', 'l', 'u', 'r', 'r', 'd', 'l', 'u', 'l', 'd', 'd', 'r', 'u', 'r', 'd', 'l', 'l', 'u', 'r', 'r', 'd', 'l', 'u', 'l', 'd', 'd', 'r', 'u', 'r', 'd', 'l', 'l', 'u', 'r', 'r', 'd', 'r', 'u', 'l', 'l', 'd', 'r', 'u', 'r', 'd', 'l', 'l', 'u']\n",
            "-----------------------\n",
            "[6, 9, 15, 13, 2, 0, 4, 12, 7, 14, 10, 8, 3, 1, 5, 11] \n",
            "\n",
            "[1, 2, 3, 4, 5, 6, 7, 8, 9, 0, 10, 11, 12, 13, 14, 15]\n",
            "Length of solution:  149\n",
            "Nodes Expanded= 2419\n",
            "-----------------------\n",
            "['u', 'l', 'd', 'd', 'r', 'd', 'l', 'u', 'u', 'r', 'd', 'd', 'r', 'r', 'u', 'u', 'u', 'l', 'l', 'd', 'r', 'd', 'l', 'd', 'r', 'r', 'u', 'l', 'u', 'l', 'd', 'l', 'u', 'r', 'u', 'l', 'd', 'd', 'r', 'r', 'u', 'u', 'l', 'd', 'l', 'd', 'r', 'r', 'u', 'l', 'l', 'd', 'r', 'u', 'r', 'r', 'd', 'l', 'd', 'r', 'u', 'u', 'l', 'd', 'l', 'l', 'u', 'r', 'd', 'r', 'u', 'l', 'l', 'd', 'r']\n",
            "-----------------------\n",
            "[15, 6, 4, 8, 3, 0, 7, 14, 9, 12, 5, 10, 11, 2, 1, 13] \n",
            "\n",
            "[1, 2, 3, 4, 5, 6, 7, 8, 9, 0, 10, 11, 12, 13, 14, 15]\n",
            "Length of solution:  75\n",
            "Nodes Expanded= 408\n",
            "-----------------------\n",
            "['r', 'd', 'd', 'd', 'l', 'u', 'u', 'u', 'r', 'd', 'l', 'u', 'r', 'r', 'd', 'd', 'l', 'u', 'r', 'r', 'u', 'l', 'd', 'r', 'd', 'l', 'u', 'r', 'd', 'd', 'l', 'u', 'r', 'u', 'l', 'd', 'l', 'u', 'r', 'u', 'l', 'd', 'l', 'u', 'r', 'r', 'd', 'l', 'l', 'u', 'r', 'd', 'd', 'l', 'u', 'u', 'r', 'd', 'l', 'd', 'r', 'u', 'u', 'l', 'd', 'r', 'r', 'r', 'd', 'l', 'l', 'u', 'r', 'd', 'r', 'u', 'l', 'd', 'l', 'l', 'u', 'r', 'r', 'd', 'l', 'l', 'u', 'r', 'd', 'r', 'u', 'l', 'l', 'd', 'r', 'u', 'r', 'd', 'l']\n",
            "-----------------------\n",
            "[0, 10, 8, 14, 9, 7, 4, 3, 12, 2, 6, 5, 13, 11, 15, 1] \n",
            "\n",
            "[1, 2, 3, 4, 5, 6, 7, 8, 9, 0, 10, 11, 12, 13, 14, 15]\n",
            "Length of solution:  99\n",
            "Nodes Expanded= 486\n",
            "-----------------------\n",
            "['d', 'r', 'u', 'u', 'l', 'u', 'l', 'l', 'd', 'd', 'r', 'd', 'r', 'u', 'u', 'u', 'l', 'l', 'd', 'd', 'r', 'r', 'u', 'u', 'l', 'l', 'd', 'd', 'r', 'd', 'l', 'u', 'u', 'r', 'd', 'l', 'u', 'r', 'r', 'u', 'r', 'd', 'l', 'l', 'u', 'r', 'r', 'd', 'l', 'l', 'u', 'r', 'd', 'd', 'd', 'l', 'u', 'l', 'u', 'u', 'r', 'd', 'l', 'd', 'r', 'r', 'u', 'l', 'u', 'r', 'd', 'r', 'u', 'l', 'l', 'd', 'r', 'r', 'd', 'd', 'l', 'u', 'l', 'd', 'r', 'u', 'r', 'u', 'l', 'l', 'd', 'r', 'd', 'l', 'u', 'l', 'u', 'r', 'd', 'r', 'u', 'l', 'l', 'd', 'r', 'u', 'r', 'd', 'l', 'l', 'u', 'r', 'd', 'r', 'u', 'l', 'l', 'd', 'r', 'r', 'u', 'r', 'd', 'l', 'l', 'u', 'r', 'd', 'r', 'u', 'l', 'l', 'd']\n",
            "-----------------------\n",
            "[8, 14, 12, 2, 7, 6, 1, 11, 3, 4, 0, 13, 15, 9, 10, 5] \n",
            "\n",
            "[1, 2, 3, 4, 5, 6, 7, 8, 9, 0, 10, 11, 12, 13, 14, 15]\n",
            "Length of solution:  133\n",
            "Nodes Expanded= 2183\n",
            "-----------------------\n",
            "['u', 'u', 'l', 'd', 'd', 'r', 'u', 'l', 'd', 'r', 'r', 'u', 'u', 'u', 'l', 'l', 'd', 'r', 'd', 'd', 'r', 'r', 'u', 'u', 'l', 'l', 'd', 'r', 'd', 'l', 'u', 'r', 'u', 'l', 'd', 'l', 'u', 'r', 'u', 'r', 'd', 'd', 'd', 'l', 'u', 'u', 'r', 'r', 'd', 'l', 'd', 'r', 'u', 'l', 'u', 'l', 'd', 'd', 'r', 'u', 'l', 'd', 'r', 'u', 'r', 'u', 'l', 'l', 'd', 'l', 'u', 'r', 'r', 'd', 'l', 'u', 'r', 'd', 'l', 'u', 'l', 'd', 'r', 'd', 'r', 'u', 'l', 'l', 'd', 'r', 'r', 'u', 'l', 'd', 'l', 'u', 'u', 'r', 'u', 'r', 'r', 'd', 'l', 'l', 'u', 'r', 'd', 'l', 'l', 'd', 'r', 'r', 'r', 'u', 'u', 'l', 'd', 'r', 'd', 'l', 'l']\n",
            "-----------------------\n",
            "[9, 4, 14, 2, 8, 12, 10, 11, 1, 13, 15, 6, 7, 0, 3, 5] \n",
            "\n",
            "[1, 2, 3, 4, 5, 6, 7, 8, 9, 0, 10, 11, 12, 13, 14, 15]\n",
            "Length of solution:  121\n",
            "Nodes Expanded= 1556\n",
            "-----------------------\n",
            "['l', 'd', 'r', 'd', 'l', 'u', 'r', 'u', 'l', 'd', 'r', 'u', 'u', 'r', 'r', 'd', 'd', 'd', 'l', 'u', 'l', 'u', 'r', 'u', 'l', 'd', 'r', 'r', 'u', 'l', 'd', 'l', 'u', 'r', 'r', 'd', 'd', 'l', 'l', 'l', 'u', 'u', 'r', 'd', 'r', 'r', 'u', 'l', 'l', 'd', 'r', 'u', 'l', 'l', 'd', 'd', 'r', 'u', 'r', 'u', 'r', 'd', 'd', 'd', 'l', 'u', 'r', 'u', 'l', 'd', 'l', 'l', 'u', 'u', 'r', 'd', 'r', 'r', 'u', 'l', 'l', 'd', 'l', 'd', 'r', 'r', 'r', 'u', 'u', 'l', 'd', 'r', 'd', 'l', 'l', 'l', 'u', 'u', 'r', 'd', 'l', 'd', 'r', 'r', 'u', 'l', 'u', 'r', 'd', 'd', 'l', 'u', 'u', 'r', 'd', 'l', 'd', 'l', 'd', 'r', 'u', 'r', 'd', 'l', 'l', 'u', 'r', 'r', 'd', 'r', 'u', 'l', 'l', 'd', 'r', 'u', 'r', 'd', 'l', 'l', 'u']\n",
            "-----------------------\n",
            "[6, 15, 3, 7, 10, 0, 4, 8, 11, 12, 14, 2, 13, 5, 1, 9] \n",
            "\n",
            "[1, 2, 3, 4, 5, 6, 7, 8, 9, 0, 10, 11, 12, 13, 14, 15]\n",
            "Length of solution:  141\n",
            "Nodes Expanded= 3456\n",
            "-----------------------\n",
            "['r', 'd', 'd', 'd', 'l', 'u', 'u', 'r', 'r', 'u', 'r', 'd', 'l', 'd', 'd', 'l', 'u', 'r', 'r', 'd', 'l', 'u', 'u', 'u', 'r', 'd', 'd', 'l', 'u', 'l', 'd', 'r', 'r', 'u', 'u', 'l', 'd', 'd', 'l', 'l', 'u', 'r', 'r', 'r', 'd', 'l', 'u', 'u', 'r', 'd', 'd', 'l', 'd', 'l', 'u', 'l', 'u', 'r', 'r', 'd', 'l', 'u', 'l', 'd', 'r', 'r', 'u', 'r', 'd', 'l', 'u', 'l', 'd', 'r', 'r', 'u', 'l', 'l', 'l', 'u', 'r', 'd', 'l', 'd', 'r', 'u', 'u', 'l', 'd', 'r', 'd', 'l', 'd', 'r', 'r', 'u', 'l', 'd', 'l', 'u', 'u', 'r', 'd', 'r', 'u', 'l', 'l', 'd', 'r', 'r', 'u', 'l', 'd', 'r', 'u', 'r', 'd', 'l', 'l', 'u', 'r', 'r', 'd', 'l', 'l', 'u', 'r', 'd', 'r', 'u', 'l', 'l', 'd', 'r', 'u', 'r', 'd', 'l', 'l']\n",
            "-----------------------\n",
            "[0, 8, 11, 9, 13, 2, 1, 3, 12, 7, 6, 14, 15, 10, 5, 4] \n",
            "\n",
            "[1, 2, 3, 4, 5, 6, 7, 8, 9, 0, 10, 11, 12, 13, 14, 15]\n",
            "Length of solution:  139\n",
            "Nodes Expanded= 952\n",
            "-----------------------\n",
            "['r', 'r', 'd', 'r', 'd', 'd', 'l', 'u', 'l', 'u', 'l', 'd', 'd', 'r', 'u', 'u', 'u', 'l', 'd', 'r', 'u', 'r', 'r', 'd', 'd', 'l', 'u', 'l', 'd', 'r', 'u', 'l', 'u', 'r', 'r', 'd', 'd', 'l', 'l', 'l', 'u', 'u', 'r', 'd', 'l', 'd', 'd', 'r', 'u', 'u', 'l', 'd', 'd', 'r', 'r', 'r', 'u', 'l', 'd', 'l', 'u', 'r', 'r', 'u', 'u', 'l', 'l', 'd', 'd', 'd', 'r', 'u', 'l', 'u', 'u', 'r', 'r', 'd', 'd', 'l', 'd', 'l', 'u', 'u', 'r', 'u', 'l', 'd', 'r', 'r', 'u', 'l', 'l', 'd', 'r', 'r', 'd', 'l', 'u', 'u', 'r', 'd', 'l', 'd', 'r', 'u', 'l', 'l', 'd', 'r', 'r', 'u', 'l', 'd', 'l', 'l', 'd', 'r', 'u', 'u', 'l', 'd', 'd', 'r', 'u', 'l', 'u', 'r', 'd', 'd', 'l', 'u', 'r']\n",
            "-----------------------\n",
            "[0, 15, 9, 1, 7, 13, 3, 10, 4, 8, 14, 2, 12, 5, 6, 11] \n",
            "\n",
            "[1, 2, 3, 4, 5, 6, 7, 8, 9, 0, 10, 11, 12, 13, 14, 15]\n",
            "Length of solution:  133\n",
            "Nodes Expanded= 1657\n",
            "-----------------------\n",
            "['l', 'u', 'u', 'l', 'l', 'd', 'd', 'r', 'u', 'l', 'u', 'u', 'r', 'r', 'r', 'd', 'd', 'd', 'l', 'l', 'u', 'u', 'l', 'd', 'r', 'u', 'r', 'r', 'd', 'l', 'u', 'r', 'u', 'l', 'd', 'l', 'd', 'r', 'd', 'l', 'u', 'u', 'r', 'd', 'r', 'u', 'l', 'l', 'd', 'd', 'r', 'r', 'u', 'l', 'u', 'l', 'u', 'r', 'r', 'd', 'l', 'd', 'r', 'u', 'u', 'l', 'l', 'l', 'd', 'd', 'r', 'u', 'l', 'u', 'r', 'd', 'd', 'l', 'u', 'r', 'u', 'l', 'd', 'r', 'u', 'r', 'r', 'd', 'l', 'l', 'l', 'u', 'r', 'r', 'd', 'r', 'u', 'l', 'l', 'l', 'd', 'd', 'r', 'd', 'r', 'r', 'u', 'l', 'l', 'd', 'r', 'u', 'r', 'd', 'l', 'u', 'l', 'l', 'd', 'r', 'r', 'u', 'l', 'd', 'l', 'u', 'u', 'u', 'r', 'd', 'd', 'r', 'u', 'l', 'l', 'd', 'r', 'u', 'r', 'd', 'l', 'u', 'u', 'r', 'd', 'd', 'l', 'u', 'r', 'u', 'l', 'd', 'd']\n",
            "-----------------------\n",
            "[11, 4, 2, 3, 6, 7, 10, 13, 5, 8, 14, 9, 15, 12, 1, 0] \n",
            "\n",
            "[1, 2, 3, 4, 5, 6, 7, 8, 9, 0, 10, 11, 12, 13, 14, 15]\n",
            "Length of solution:  153\n",
            "Nodes Expanded= 2354\n",
            "-----------------------\n",
            "-------\n",
            "[('1391546211110514127083', 'lurdruldrruuuldddlluuurddluurrdldldruuldrulddrulurrdlluurrdlldrdrruuulldrurddldlurrdlluldrruuldldrurdlluurddruullddrrrulldlurrurulddruulddrulurddlurulddlldrurrdlllurrdrulldrurdllu', 1908), ('6915132041271410831511', 'uldddruulddrruldlurrdluuuldrrruldrdluldrrulllddruururddluldrrdlluldrruuldlurrulldrrdlulddrurdlluururdllurrdlulddrurdllurrdlulddrurdllurrdrulldrurdllu', 2419), ('1564830714912510112113', 'ulddrdluurddrruuulldrdldrrululdlurulddrruuldldrrulldrurrdldruuldllurdrulldr', 408), ('0108149743122651311151', 'rdddluuurdlurrddlurruldrdlurddluruldluruldlurrdllurddluurdldruuldrrrdllurdruldllurrdllurdrulldrurdl', 486), ('8141227611134013159105', 'druulullddrdruuullddrruullddrdluurdlurrurdllurrdllurdddluluurdldrrulurdrulldrrddluldrurulldrdlulurdrulldrurdllurdrulldrrurdllurdrulld', 2183), ('9414281210111131567035', 'uulddruldrruuulldrddrruulldrdluruldlururdddluurrdldrululddruldrurulldlurrdlurdluldrdrulldrruldluururrdllurdlldrrruuldrdll', 1556), ('6153710048111214213519', 'ldrdluruldruurrdddluluruldrruldlurrddllluurdrrulldrullddrururdddluruldlluurdrrulldldrrruuldrdllluurdldrrulurddluurdldldrurdllurrdrulldrurdllu', 3456), ('0811913213127614151054', 'rdddluurrurdlddlurrdluuurddluldrruulddllurrrdluurddldlulurrdluldrrurdluldrrulllurdldruuldrdldrruldluurdrulldrruldrurdllurrdllurdrulldrurdll', 952), ('0159171331048142125611', 'rrdrddlululddruuuldrurrddluldrulurrddllluurdlddruulddrrruldlurruulldddruluurrddldluuruldrrulldrrdluurdldrulldrruldlldruulddrulurddlur', 1657), ('1142367101358149151210', 'luullddruluurrrdddlluuldrurrdluruldldrdluurdrullddrrululurrdldruulllddrulurddluruldrurrdlllurrdrulllddrdrrulldrurdlulldrruldluuurddrulldrurdluurddluruldd', 2354)]\n"
          ]
        }
      ]
    },
    {
      "cell_type": "markdown",
      "metadata": {
        "id": "TFLhS5QmxRz2"
      },
      "source": [
        "# Domain 2"
      ]
    },
    {
      "cell_type": "code",
      "metadata": {
        "id": "PqDD8fsrxXK7"
      },
      "source": [
        "VectorWorldDim = 10\n",
        "VectorWorld = Problem()\n",
        "VectorWorld.INITIAL = [0]\n",
        "VectorWorld.IsGoal = lambda s: s==[3,] or s==(3,)\n",
        "VectorWorld.Actions = lambda s: ['Left', 'Right']\n",
        "## TileSliding.Result=VectorWorldResult\n",
        "VectorWorld.ActionCost = lambda s, a, sPrime: 1"
      ],
      "execution_count": 38,
      "outputs": []
    },
    {
      "cell_type": "code",
      "metadata": {
        "id": "uWNR8AQJyCN7"
      },
      "source": [
        "def VectorWorldResult(state, action):\n",
        "  if action=='Left':\n",
        "    return [(state[0]+VectorWorldDim-1)%VectorWorldDim]\n",
        "  else:\n",
        "    return [(state[0]+1)%VectorWorldDim]\n",
        "VectorWorld.Result=VectorWorldResult\n"
      ],
      "execution_count": 39,
      "outputs": []
    },
    {
      "cell_type": "code",
      "metadata": {
        "colab": {
          "base_uri": "https://localhost:8080/"
        },
        "id": "Ox26cyPP2xba",
        "outputId": "b08373d3-5801-41af-a262-1542b068085c"
      },
      "source": [
        "print (VectorWorld.IsGoal((3,)))"
      ],
      "execution_count": 40,
      "outputs": [
        {
          "output_type": "stream",
          "name": "stdout",
          "text": [
            "True\n"
          ]
        }
      ]
    },
    {
      "cell_type": "code",
      "metadata": {
        "colab": {
          "base_uri": "https://localhost:8080/"
        },
        "id": "SBfeM9Vbykci",
        "outputId": "aeb4ee29-6f92-4bfb-e67c-afdee7ed6110"
      },
      "source": [
        "ret, cost = BreadthFirstSearch(VectorWorld)\n",
        "print (\"ret=\", ret)\n",
        "sol = Solution(ret)\n",
        "print (sol)\n"
      ],
      "execution_count": 41,
      "outputs": [
        {
          "output_type": "stream",
          "name": "stdout",
          "text": [
            "ret= [3], Right\n",
            "['Right', 'Right', 'Right']\n"
          ]
        }
      ]
    },
    {
      "cell_type": "code",
      "metadata": {
        "id": "dAbJ75Ym4WmP"
      },
      "source": [
        "VectorWorld.INITIAL = [8]"
      ],
      "execution_count": 42,
      "outputs": []
    },
    {
      "cell_type": "code",
      "metadata": {
        "colab": {
          "base_uri": "https://localhost:8080/"
        },
        "id": "QGO1VglP4Zq6",
        "outputId": "62306ca8-24ae-4232-f64d-bf637bbfc452"
      },
      "source": [
        "ret, cost = BreadthFirstSearch(VectorWorld)\n",
        "print (\"ret=\", ret)\n",
        "sol = Solution(ret)\n",
        "print (sol)\n",
        "\n",
        "# ===============================\n",
        "# 🔍 Interpretation of Results\n",
        "# ===============================\n",
        "\n",
        "# The BFS algorithm is guaranteed to find the shortest path but expands more nodes,\n",
        "# especially as puzzle complexity increases (e.g., 4x4, 80-step random walk).\n",
        "\n",
        "# A* with heuristics (especially Manhattan) solves puzzles more efficiently,\n",
        "# expanding fewer nodes due to informed estimates of goal distance.\n",
        "\n",
        "# This demonstrates that as the **problem size increases**, uninformed search\n",
        "# (like BFS) becomes computationally infeasible, whereas **heuristic-based** (informed)\n",
        "# search like A* scales better with problem size.\n",
        "\n",
        "# In AI, this highlights the importance of **heuristics** and **state-space pruning**\n",
        "# when dealing with complex or high-dimensional problems.\n"
      ],
      "execution_count": 43,
      "outputs": [
        {
          "output_type": "stream",
          "name": "stdout",
          "text": [
            "ret= [3], Left\n",
            "['Left', 'Left', 'Left', 'Left', 'Left']\n"
          ]
        }
      ]
    }
  ]
}